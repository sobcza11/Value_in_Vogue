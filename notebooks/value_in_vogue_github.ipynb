{
 "cells": [
  {
   "cell_type": "code",
   "execution_count": 274,
   "id": "422d1754",
   "metadata": {
    "scrolled": true
   },
   "outputs": [
    {
     "name": "stdout",
     "output_type": "stream",
     "text": [
      "C:\\Users\\rands\\_Trading\\Dividend_df\\data\n"
     ]
    }
   ],
   "source": [
    "%cd \"C:\\Users\\rands\\_Trading\\Dividend_df\\data\""
   ]
  },
  {
   "cell_type": "code",
   "execution_count": null,
   "id": "98ec37a4",
   "metadata": {},
   "outputs": [],
   "source": []
  },
  {
   "cell_type": "markdown",
   "id": "c6214d3f",
   "metadata": {},
   "source": [
    "# 2.0 Data Wrangling"
   ]
  },
  {
   "cell_type": "markdown",
   "id": "ff783056",
   "metadata": {},
   "source": [
    "# Table of Contents<a id='#home'></a>\n",
    "* [2.0 Data Wrangling](#data_w)\n",
    "  * [2.1 Contents](#contents)\n",
    "  * [2.2 Imports](#imports)\n",
    "  * [2.3 Pulling in Data](#data_pull)\n",
    "  * [2.4 Conclusion](#data_conclusion)\n"
   ]
  },
  {
   "cell_type": "markdown",
   "id": "988a1b05",
   "metadata": {},
   "source": [
    "**Contents**<a id='contents'></a>"
   ]
  },
  {
   "cell_type": "markdown",
   "id": "a5c4c355",
   "metadata": {},
   "source": [
    "**This dataframe** (\"df\") **is purely to pull ALL combinations of 1 to 4 character's to then send as a \"potential\" traded equity ticker on the following exchanges**:\n",
    "\n",
    "    * Dow Jones Indexes\n",
    "    * S & P Indices\n",
    "    * Nasdaq Stock Exchange\n",
    "\n",
    "Please note, there are \"other\" possible ways to retrieve all of the traded equities in a simpler fashion but **this exercise was built to**:\n",
    "\n",
    "    * Experiment in the Amazon Web Services ( \"AWS\" ) cloud computing platform\n",
    "    \n",
    "**Please note, if you try to run this code you will need to use both at different stages as you will get booted from `investpy` and `yfinance` due to overloading with requests::\n",
    "\n",
    "    * Docker &\n",
    "    * Any VPN \n"
   ]
  },
  {
   "cell_type": "code",
   "execution_count": null,
   "id": "3017605b",
   "metadata": {},
   "outputs": [],
   "source": []
  },
  {
   "cell_type": "markdown",
   "id": "0c21de94",
   "metadata": {},
   "source": [
    "**Imports**<a id='imports'></a>\n",
    "\n",
    "Not much required."
   ]
  },
  {
   "cell_type": "code",
   "execution_count": 275,
   "id": "b1fa2da7",
   "metadata": {},
   "outputs": [],
   "source": [
    "import pandas as pd\n",
    "pd.options.mode.chained_assignment = None\n",
    "import numpy as np\n",
    "import seaborn as sns\n",
    "import matplotlib.pyplot as plt\n",
    "import yfinance as yf\n",
    "import string\n",
    "import os\n",
    "import investpy\n",
    "\n",
    "# today info\n",
    "from datetime import date\n",
    "today = date.today()\n",
    "\n",
    "# beautifulsoup\n",
    "from bs4 import BeautifulSoup as bs\n",
    "import requests\n",
    "\n",
    "# progress bar\n",
    "from tqdm import tqdm\n",
    "\n",
    "# sleep \n",
    "from time import sleep"
   ]
  },
  {
   "cell_type": "markdown",
   "id": "67ac3b83",
   "metadata": {},
   "source": [
    "**Pulling in the Data**<a id='data_pull'></a>\n",
    "\n",
    "Setting up **this is to pull the list of equities on the S&P 500 from the website listed above the code.\"**."
   ]
  },
  {
   "cell_type": "code",
   "execution_count": 276,
   "id": "d9019f7d",
   "metadata": {},
   "outputs": [],
   "source": [
    "# the source\n",
    "url = 'https://en.wikipedia.org/wiki/List_of_S%26P_500_companies'\n",
    "\n",
    "# pulling in the data\n",
    "wiki_list = pd.read_html(url)\n",
    "\n",
    "# making it a dataframe\n",
    "wiki_df = wiki_list[0] "
   ]
  },
  {
   "cell_type": "code",
   "execution_count": 277,
   "id": "5510ca96",
   "metadata": {},
   "outputs": [
    {
     "data": {
      "text/html": [
       "<div>\n",
       "<style scoped>\n",
       "    .dataframe tbody tr th:only-of-type {\n",
       "        vertical-align: middle;\n",
       "    }\n",
       "\n",
       "    .dataframe tbody tr th {\n",
       "        vertical-align: top;\n",
       "    }\n",
       "\n",
       "    .dataframe thead th {\n",
       "        text-align: right;\n",
       "    }\n",
       "</style>\n",
       "<table border=\"1\" class=\"dataframe\">\n",
       "  <thead>\n",
       "    <tr style=\"text-align: right;\">\n",
       "      <th></th>\n",
       "      <th>Symbol</th>\n",
       "      <th>Security</th>\n",
       "      <th>SEC filings</th>\n",
       "      <th>GICS Sector</th>\n",
       "      <th>GICS Sub-Industry</th>\n",
       "      <th>Headquarters Location</th>\n",
       "      <th>Date first added</th>\n",
       "      <th>CIK</th>\n",
       "      <th>Founded</th>\n",
       "    </tr>\n",
       "  </thead>\n",
       "  <tbody>\n",
       "    <tr>\n",
       "      <th>0</th>\n",
       "      <td>MMM</td>\n",
       "      <td>3M</td>\n",
       "      <td>reports</td>\n",
       "      <td>Industrials</td>\n",
       "      <td>Industrial Conglomerates</td>\n",
       "      <td>Saint Paul, Minnesota</td>\n",
       "      <td>1976-08-09</td>\n",
       "      <td>66740</td>\n",
       "      <td>1902</td>\n",
       "    </tr>\n",
       "    <tr>\n",
       "      <th>1</th>\n",
       "      <td>AOS</td>\n",
       "      <td>A. O. Smith</td>\n",
       "      <td>reports</td>\n",
       "      <td>Industrials</td>\n",
       "      <td>Building Products</td>\n",
       "      <td>Milwaukee, Wisconsin</td>\n",
       "      <td>2017-07-26</td>\n",
       "      <td>91142</td>\n",
       "      <td>1916</td>\n",
       "    </tr>\n",
       "  </tbody>\n",
       "</table>\n",
       "</div>"
      ],
      "text/plain": [
       "  Symbol     Security SEC filings  GICS Sector         GICS Sub-Industry  \\\n",
       "0    MMM           3M     reports  Industrials  Industrial Conglomerates   \n",
       "1    AOS  A. O. Smith     reports  Industrials         Building Products   \n",
       "\n",
       "   Headquarters Location Date first added    CIK Founded  \n",
       "0  Saint Paul, Minnesota       1976-08-09  66740    1902  \n",
       "1   Milwaukee, Wisconsin       2017-07-26  91142    1916  "
      ]
     },
     "execution_count": 277,
     "metadata": {},
     "output_type": "execute_result"
    }
   ],
   "source": [
    "wiki_df.head(2)"
   ]
  },
  {
   "cell_type": "code",
   "execution_count": 278,
   "id": "6f31da2b",
   "metadata": {},
   "outputs": [
    {
     "data": {
      "text/html": [
       "<div>\n",
       "<style scoped>\n",
       "    .dataframe tbody tr th:only-of-type {\n",
       "        vertical-align: middle;\n",
       "    }\n",
       "\n",
       "    .dataframe tbody tr th {\n",
       "        vertical-align: top;\n",
       "    }\n",
       "\n",
       "    .dataframe thead th {\n",
       "        text-align: right;\n",
       "    }\n",
       "</style>\n",
       "<table border=\"1\" class=\"dataframe\">\n",
       "  <thead>\n",
       "    <tr style=\"text-align: right;\">\n",
       "      <th></th>\n",
       "      <th>Symbol</th>\n",
       "    </tr>\n",
       "  </thead>\n",
       "  <tbody>\n",
       "    <tr>\n",
       "      <th>0</th>\n",
       "      <td>MMM</td>\n",
       "    </tr>\n",
       "    <tr>\n",
       "      <th>1</th>\n",
       "      <td>AOS</td>\n",
       "    </tr>\n",
       "  </tbody>\n",
       "</table>\n",
       "</div>"
      ],
      "text/plain": [
       "  Symbol\n",
       "0    MMM\n",
       "1    AOS"
      ]
     },
     "execution_count": 278,
     "metadata": {},
     "output_type": "execute_result"
    }
   ],
   "source": [
    "# we only want the symbol to start; the others & more with yfinance\n",
    "df_symb = pd.DataFrame([])\n",
    "df_symb = pd.DataFrame(wiki_df['Symbol'])\n",
    "df_symb.head(2)"
   ]
  },
  {
   "cell_type": "code",
   "execution_count": 279,
   "id": "23d6e7de",
   "metadata": {},
   "outputs": [
    {
     "data": {
      "text/plain": [
       "505"
      ]
     },
     "execution_count": 279,
     "metadata": {},
     "output_type": "execute_result"
    }
   ],
   "source": [
    "# checking to see how many we have \n",
    "len(df_symb)"
   ]
  },
  {
   "cell_type": "code",
   "execution_count": 280,
   "id": "203ccefd",
   "metadata": {},
   "outputs": [
    {
     "name": "stdout",
     "output_type": "stream",
     "text": [
      "<class 'pandas.core.frame.DataFrame'>\n",
      "RangeIndex: 505 entries, 0 to 504\n",
      "Data columns (total 1 columns):\n",
      " #   Column  Non-Null Count  Dtype \n",
      "---  ------  --------------  ----- \n",
      " 0   Symbol  505 non-null    object\n",
      "dtypes: object(1)\n",
      "memory usage: 4.1+ KB\n"
     ]
    }
   ],
   "source": [
    "df_symb.info()"
   ]
  },
  {
   "cell_type": "code",
   "execution_count": 281,
   "id": "f576a56f",
   "metadata": {},
   "outputs": [],
   "source": [
    "# converting it to a string\n",
    "df_symb['Symbol'] = df_symb['Symbol'].astype('string')"
   ]
  },
  {
   "cell_type": "code",
   "execution_count": 282,
   "id": "8ad79a20",
   "metadata": {},
   "outputs": [
    {
     "name": "stdout",
     "output_type": "stream",
     "text": [
      "<class 'pandas.core.frame.DataFrame'>\n",
      "RangeIndex: 505 entries, 0 to 504\n",
      "Data columns (total 1 columns):\n",
      " #   Column  Non-Null Count  Dtype \n",
      "---  ------  --------------  ----- \n",
      " 0   Symbol  505 non-null    string\n",
      "dtypes: string(1)\n",
      "memory usage: 4.1 KB\n"
     ]
    }
   ],
   "source": [
    "df_symb.info()"
   ]
  },
  {
   "cell_type": "code",
   "execution_count": 283,
   "id": "e4d6e50d",
   "metadata": {},
   "outputs": [
    {
     "data": {
      "text/html": [
       "<div>\n",
       "<style scoped>\n",
       "    .dataframe tbody tr th:only-of-type {\n",
       "        vertical-align: middle;\n",
       "    }\n",
       "\n",
       "    .dataframe tbody tr th {\n",
       "        vertical-align: top;\n",
       "    }\n",
       "\n",
       "    .dataframe thead th {\n",
       "        text-align: right;\n",
       "    }\n",
       "</style>\n",
       "<table border=\"1\" class=\"dataframe\">\n",
       "  <thead>\n",
       "    <tr style=\"text-align: right;\">\n",
       "      <th></th>\n",
       "      <th>Symbol</th>\n",
       "    </tr>\n",
       "  </thead>\n",
       "  <tbody>\n",
       "    <tr>\n",
       "      <th>0</th>\n",
       "      <td>MMM</td>\n",
       "    </tr>\n",
       "    <tr>\n",
       "      <th>1</th>\n",
       "      <td>AOS</td>\n",
       "    </tr>\n",
       "  </tbody>\n",
       "</table>\n",
       "</div>"
      ],
      "text/plain": [
       "  Symbol\n",
       "0    MMM\n",
       "1    AOS"
      ]
     },
     "execution_count": 283,
     "metadata": {},
     "output_type": "execute_result"
    }
   ],
   "source": [
    "df_symb.head(2)"
   ]
  },
  {
   "cell_type": "code",
   "execution_count": null,
   "id": "5759ebc3",
   "metadata": {},
   "outputs": [],
   "source": []
  },
  {
   "cell_type": "markdown",
   "id": "2a3901ef",
   "metadata": {},
   "source": [
    "**Pulling in the dividends** with the help of yfinance."
   ]
  },
  {
   "cell_type": "code",
   "execution_count": 284,
   "id": "33707d69",
   "metadata": {},
   "outputs": [
    {
     "name": "stderr",
     "output_type": "stream",
     "text": [
      "100%|██████████| 505/505 [43:39<00:00,  5.19s/it]\n"
     ]
    }
   ],
   "source": [
    "# THIS IS THE YFINANCE STRUCTURE\n",
    "sy = []\n",
    "ln = []\n",
    "div = []\n",
    "\n",
    "# I will run a \"for loop to pull the data\"\n",
    "for i in tqdm(range(0,len(df_symb))):\n",
    "    ch = yf.Ticker(df_symb['Symbol'][i])\n",
    "    \n",
    "    if len(ch.info['logo_url'])>0:\n",
    "        sy.append(ch.info['symbol'])                  \n",
    "        ln.append(ch.info['longName'])\n",
    "        div.append(ch.info['dividendRate'])\n"
   ]
  },
  {
   "cell_type": "code",
   "execution_count": 285,
   "id": "d01822e5",
   "metadata": {},
   "outputs": [],
   "source": [
    "# sending both to a dataframe\n",
    "df = pd.DataFrame([])\n",
    "df['symbol'] = sy\n",
    "df['name'] = ln\n",
    "df['dividend'] = div"
   ]
  },
  {
   "cell_type": "code",
   "execution_count": 286,
   "id": "dce7c5a4",
   "metadata": {},
   "outputs": [
    {
     "name": "stdout",
     "output_type": "stream",
     "text": [
      "<class 'pandas.core.frame.DataFrame'>\n",
      "RangeIndex: 501 entries, 0 to 500\n",
      "Data columns (total 3 columns):\n",
      " #   Column    Non-Null Count  Dtype  \n",
      "---  ------    --------------  -----  \n",
      " 0   symbol    501 non-null    object \n",
      " 1   name      501 non-null    object \n",
      " 2   dividend  391 non-null    float64\n",
      "dtypes: float64(1), object(2)\n",
      "memory usage: 11.9+ KB\n"
     ]
    }
   ],
   "source": [
    "df.info()"
   ]
  },
  {
   "cell_type": "code",
   "execution_count": 287,
   "id": "0f9a69fd",
   "metadata": {},
   "outputs": [
    {
     "name": "stdout",
     "output_type": "stream",
     "text": [
      "<class 'pandas.core.frame.DataFrame'>\n",
      "Int64Index: 391 entries, 0 to 500\n",
      "Data columns (total 3 columns):\n",
      " #   Column    Non-Null Count  Dtype  \n",
      "---  ------    --------------  -----  \n",
      " 0   symbol    391 non-null    object \n",
      " 1   name      391 non-null    object \n",
      " 2   dividend  391 non-null    float64\n",
      "dtypes: float64(1), object(2)\n",
      "memory usage: 12.2+ KB\n"
     ]
    }
   ],
   "source": [
    "# dropping all those that aren't paying a dividend today\n",
    "df_w_div = pd.DataFrame([])\n",
    "df_w_div = df[df['dividend'].notna()]\n",
    "df_w_div.info()"
   ]
  },
  {
   "cell_type": "code",
   "execution_count": 288,
   "id": "8e0035ec",
   "metadata": {},
   "outputs": [
    {
     "name": "stdout",
     "output_type": "stream",
     "text": [
      "After removing those that aren't paying a dividend now, have 391 assets; representing 78.04% of the S&P 500\n"
     ]
    }
   ],
   "source": [
    "print('After removing those that aren\\'t paying a dividend now, have',len(df_w_div),'assets; representing',\n",
    "     \"{}%\".format(round(((len(df_w_div)/len(df))*100),2)),'of the S&P 500')"
   ]
  },
  {
   "cell_type": "code",
   "execution_count": 289,
   "id": "687e5b05",
   "metadata": {},
   "outputs": [
    {
     "data": {
      "text/html": [
       "<div>\n",
       "<style scoped>\n",
       "    .dataframe tbody tr th:only-of-type {\n",
       "        vertical-align: middle;\n",
       "    }\n",
       "\n",
       "    .dataframe tbody tr th {\n",
       "        vertical-align: top;\n",
       "    }\n",
       "\n",
       "    .dataframe thead th {\n",
       "        text-align: right;\n",
       "    }\n",
       "</style>\n",
       "<table border=\"1\" class=\"dataframe\">\n",
       "  <thead>\n",
       "    <tr style=\"text-align: right;\">\n",
       "      <th></th>\n",
       "      <th>symbol</th>\n",
       "      <th>name</th>\n",
       "      <th>dividend</th>\n",
       "    </tr>\n",
       "  </thead>\n",
       "  <tbody>\n",
       "    <tr>\n",
       "      <th>0</th>\n",
       "      <td>MMM</td>\n",
       "      <td>3M Company</td>\n",
       "      <td>5.92</td>\n",
       "    </tr>\n",
       "    <tr>\n",
       "      <th>1</th>\n",
       "      <td>AOS</td>\n",
       "      <td>A. O. Smith Corporation</td>\n",
       "      <td>1.12</td>\n",
       "    </tr>\n",
       "    <tr>\n",
       "      <th>2</th>\n",
       "      <td>ABT</td>\n",
       "      <td>Abbott Laboratories</td>\n",
       "      <td>1.88</td>\n",
       "    </tr>\n",
       "  </tbody>\n",
       "</table>\n",
       "</div>"
      ],
      "text/plain": [
       "  symbol                     name  dividend\n",
       "0    MMM               3M Company      5.92\n",
       "1    AOS  A. O. Smith Corporation      1.12\n",
       "2    ABT      Abbott Laboratories      1.88"
      ]
     },
     "execution_count": 289,
     "metadata": {},
     "output_type": "execute_result"
    }
   ],
   "source": [
    "df_w_div.head(3)"
   ]
  },
  {
   "cell_type": "code",
   "execution_count": null,
   "id": "1bab21b2",
   "metadata": {},
   "outputs": [],
   "source": []
  },
  {
   "cell_type": "markdown",
   "id": "a3b40a88",
   "metadata": {},
   "source": [
    "**Dow Jones**\n",
    "\n",
    "We will undertake the same process with the Dow Jones Industrial Average."
   ]
  },
  {
   "cell_type": "code",
   "execution_count": 290,
   "id": "fd13aa13",
   "metadata": {},
   "outputs": [],
   "source": [
    "d_wiki = 'https://en.wikipedia.org/wiki/Dow_Jones_Industrial_Average' \n",
    "d = pd.read_html(d_wiki)"
   ]
  },
  {
   "cell_type": "code",
   "execution_count": 291,
   "id": "98d78193",
   "metadata": {},
   "outputs": [
    {
     "data": {
      "text/html": [
       "<div>\n",
       "<style scoped>\n",
       "    .dataframe tbody tr th:only-of-type {\n",
       "        vertical-align: middle;\n",
       "    }\n",
       "\n",
       "    .dataframe tbody tr th {\n",
       "        vertical-align: top;\n",
       "    }\n",
       "\n",
       "    .dataframe thead th {\n",
       "        text-align: right;\n",
       "    }\n",
       "</style>\n",
       "<table border=\"1\" class=\"dataframe\">\n",
       "  <thead>\n",
       "    <tr style=\"text-align: right;\">\n",
       "      <th></th>\n",
       "      <th>Company</th>\n",
       "      <th>Exchange</th>\n",
       "      <th>Symbol</th>\n",
       "      <th>Industry</th>\n",
       "      <th>Date added</th>\n",
       "      <th>Notes</th>\n",
       "      <th>Index weighting</th>\n",
       "    </tr>\n",
       "  </thead>\n",
       "  <tbody>\n",
       "    <tr>\n",
       "      <th>0</th>\n",
       "      <td>3M</td>\n",
       "      <td>NYSE</td>\n",
       "      <td>MMM</td>\n",
       "      <td>Conglomerate</td>\n",
       "      <td>1976-08-09</td>\n",
       "      <td>As Minnesota Mining and Manufacturing</td>\n",
       "      <td>3.38%</td>\n",
       "    </tr>\n",
       "    <tr>\n",
       "      <th>1</th>\n",
       "      <td>American Express</td>\n",
       "      <td>NYSE</td>\n",
       "      <td>AXP</td>\n",
       "      <td>Financial services</td>\n",
       "      <td>1982-08-30</td>\n",
       "      <td>NaN</td>\n",
       "      <td>3.29%</td>\n",
       "    </tr>\n",
       "    <tr>\n",
       "      <th>2</th>\n",
       "      <td>Amgen</td>\n",
       "      <td>NASDAQ</td>\n",
       "      <td>AMGN</td>\n",
       "      <td>Biopharmaceutical</td>\n",
       "      <td>2020-08-31</td>\n",
       "      <td>NaN</td>\n",
       "      <td>3.84%</td>\n",
       "    </tr>\n",
       "  </tbody>\n",
       "</table>\n",
       "</div>"
      ],
      "text/plain": [
       "            Company Exchange Symbol            Industry  Date added  \\\n",
       "0                3M     NYSE    MMM        Conglomerate  1976-08-09   \n",
       "1  American Express     NYSE    AXP  Financial services  1982-08-30   \n",
       "2             Amgen   NASDAQ   AMGN   Biopharmaceutical  2020-08-31   \n",
       "\n",
       "                                   Notes Index weighting  \n",
       "0  As Minnesota Mining and Manufacturing           3.38%  \n",
       "1                                    NaN           3.29%  \n",
       "2                                    NaN           3.84%  "
      ]
     },
     "execution_count": 291,
     "metadata": {},
     "output_type": "execute_result"
    }
   ],
   "source": [
    "d[1].head(3)"
   ]
  },
  {
   "cell_type": "code",
   "execution_count": 292,
   "id": "8d24c49b",
   "metadata": {},
   "outputs": [
    {
     "data": {
      "text/html": [
       "<div>\n",
       "<style scoped>\n",
       "    .dataframe tbody tr th:only-of-type {\n",
       "        vertical-align: middle;\n",
       "    }\n",
       "\n",
       "    .dataframe tbody tr th {\n",
       "        vertical-align: top;\n",
       "    }\n",
       "\n",
       "    .dataframe thead th {\n",
       "        text-align: right;\n",
       "    }\n",
       "</style>\n",
       "<table border=\"1\" class=\"dataframe\">\n",
       "  <thead>\n",
       "    <tr style=\"text-align: right;\">\n",
       "      <th></th>\n",
       "      <th>Symbol</th>\n",
       "    </tr>\n",
       "  </thead>\n",
       "  <tbody>\n",
       "    <tr>\n",
       "      <th>0</th>\n",
       "      <td>MMM</td>\n",
       "    </tr>\n",
       "    <tr>\n",
       "      <th>1</th>\n",
       "      <td>AXP</td>\n",
       "    </tr>\n",
       "  </tbody>\n",
       "</table>\n",
       "</div>"
      ],
      "text/plain": [
       "  Symbol\n",
       "0    MMM\n",
       "1    AXP"
      ]
     },
     "execution_count": 292,
     "metadata": {},
     "output_type": "execute_result"
    }
   ],
   "source": [
    "# we only want the symbol to start; the others & more with yfinance\n",
    "df_d_symb = pd.DataFrame([])\n",
    "df_d_symb = pd.DataFrame(d[1]['Symbol'])\n",
    "df_d_symb.head(2)"
   ]
  },
  {
   "cell_type": "code",
   "execution_count": 293,
   "id": "b6b24bb6",
   "metadata": {},
   "outputs": [
    {
     "name": "stdout",
     "output_type": "stream",
     "text": [
      "<class 'pandas.core.frame.DataFrame'>\n",
      "RangeIndex: 30 entries, 0 to 29\n",
      "Data columns (total 1 columns):\n",
      " #   Column  Non-Null Count  Dtype \n",
      "---  ------  --------------  ----- \n",
      " 0   Symbol  30 non-null     object\n",
      "dtypes: object(1)\n",
      "memory usage: 368.0+ bytes\n"
     ]
    }
   ],
   "source": [
    "df_d_symb.info()"
   ]
  },
  {
   "cell_type": "markdown",
   "id": "70ee3a49",
   "metadata": {},
   "source": [
    "Before we proceed, let's double check to see if there is any equity in the Dow that is not in the S&P 500."
   ]
  },
  {
   "cell_type": "code",
   "execution_count": 294,
   "id": "ff897ac7",
   "metadata": {},
   "outputs": [],
   "source": [
    "df_d_symb['in_sp'] = df_d_symb.Symbol.isin(df.symbol).astype(object)"
   ]
  },
  {
   "cell_type": "code",
   "execution_count": 295,
   "id": "619dd83b",
   "metadata": {},
   "outputs": [
    {
     "data": {
      "text/html": [
       "<div>\n",
       "<style scoped>\n",
       "    .dataframe tbody tr th:only-of-type {\n",
       "        vertical-align: middle;\n",
       "    }\n",
       "\n",
       "    .dataframe tbody tr th {\n",
       "        vertical-align: top;\n",
       "    }\n",
       "\n",
       "    .dataframe thead th {\n",
       "        text-align: right;\n",
       "    }\n",
       "</style>\n",
       "<table border=\"1\" class=\"dataframe\">\n",
       "  <thead>\n",
       "    <tr style=\"text-align: right;\">\n",
       "      <th></th>\n",
       "      <th>Symbol</th>\n",
       "      <th>in_sp</th>\n",
       "    </tr>\n",
       "  </thead>\n",
       "  <tbody>\n",
       "    <tr>\n",
       "      <th>0</th>\n",
       "      <td>MMM</td>\n",
       "      <td>True</td>\n",
       "    </tr>\n",
       "    <tr>\n",
       "      <th>1</th>\n",
       "      <td>AXP</td>\n",
       "      <td>True</td>\n",
       "    </tr>\n",
       "  </tbody>\n",
       "</table>\n",
       "</div>"
      ],
      "text/plain": [
       "  Symbol in_sp\n",
       "0    MMM  True\n",
       "1    AXP  True"
      ]
     },
     "execution_count": 295,
     "metadata": {},
     "output_type": "execute_result"
    }
   ],
   "source": [
    "df_d_symb.head(2)"
   ]
  },
  {
   "cell_type": "code",
   "execution_count": 296,
   "id": "fa95e0db",
   "metadata": {},
   "outputs": [
    {
     "name": "stdout",
     "output_type": "stream",
     "text": [
      "1 | It appears there is one in the Dow Jones thats not in the original S&P 500 dataframe\n"
     ]
    }
   ],
   "source": [
    "print(len(df_d_symb) - df_d_symb['in_sp'].sum(),'| It appears there is one in the Dow Jones thats not in the original S&P 500 dataframe')"
   ]
  },
  {
   "cell_type": "code",
   "execution_count": 297,
   "id": "3f6de149",
   "metadata": {},
   "outputs": [
    {
     "data": {
      "text/html": [
       "<div>\n",
       "<style scoped>\n",
       "    .dataframe tbody tr th:only-of-type {\n",
       "        vertical-align: middle;\n",
       "    }\n",
       "\n",
       "    .dataframe tbody tr th {\n",
       "        vertical-align: top;\n",
       "    }\n",
       "\n",
       "    .dataframe thead th {\n",
       "        text-align: right;\n",
       "    }\n",
       "</style>\n",
       "<table border=\"1\" class=\"dataframe\">\n",
       "  <thead>\n",
       "    <tr style=\"text-align: right;\">\n",
       "      <th></th>\n",
       "      <th>Symbol</th>\n",
       "      <th>in_sp</th>\n",
       "    </tr>\n",
       "  </thead>\n",
       "  <tbody>\n",
       "    <tr>\n",
       "      <th>27</th>\n",
       "      <td>V</td>\n",
       "      <td>False</td>\n",
       "    </tr>\n",
       "  </tbody>\n",
       "</table>\n",
       "</div>"
      ],
      "text/plain": [
       "   Symbol  in_sp\n",
       "27      V  False"
      ]
     },
     "execution_count": 297,
     "metadata": {},
     "output_type": "execute_result"
    }
   ],
   "source": [
    "# showing which one\n",
    "df_d_symb[df_d_symb.in_sp.astype(str).str.contains('False')]"
   ]
  },
  {
   "cell_type": "code",
   "execution_count": 298,
   "id": "e8dfe67c",
   "metadata": {},
   "outputs": [],
   "source": [
    "# lets check what it is & if it pays a dividend today :: first, send the symbol to a string\n",
    "shrt_l = df_d_symb[df_d_symb.in_sp.astype(str).str.contains('False')]['Symbol'][27]\n",
    "shrt_l = str(shrt_l)\n",
    "\n",
    "# pull in the info from yfinance\n",
    "shrt_l_yf = yf.Ticker(shrt_l)\n",
    "shrt_n = shrt_l_yf.info['shortName']\n",
    "shrt_d = shrt_l_yf.info['dividendRate']\n",
    "\n",
    "# send to dataframe\n",
    "shrt_df = pd.DataFrame([])\n",
    "shrt_df['symbol'] = df_d_symb[df_d_symb.in_sp.astype(str).str.contains('False')]['Symbol']\n",
    "shrt_df = shrt_df.reset_index()\n",
    "shrt_df = shrt_df.drop(columns=['index'])\n",
    "shrt_df['name'] = shrt_n\n",
    "shrt_df['dividend'] = shrt_d"
   ]
  },
  {
   "cell_type": "code",
   "execution_count": 299,
   "id": "a31582ea",
   "metadata": {},
   "outputs": [
    {
     "name": "stdout",
     "output_type": "stream",
     "text": [
      "Sending to the df_w_div dataframe as it has a dividend but as a reminder that dataframe has 391 equities as it stands\n"
     ]
    }
   ],
   "source": [
    "# sending to the df_w_div dataframe as it has a dividend but as a reminder that dataframe has...\n",
    "print('Sending to the df_w_div dataframe as it has a dividend but as a reminder that dataframe has',len(df_w_div),\n",
    "     'equities as it stands')"
   ]
  },
  {
   "cell_type": "code",
   "execution_count": 300,
   "id": "642b777f",
   "metadata": {},
   "outputs": [],
   "source": [
    "# now sending to the main df called df_w_div\n",
    "df_w_div = df_w_div.append(shrt_df, ignore_index = True)"
   ]
  },
  {
   "cell_type": "code",
   "execution_count": 301,
   "id": "0885411d",
   "metadata": {},
   "outputs": [
    {
     "data": {
      "text/html": [
       "<div>\n",
       "<style scoped>\n",
       "    .dataframe tbody tr th:only-of-type {\n",
       "        vertical-align: middle;\n",
       "    }\n",
       "\n",
       "    .dataframe tbody tr th {\n",
       "        vertical-align: top;\n",
       "    }\n",
       "\n",
       "    .dataframe thead th {\n",
       "        text-align: right;\n",
       "    }\n",
       "</style>\n",
       "<table border=\"1\" class=\"dataframe\">\n",
       "  <thead>\n",
       "    <tr style=\"text-align: right;\">\n",
       "      <th></th>\n",
       "      <th>symbol</th>\n",
       "      <th>name</th>\n",
       "      <th>dividend</th>\n",
       "    </tr>\n",
       "  </thead>\n",
       "  <tbody>\n",
       "    <tr>\n",
       "      <th>390</th>\n",
       "      <td>ZTS</td>\n",
       "      <td>Zoetis Inc.</td>\n",
       "      <td>1.3</td>\n",
       "    </tr>\n",
       "    <tr>\n",
       "      <th>391</th>\n",
       "      <td>V</td>\n",
       "      <td>Visa Inc.</td>\n",
       "      <td>NaN</td>\n",
       "    </tr>\n",
       "  </tbody>\n",
       "</table>\n",
       "</div>"
      ],
      "text/plain": [
       "    symbol         name  dividend\n",
       "390    ZTS  Zoetis Inc.       1.3\n",
       "391      V    Visa Inc.       NaN"
      ]
     },
     "execution_count": 301,
     "metadata": {},
     "output_type": "execute_result"
    }
   ],
   "source": [
    "df_w_div.tail(2)"
   ]
  },
  {
   "cell_type": "markdown",
   "id": "ecdfdd1e",
   "metadata": {},
   "source": [
    "Complete"
   ]
  },
  {
   "cell_type": "code",
   "execution_count": null,
   "id": "bd005139",
   "metadata": {},
   "outputs": [],
   "source": []
  },
  {
   "cell_type": "markdown",
   "id": "8d7f5c94",
   "metadata": {},
   "source": [
    "**iShares Russell 1000 Value ETF**\n",
    "\n",
    "Last but not least, the Value Index; this is different as it:\n",
    "\n",
    "    * Will be handled with BeautifulSoup\n",
    "    * Is much larger\n",
    "    * Will be handled carefully\n",
    "\n",
    "I will walk slowly."
   ]
  },
  {
   "cell_type": "code",
   "execution_count": 302,
   "id": "b63051dd",
   "metadata": {},
   "outputs": [],
   "source": [
    "# Establishing the url to which the information lays\n",
    "v_index = 'https://www.ishares.com/us/products/239708/ishares-russell-1000-value-etf'.format(d)"
   ]
  },
  {
   "cell_type": "code",
   "execution_count": 303,
   "id": "5108d087",
   "metadata": {
    "scrolled": false
   },
   "outputs": [],
   "source": [
    "rus = pd.read_excel('./IWD_holdings.xlsm')"
   ]
  },
  {
   "cell_type": "code",
   "execution_count": 304,
   "id": "666da08a",
   "metadata": {
    "scrolled": true
   },
   "outputs": [
    {
     "data": {
      "text/html": [
       "<div>\n",
       "<style scoped>\n",
       "    .dataframe tbody tr th:only-of-type {\n",
       "        vertical-align: middle;\n",
       "    }\n",
       "\n",
       "    .dataframe tbody tr th {\n",
       "        vertical-align: top;\n",
       "    }\n",
       "\n",
       "    .dataframe thead th {\n",
       "        text-align: right;\n",
       "    }\n",
       "</style>\n",
       "<table border=\"1\" class=\"dataframe\">\n",
       "  <thead>\n",
       "    <tr style=\"text-align: right;\">\n",
       "      <th></th>\n",
       "      <th>Ticker</th>\n",
       "      <th>Name</th>\n",
       "      <th>Sector</th>\n",
       "      <th>Asset Class</th>\n",
       "      <th>Market Value</th>\n",
       "      <th>Weight (%)</th>\n",
       "      <th>Notional Value</th>\n",
       "      <th>Shares</th>\n",
       "      <th>Price</th>\n",
       "      <th>Location</th>\n",
       "      <th>Exchange</th>\n",
       "      <th>Currency</th>\n",
       "      <th>FX Rate</th>\n",
       "      <th>Market Currency</th>\n",
       "      <th>Accrual Date</th>\n",
       "    </tr>\n",
       "  </thead>\n",
       "  <tbody>\n",
       "    <tr>\n",
       "      <th>0</th>\n",
       "      <td>BRKB</td>\n",
       "      <td>BERKSHIRE HATHAWAY INC CLASS B</td>\n",
       "      <td>Financials</td>\n",
       "      <td>Equity</td>\n",
       "      <td>1.592621e+09</td>\n",
       "      <td>2.64</td>\n",
       "      <td>1.592621e+09</td>\n",
       "      <td>5161964</td>\n",
       "      <td>308.53</td>\n",
       "      <td>United States</td>\n",
       "      <td>New York Stock Exchange Inc.</td>\n",
       "      <td>USD</td>\n",
       "      <td>1</td>\n",
       "      <td>USD</td>\n",
       "      <td>-</td>\n",
       "    </tr>\n",
       "    <tr>\n",
       "      <th>1</th>\n",
       "      <td>JPM</td>\n",
       "      <td>JPMORGAN CHASE &amp; CO</td>\n",
       "      <td>Financials</td>\n",
       "      <td>Equity</td>\n",
       "      <td>1.386840e+09</td>\n",
       "      <td>2.30</td>\n",
       "      <td>1.386840e+09</td>\n",
       "      <td>8263364</td>\n",
       "      <td>167.83</td>\n",
       "      <td>United States</td>\n",
       "      <td>New York Stock Exchange Inc.</td>\n",
       "      <td>USD</td>\n",
       "      <td>1</td>\n",
       "      <td>USD</td>\n",
       "      <td>-</td>\n",
       "    </tr>\n",
       "    <tr>\n",
       "      <th>2</th>\n",
       "      <td>JNJ</td>\n",
       "      <td>JOHNSON &amp; JOHNSON</td>\n",
       "      <td>Health Care</td>\n",
       "      <td>Equity</td>\n",
       "      <td>1.268650e+09</td>\n",
       "      <td>2.10</td>\n",
       "      <td>1.268650e+09</td>\n",
       "      <td>7415536</td>\n",
       "      <td>171.08</td>\n",
       "      <td>United States</td>\n",
       "      <td>New York Stock Exchange Inc.</td>\n",
       "      <td>USD</td>\n",
       "      <td>1</td>\n",
       "      <td>USD</td>\n",
       "      <td>-</td>\n",
       "    </tr>\n",
       "  </tbody>\n",
       "</table>\n",
       "</div>"
      ],
      "text/plain": [
       "  Ticker                            Name       Sector Asset Class  \\\n",
       "0   BRKB  BERKSHIRE HATHAWAY INC CLASS B   Financials      Equity   \n",
       "1    JPM             JPMORGAN CHASE & CO   Financials      Equity   \n",
       "2    JNJ               JOHNSON & JOHNSON  Health Care      Equity   \n",
       "\n",
       "   Market Value  Weight (%)  Notional Value   Shares   Price       Location  \\\n",
       "0  1.592621e+09        2.64    1.592621e+09  5161964  308.53  United States   \n",
       "1  1.386840e+09        2.30    1.386840e+09  8263364  167.83  United States   \n",
       "2  1.268650e+09        2.10    1.268650e+09  7415536  171.08  United States   \n",
       "\n",
       "                       Exchange Currency  FX Rate Market Currency Accrual Date  \n",
       "0  New York Stock Exchange Inc.      USD        1             USD            -  \n",
       "1  New York Stock Exchange Inc.      USD        1             USD            -  \n",
       "2  New York Stock Exchange Inc.      USD        1             USD            -  "
      ]
     },
     "execution_count": 304,
     "metadata": {},
     "output_type": "execute_result"
    }
   ],
   "source": [
    "rus.head(3)"
   ]
  },
  {
   "cell_type": "code",
   "execution_count": 305,
   "id": "67fae072",
   "metadata": {},
   "outputs": [],
   "source": [
    "rus_tick = pd.DataFrame([])\n",
    "rus_tick = pd.DataFrame(rus['Ticker'])"
   ]
  },
  {
   "cell_type": "code",
   "execution_count": 306,
   "id": "781c6e31",
   "metadata": {},
   "outputs": [
    {
     "data": {
      "text/html": [
       "<div>\n",
       "<style scoped>\n",
       "    .dataframe tbody tr th:only-of-type {\n",
       "        vertical-align: middle;\n",
       "    }\n",
       "\n",
       "    .dataframe tbody tr th {\n",
       "        vertical-align: top;\n",
       "    }\n",
       "\n",
       "    .dataframe thead th {\n",
       "        text-align: right;\n",
       "    }\n",
       "</style>\n",
       "<table border=\"1\" class=\"dataframe\">\n",
       "  <thead>\n",
       "    <tr style=\"text-align: right;\">\n",
       "      <th></th>\n",
       "      <th>Ticker</th>\n",
       "    </tr>\n",
       "  </thead>\n",
       "  <tbody>\n",
       "    <tr>\n",
       "      <th>0</th>\n",
       "      <td>BRKB</td>\n",
       "    </tr>\n",
       "    <tr>\n",
       "      <th>1</th>\n",
       "      <td>JPM</td>\n",
       "    </tr>\n",
       "    <tr>\n",
       "      <th>2</th>\n",
       "      <td>JNJ</td>\n",
       "    </tr>\n",
       "  </tbody>\n",
       "</table>\n",
       "</div>"
      ],
      "text/plain": [
       "  Ticker\n",
       "0   BRKB\n",
       "1    JPM\n",
       "2    JNJ"
      ]
     },
     "execution_count": 306,
     "metadata": {},
     "output_type": "execute_result"
    }
   ],
   "source": [
    "rus_tick.head(3)"
   ]
  },
  {
   "cell_type": "code",
   "execution_count": 307,
   "id": "83bc5e8d",
   "metadata": {},
   "outputs": [
    {
     "data": {
      "text/plain": [
       "859"
      ]
     },
     "execution_count": 307,
     "metadata": {},
     "output_type": "execute_result"
    }
   ],
   "source": [
    "len(rus_tick)"
   ]
  },
  {
   "cell_type": "code",
   "execution_count": 308,
   "id": "37770d96",
   "metadata": {},
   "outputs": [
    {
     "data": {
      "text/html": [
       "<div>\n",
       "<style scoped>\n",
       "    .dataframe tbody tr th:only-of-type {\n",
       "        vertical-align: middle;\n",
       "    }\n",
       "\n",
       "    .dataframe tbody tr th {\n",
       "        vertical-align: top;\n",
       "    }\n",
       "\n",
       "    .dataframe thead th {\n",
       "        text-align: right;\n",
       "    }\n",
       "</style>\n",
       "<table border=\"1\" class=\"dataframe\">\n",
       "  <thead>\n",
       "    <tr style=\"text-align: right;\">\n",
       "      <th></th>\n",
       "      <th>Ticker</th>\n",
       "    </tr>\n",
       "  </thead>\n",
       "  <tbody>\n",
       "    <tr>\n",
       "      <th>0</th>\n",
       "      <td>BRKB</td>\n",
       "    </tr>\n",
       "    <tr>\n",
       "      <th>1</th>\n",
       "      <td>JPM</td>\n",
       "    </tr>\n",
       "    <tr>\n",
       "      <th>2</th>\n",
       "      <td>JNJ</td>\n",
       "    </tr>\n",
       "  </tbody>\n",
       "</table>\n",
       "</div>"
      ],
      "text/plain": [
       "  Ticker\n",
       "0   BRKB\n",
       "1    JPM\n",
       "2    JNJ"
      ]
     },
     "execution_count": 308,
     "metadata": {},
     "output_type": "execute_result"
    }
   ],
   "source": [
    "rus_tick.head(3)"
   ]
  },
  {
   "cell_type": "code",
   "execution_count": 309,
   "id": "fe09e988",
   "metadata": {},
   "outputs": [
    {
     "data": {
      "text/html": [
       "<div>\n",
       "<style scoped>\n",
       "    .dataframe tbody tr th:only-of-type {\n",
       "        vertical-align: middle;\n",
       "    }\n",
       "\n",
       "    .dataframe tbody tr th {\n",
       "        vertical-align: top;\n",
       "    }\n",
       "\n",
       "    .dataframe thead th {\n",
       "        text-align: right;\n",
       "    }\n",
       "</style>\n",
       "<table border=\"1\" class=\"dataframe\">\n",
       "  <thead>\n",
       "    <tr style=\"text-align: right;\">\n",
       "      <th></th>\n",
       "      <th>Ticker</th>\n",
       "      <th>in_sp_df</th>\n",
       "    </tr>\n",
       "  </thead>\n",
       "  <tbody>\n",
       "    <tr>\n",
       "      <th>0</th>\n",
       "      <td>BRKB</td>\n",
       "      <td>False</td>\n",
       "    </tr>\n",
       "    <tr>\n",
       "      <th>1</th>\n",
       "      <td>JPM</td>\n",
       "      <td>True</td>\n",
       "    </tr>\n",
       "    <tr>\n",
       "      <th>2</th>\n",
       "      <td>JNJ</td>\n",
       "      <td>True</td>\n",
       "    </tr>\n",
       "    <tr>\n",
       "      <th>3</th>\n",
       "      <td>UNH</td>\n",
       "      <td>True</td>\n",
       "    </tr>\n",
       "    <tr>\n",
       "      <th>4</th>\n",
       "      <td>PG</td>\n",
       "      <td>True</td>\n",
       "    </tr>\n",
       "    <tr>\n",
       "      <th>5</th>\n",
       "      <td>BAC</td>\n",
       "      <td>True</td>\n",
       "    </tr>\n",
       "    <tr>\n",
       "      <th>6</th>\n",
       "      <td>PFE</td>\n",
       "      <td>True</td>\n",
       "    </tr>\n",
       "    <tr>\n",
       "      <th>7</th>\n",
       "      <td>XOM</td>\n",
       "      <td>True</td>\n",
       "    </tr>\n",
       "    <tr>\n",
       "      <th>8</th>\n",
       "      <td>DIS</td>\n",
       "      <td>True</td>\n",
       "    </tr>\n",
       "    <tr>\n",
       "      <th>9</th>\n",
       "      <td>CSCO</td>\n",
       "      <td>True</td>\n",
       "    </tr>\n",
       "  </tbody>\n",
       "</table>\n",
       "</div>"
      ],
      "text/plain": [
       "  Ticker in_sp_df\n",
       "0   BRKB    False\n",
       "1    JPM     True\n",
       "2    JNJ     True\n",
       "3    UNH     True\n",
       "4     PG     True\n",
       "5    BAC     True\n",
       "6    PFE     True\n",
       "7    XOM     True\n",
       "8    DIS     True\n",
       "9   CSCO     True"
      ]
     },
     "execution_count": 309,
     "metadata": {},
     "output_type": "execute_result"
    }
   ],
   "source": [
    "# we will see if these tickers are already in the\n",
    "rus_tick['in_sp_df'] = rus_tick.Ticker.isin(df_symb.Symbol).astype(object)\n",
    "rus_tick.head(10)"
   ]
  },
  {
   "cell_type": "code",
   "execution_count": 310,
   "id": "6dd16cec",
   "metadata": {},
   "outputs": [
    {
     "name": "stdout",
     "output_type": "stream",
     "text": [
      "49.36% | are in the original dataframe\n"
     ]
    }
   ],
   "source": [
    "print(\"{}%\".format(round((rus_tick['in_sp_df'].sum() / len(rus_tick))*100,2)),'| are in the original dataframe')"
   ]
  },
  {
   "cell_type": "markdown",
   "id": "115fa669",
   "metadata": {},
   "source": [
    "We will drop all of those."
   ]
  },
  {
   "cell_type": "code",
   "execution_count": 311,
   "id": "1bc10b66",
   "metadata": {},
   "outputs": [
    {
     "data": {
      "text/html": [
       "<div>\n",
       "<style scoped>\n",
       "    .dataframe tbody tr th:only-of-type {\n",
       "        vertical-align: middle;\n",
       "    }\n",
       "\n",
       "    .dataframe tbody tr th {\n",
       "        vertical-align: top;\n",
       "    }\n",
       "\n",
       "    .dataframe thead th {\n",
       "        text-align: right;\n",
       "    }\n",
       "</style>\n",
       "<table border=\"1\" class=\"dataframe\">\n",
       "  <thead>\n",
       "    <tr style=\"text-align: right;\">\n",
       "      <th></th>\n",
       "      <th>Ticker</th>\n",
       "      <th>in_sp_df</th>\n",
       "    </tr>\n",
       "  </thead>\n",
       "  <tbody>\n",
       "    <tr>\n",
       "      <th>0</th>\n",
       "      <td>BRKB</td>\n",
       "      <td>False</td>\n",
       "    </tr>\n",
       "    <tr>\n",
       "      <th>59</th>\n",
       "      <td>MRVL</td>\n",
       "      <td>False</td>\n",
       "    </tr>\n",
       "    <tr>\n",
       "      <th>112</th>\n",
       "      <td>XTSLA</td>\n",
       "      <td>False</td>\n",
       "    </tr>\n",
       "    <tr>\n",
       "      <th>113</th>\n",
       "      <td>KKR</td>\n",
       "      <td>False</td>\n",
       "    </tr>\n",
       "    <tr>\n",
       "      <th>170</th>\n",
       "      <td>TWLO</td>\n",
       "      <td>False</td>\n",
       "    </tr>\n",
       "  </tbody>\n",
       "</table>\n",
       "</div>"
      ],
      "text/plain": [
       "    Ticker in_sp_df\n",
       "0     BRKB    False\n",
       "59    MRVL    False\n",
       "112  XTSLA    False\n",
       "113    KKR    False\n",
       "170   TWLO    False"
      ]
     },
     "execution_count": 311,
     "metadata": {},
     "output_type": "execute_result"
    }
   ],
   "source": [
    "rus_tick_abb = pd.DataFrame([])\n",
    "rus_tick_abb = rus_tick[rus_tick['in_sp_df'] == False]\n",
    "rus_tick_abb.head()"
   ]
  },
  {
   "cell_type": "code",
   "execution_count": 312,
   "id": "f9d14dbd",
   "metadata": {},
   "outputs": [
    {
     "data": {
      "text/html": [
       "<div>\n",
       "<style scoped>\n",
       "    .dataframe tbody tr th:only-of-type {\n",
       "        vertical-align: middle;\n",
       "    }\n",
       "\n",
       "    .dataframe tbody tr th {\n",
       "        vertical-align: top;\n",
       "    }\n",
       "\n",
       "    .dataframe thead th {\n",
       "        text-align: right;\n",
       "    }\n",
       "</style>\n",
       "<table border=\"1\" class=\"dataframe\">\n",
       "  <thead>\n",
       "    <tr style=\"text-align: right;\">\n",
       "      <th></th>\n",
       "      <th>Ticker</th>\n",
       "      <th>in_sp_df</th>\n",
       "    </tr>\n",
       "  </thead>\n",
       "  <tbody>\n",
       "    <tr>\n",
       "      <th>0</th>\n",
       "      <td>BRKB</td>\n",
       "      <td>False</td>\n",
       "    </tr>\n",
       "    <tr>\n",
       "      <th>1</th>\n",
       "      <td>MRVL</td>\n",
       "      <td>False</td>\n",
       "    </tr>\n",
       "    <tr>\n",
       "      <th>2</th>\n",
       "      <td>XTSLA</td>\n",
       "      <td>False</td>\n",
       "    </tr>\n",
       "  </tbody>\n",
       "</table>\n",
       "</div>"
      ],
      "text/plain": [
       "  Ticker in_sp_df\n",
       "0   BRKB    False\n",
       "1   MRVL    False\n",
       "2  XTSLA    False"
      ]
     },
     "execution_count": 312,
     "metadata": {},
     "output_type": "execute_result"
    }
   ],
   "source": [
    "rus_tick_abb = rus_tick_abb.reset_index()\n",
    "rus_tick_abb = rus_tick_abb.drop(['index'],axis=1)\n",
    "rus_tick_abb.head(3)"
   ]
  },
  {
   "cell_type": "code",
   "execution_count": 313,
   "id": "5392e0c8",
   "metadata": {},
   "outputs": [
    {
     "data": {
      "text/html": [
       "<div>\n",
       "<style scoped>\n",
       "    .dataframe tbody tr th:only-of-type {\n",
       "        vertical-align: middle;\n",
       "    }\n",
       "\n",
       "    .dataframe tbody tr th {\n",
       "        vertical-align: top;\n",
       "    }\n",
       "\n",
       "    .dataframe thead th {\n",
       "        text-align: right;\n",
       "    }\n",
       "</style>\n",
       "<table border=\"1\" class=\"dataframe\">\n",
       "  <thead>\n",
       "    <tr style=\"text-align: right;\">\n",
       "      <th></th>\n",
       "      <th>Ticker</th>\n",
       "    </tr>\n",
       "  </thead>\n",
       "  <tbody>\n",
       "    <tr>\n",
       "      <th>0</th>\n",
       "      <td>BRKB</td>\n",
       "    </tr>\n",
       "    <tr>\n",
       "      <th>1</th>\n",
       "      <td>MRVL</td>\n",
       "    </tr>\n",
       "    <tr>\n",
       "      <th>2</th>\n",
       "      <td>XTSLA</td>\n",
       "    </tr>\n",
       "  </tbody>\n",
       "</table>\n",
       "</div>"
      ],
      "text/plain": [
       "  Ticker\n",
       "0   BRKB\n",
       "1   MRVL\n",
       "2  XTSLA"
      ]
     },
     "execution_count": 313,
     "metadata": {},
     "output_type": "execute_result"
    }
   ],
   "source": [
    "# the above looks to be working; dropping the unwanted column\n",
    "rus_tick_abb = rus_tick_abb.drop(['in_sp_df'],axis=1)\n",
    "rus_tick_abb.head(3)"
   ]
  },
  {
   "cell_type": "code",
   "execution_count": 314,
   "id": "0f7bb955",
   "metadata": {},
   "outputs": [
    {
     "name": "stdout",
     "output_type": "stream",
     "text": [
      "435 | the amount to send to yfinance (again)\n"
     ]
    }
   ],
   "source": [
    "print(len(rus_tick_abb),'| the amount to send to yfinance (again)')"
   ]
  },
  {
   "cell_type": "code",
   "execution_count": 315,
   "id": "a2a22423",
   "metadata": {},
   "outputs": [
    {
     "name": "stderr",
     "output_type": "stream",
     "text": [
      "100%|██████████| 435/435 [43:44<00:00,  6.03s/it]\n"
     ]
    }
   ],
   "source": [
    "# setting up seperate lists for all the items\n",
    "sy_r = []\n",
    "ln_r = []\n",
    "div_r = []\n",
    "\n",
    "# I will run a \"for loop to pull the data\"\n",
    "for i in tqdm(range(0,len(rus_tick_abb))):\n",
    "    ch = yf.Ticker(rus_tick_abb['Ticker'][i])\n",
    "    \n",
    "    if len(ch.info['logo_url'])>0:\n",
    "        sy_r.append(ch.info['symbol'])\n",
    "        ln_r.append(ch.info['longName'])\n",
    "        div_r.append(ch.info['dividendRate'])\n"
   ]
  },
  {
   "cell_type": "code",
   "execution_count": null,
   "id": "6d95a375",
   "metadata": {},
   "outputs": [],
   "source": []
  },
  {
   "cell_type": "markdown",
   "id": "1de588b4",
   "metadata": {},
   "source": [
    "Sending the \"selective Russell 500 Value Stocks\" a dataframe."
   ]
  },
  {
   "cell_type": "code",
   "execution_count": 316,
   "id": "029241a8",
   "metadata": {},
   "outputs": [],
   "source": [
    "# sending both to a dataframe\n",
    "df_rus = pd.DataFrame([])\n",
    "df_rus['symbol'] = sy_r\n",
    "df_rus['name'] = ln_r\n",
    "df_rus['dividend'] = div_r"
   ]
  },
  {
   "cell_type": "code",
   "execution_count": 317,
   "id": "9232d8cb",
   "metadata": {},
   "outputs": [
    {
     "data": {
      "text/html": [
       "<div>\n",
       "<style scoped>\n",
       "    .dataframe tbody tr th:only-of-type {\n",
       "        vertical-align: middle;\n",
       "    }\n",
       "\n",
       "    .dataframe tbody tr th {\n",
       "        vertical-align: top;\n",
       "    }\n",
       "\n",
       "    .dataframe thead th {\n",
       "        text-align: right;\n",
       "    }\n",
       "</style>\n",
       "<table border=\"1\" class=\"dataframe\">\n",
       "  <thead>\n",
       "    <tr style=\"text-align: right;\">\n",
       "      <th></th>\n",
       "      <th>symbol</th>\n",
       "      <th>name</th>\n",
       "      <th>dividend</th>\n",
       "    </tr>\n",
       "  </thead>\n",
       "  <tbody>\n",
       "    <tr>\n",
       "      <th>0</th>\n",
       "      <td>MRVL</td>\n",
       "      <td>Marvell Technology, Inc.</td>\n",
       "      <td>0.24</td>\n",
       "    </tr>\n",
       "    <tr>\n",
       "      <th>1</th>\n",
       "      <td>KKR</td>\n",
       "      <td>KKR &amp; Co. Inc.</td>\n",
       "      <td>0.58</td>\n",
       "    </tr>\n",
       "  </tbody>\n",
       "</table>\n",
       "</div>"
      ],
      "text/plain": [
       "  symbol                      name  dividend\n",
       "0   MRVL  Marvell Technology, Inc.      0.24\n",
       "1    KKR            KKR & Co. Inc.      0.58"
      ]
     },
     "execution_count": 317,
     "metadata": {},
     "output_type": "execute_result"
    }
   ],
   "source": [
    "df_rus.head(2)"
   ]
  },
  {
   "cell_type": "code",
   "execution_count": 318,
   "id": "3cb1f275",
   "metadata": {},
   "outputs": [
    {
     "name": "stdout",
     "output_type": "stream",
     "text": [
      "<class 'pandas.core.frame.DataFrame'>\n",
      "RangeIndex: 422 entries, 0 to 421\n",
      "Data columns (total 3 columns):\n",
      " #   Column    Non-Null Count  Dtype  \n",
      "---  ------    --------------  -----  \n",
      " 0   symbol    422 non-null    object \n",
      " 1   name      422 non-null    object \n",
      " 2   dividend  239 non-null    float64\n",
      "dtypes: float64(1), object(2)\n",
      "memory usage: 10.0+ KB\n"
     ]
    }
   ],
   "source": [
    "df_rus.info()"
   ]
  },
  {
   "cell_type": "code",
   "execution_count": null,
   "id": "d24255dc",
   "metadata": {},
   "outputs": [],
   "source": []
  },
  {
   "cell_type": "markdown",
   "id": "11e7f604",
   "metadata": {},
   "source": [
    "Removing those that don't pay a dividend today."
   ]
  },
  {
   "cell_type": "code",
   "execution_count": 319,
   "id": "b4a06f7c",
   "metadata": {},
   "outputs": [
    {
     "name": "stdout",
     "output_type": "stream",
     "text": [
      "<class 'pandas.core.frame.DataFrame'>\n",
      "Int64Index: 239 entries, 0 to 418\n",
      "Data columns (total 3 columns):\n",
      " #   Column    Non-Null Count  Dtype  \n",
      "---  ------    --------------  -----  \n",
      " 0   symbol    239 non-null    object \n",
      " 1   name      239 non-null    object \n",
      " 2   dividend  239 non-null    float64\n",
      "dtypes: float64(1), object(2)\n",
      "memory usage: 7.5+ KB\n"
     ]
    }
   ],
   "source": [
    "# dropping all those that aren't paying a dividend today\n",
    "rus_w_div = pd.DataFrame([])\n",
    "rus_w_div = df_rus[df_rus['dividend'].notna()]\n",
    "rus_w_div.info()"
   ]
  },
  {
   "cell_type": "code",
   "execution_count": 320,
   "id": "69036e97",
   "metadata": {},
   "outputs": [
    {
     "data": {
      "text/html": [
       "<div>\n",
       "<style scoped>\n",
       "    .dataframe tbody tr th:only-of-type {\n",
       "        vertical-align: middle;\n",
       "    }\n",
       "\n",
       "    .dataframe tbody tr th {\n",
       "        vertical-align: top;\n",
       "    }\n",
       "\n",
       "    .dataframe thead th {\n",
       "        text-align: right;\n",
       "    }\n",
       "</style>\n",
       "<table border=\"1\" class=\"dataframe\">\n",
       "  <thead>\n",
       "    <tr style=\"text-align: right;\">\n",
       "      <th></th>\n",
       "      <th>symbol</th>\n",
       "      <th>name</th>\n",
       "      <th>dividend</th>\n",
       "    </tr>\n",
       "  </thead>\n",
       "  <tbody>\n",
       "    <tr>\n",
       "      <th>0</th>\n",
       "      <td>MRVL</td>\n",
       "      <td>Marvell Technology, Inc.</td>\n",
       "      <td>0.24</td>\n",
       "    </tr>\n",
       "    <tr>\n",
       "      <th>1</th>\n",
       "      <td>KKR</td>\n",
       "      <td>KKR &amp; Co. Inc.</td>\n",
       "      <td>0.58</td>\n",
       "    </tr>\n",
       "    <tr>\n",
       "      <th>3</th>\n",
       "      <td>WLTW</td>\n",
       "      <td>Willis Towers Watson Public Limited Company</td>\n",
       "      <td>3.20</td>\n",
       "    </tr>\n",
       "    <tr>\n",
       "      <th>4</th>\n",
       "      <td>INVH</td>\n",
       "      <td>Invitation Homes Inc.</td>\n",
       "      <td>0.68</td>\n",
       "    </tr>\n",
       "    <tr>\n",
       "      <th>5</th>\n",
       "      <td>KDP</td>\n",
       "      <td>Keurig Dr Pepper Inc.</td>\n",
       "      <td>0.75</td>\n",
       "    </tr>\n",
       "  </tbody>\n",
       "</table>\n",
       "</div>"
      ],
      "text/plain": [
       "  symbol                                         name  dividend\n",
       "0   MRVL                     Marvell Technology, Inc.      0.24\n",
       "1    KKR                               KKR & Co. Inc.      0.58\n",
       "3   WLTW  Willis Towers Watson Public Limited Company      3.20\n",
       "4   INVH                        Invitation Homes Inc.      0.68\n",
       "5    KDP                        Keurig Dr Pepper Inc.      0.75"
      ]
     },
     "execution_count": 320,
     "metadata": {},
     "output_type": "execute_result"
    }
   ],
   "source": [
    "rus_w_div.head()"
   ]
  },
  {
   "cell_type": "code",
   "execution_count": null,
   "id": "e2b14921",
   "metadata": {},
   "outputs": [],
   "source": []
  },
  {
   "cell_type": "markdown",
   "id": "15be8306",
   "metadata": {},
   "source": [
    "Since we have now gone through all three (3), let's combine the following that both pay dividends before we move to the next section:\n",
    "\n",
    "    * S&P 500 &\n",
    "    * iShares Russell 1000 Value\n",
    "\n",
    "As a reminder, the Dow didn't add anything new to the S&P 500; that's why there's only the two (2) above"
   ]
  },
  {
   "cell_type": "code",
   "execution_count": 321,
   "id": "b547d8ab",
   "metadata": {},
   "outputs": [
    {
     "data": {
      "text/html": [
       "<div>\n",
       "<style scoped>\n",
       "    .dataframe tbody tr th:only-of-type {\n",
       "        vertical-align: middle;\n",
       "    }\n",
       "\n",
       "    .dataframe tbody tr th {\n",
       "        vertical-align: top;\n",
       "    }\n",
       "\n",
       "    .dataframe thead th {\n",
       "        text-align: right;\n",
       "    }\n",
       "</style>\n",
       "<table border=\"1\" class=\"dataframe\">\n",
       "  <thead>\n",
       "    <tr style=\"text-align: right;\">\n",
       "      <th></th>\n",
       "      <th>symbol</th>\n",
       "      <th>name</th>\n",
       "      <th>dividend</th>\n",
       "    </tr>\n",
       "  </thead>\n",
       "  <tbody>\n",
       "    <tr>\n",
       "      <th>0</th>\n",
       "      <td>MMM</td>\n",
       "      <td>3M Company</td>\n",
       "      <td>5.92</td>\n",
       "    </tr>\n",
       "  </tbody>\n",
       "</table>\n",
       "</div>"
      ],
      "text/plain": [
       "  symbol        name  dividend\n",
       "0    MMM  3M Company      5.92"
      ]
     },
     "execution_count": 321,
     "metadata": {},
     "output_type": "execute_result"
    }
   ],
   "source": [
    "df_w_div.head(1)"
   ]
  },
  {
   "cell_type": "code",
   "execution_count": 322,
   "id": "8fdf4364",
   "metadata": {},
   "outputs": [
    {
     "data": {
      "text/html": [
       "<div>\n",
       "<style scoped>\n",
       "    .dataframe tbody tr th:only-of-type {\n",
       "        vertical-align: middle;\n",
       "    }\n",
       "\n",
       "    .dataframe tbody tr th {\n",
       "        vertical-align: top;\n",
       "    }\n",
       "\n",
       "    .dataframe thead th {\n",
       "        text-align: right;\n",
       "    }\n",
       "</style>\n",
       "<table border=\"1\" class=\"dataframe\">\n",
       "  <thead>\n",
       "    <tr style=\"text-align: right;\">\n",
       "      <th></th>\n",
       "      <th>symbol</th>\n",
       "      <th>name</th>\n",
       "      <th>dividend</th>\n",
       "    </tr>\n",
       "  </thead>\n",
       "  <tbody>\n",
       "    <tr>\n",
       "      <th>0</th>\n",
       "      <td>MRVL</td>\n",
       "      <td>Marvell Technology, Inc.</td>\n",
       "      <td>0.24</td>\n",
       "    </tr>\n",
       "  </tbody>\n",
       "</table>\n",
       "</div>"
      ],
      "text/plain": [
       "  symbol                      name  dividend\n",
       "0   MRVL  Marvell Technology, Inc.      0.24"
      ]
     },
     "execution_count": 322,
     "metadata": {},
     "output_type": "execute_result"
    }
   ],
   "source": [
    "rus_w_div.head(1)"
   ]
  },
  {
   "cell_type": "code",
   "execution_count": 323,
   "id": "0ef170e7",
   "metadata": {},
   "outputs": [
    {
     "name": "stdout",
     "output_type": "stream",
     "text": [
      "Combining them both we should have 631 equities for the next round\n"
     ]
    }
   ],
   "source": [
    "t_l = len(df_w_div) + len(rus_w_div)\n",
    "print('Combining them both we should have',t_l,'equities for the next round')"
   ]
  },
  {
   "cell_type": "markdown",
   "id": "2f82f712",
   "metadata": {},
   "source": [
    "Bringing them together"
   ]
  },
  {
   "cell_type": "code",
   "execution_count": 324,
   "id": "1a088691",
   "metadata": {},
   "outputs": [],
   "source": [
    "toppy = [df_w_div, rus_w_div]\n",
    "\n",
    "df_bf = pd.concat(toppy)"
   ]
  },
  {
   "cell_type": "code",
   "execution_count": 325,
   "id": "11cc9f6a",
   "metadata": {},
   "outputs": [
    {
     "data": {
      "text/plain": [
       "631"
      ]
     },
     "execution_count": 325,
     "metadata": {},
     "output_type": "execute_result"
    }
   ],
   "source": [
    "#checking\n",
    "len(df_bf)"
   ]
  },
  {
   "cell_type": "code",
   "execution_count": 326,
   "id": "d74ef9fc",
   "metadata": {},
   "outputs": [
    {
     "data": {
      "text/html": [
       "<div>\n",
       "<style scoped>\n",
       "    .dataframe tbody tr th:only-of-type {\n",
       "        vertical-align: middle;\n",
       "    }\n",
       "\n",
       "    .dataframe tbody tr th {\n",
       "        vertical-align: top;\n",
       "    }\n",
       "\n",
       "    .dataframe thead th {\n",
       "        text-align: right;\n",
       "    }\n",
       "</style>\n",
       "<table border=\"1\" class=\"dataframe\">\n",
       "  <thead>\n",
       "    <tr style=\"text-align: right;\">\n",
       "      <th></th>\n",
       "      <th>symbol</th>\n",
       "      <th>name</th>\n",
       "      <th>dividend</th>\n",
       "    </tr>\n",
       "  </thead>\n",
       "  <tbody>\n",
       "    <tr>\n",
       "      <th>0</th>\n",
       "      <td>MMM</td>\n",
       "      <td>3M Company</td>\n",
       "      <td>5.92</td>\n",
       "    </tr>\n",
       "    <tr>\n",
       "      <th>1</th>\n",
       "      <td>AOS</td>\n",
       "      <td>A. O. Smith Corporation</td>\n",
       "      <td>1.12</td>\n",
       "    </tr>\n",
       "    <tr>\n",
       "      <th>2</th>\n",
       "      <td>ABT</td>\n",
       "      <td>Abbott Laboratories</td>\n",
       "      <td>1.88</td>\n",
       "    </tr>\n",
       "  </tbody>\n",
       "</table>\n",
       "</div>"
      ],
      "text/plain": [
       "  symbol                     name  dividend\n",
       "0    MMM               3M Company      5.92\n",
       "1    AOS  A. O. Smith Corporation      1.12\n",
       "2    ABT      Abbott Laboratories      1.88"
      ]
     },
     "execution_count": 326,
     "metadata": {},
     "output_type": "execute_result"
    }
   ],
   "source": [
    "df_bf = df_bf.reset_index()\n",
    "df_bf = df_bf.drop(['index'],axis=1)\n",
    "df_bf.head(3)"
   ]
  },
  {
   "cell_type": "code",
   "execution_count": null,
   "id": "bc365989",
   "metadata": {},
   "outputs": [],
   "source": []
  },
  {
   "cell_type": "markdown",
   "id": "663c0495",
   "metadata": {},
   "source": [
    "**Looking into the Past**\n",
    "\n",
    "Now that we have all the equities that pay a dividend \"today\", I will now investigate what has happened in the past ~30 years,\n",
    "\n",
    "    * i.e. since 1 Jan 1990 until now\n"
   ]
  },
  {
   "cell_type": "code",
   "execution_count": 327,
   "id": "b54894ea",
   "metadata": {},
   "outputs": [
    {
     "name": "stderr",
     "output_type": "stream",
     "text": [
      "100%|██████████| 631/631 [1:15:44<00:00,  7.20s/it]\n"
     ]
    }
   ],
   "source": [
    "# setting up seperate lists for all the items\n",
    "d_sy = []\n",
    "d_ch = []\n",
    "\n",
    "# I will run a \"for loop to pull the data\"\n",
    "for i in tqdm(range(0,len(df_bf))):\n",
    "    \n",
    "    if df_bf['symbol'][i] == 'WSO':\n",
    "        continue\n",
    "    \n",
    "    else:\n",
    "        \n",
    "        e = yf.Ticker(df_bf['symbol'][i])\n",
    "\n",
    "        if len(e.info['logo_url'])>0:\n",
    "            sy_date = e.history(start=\"1990-01-01\",  end=today)\n",
    "            sy_date = sy_date.reset_index()\n",
    "            early_d = sy_date['Date'][0].year\n",
    "            d_ch.append(early_d)\n",
    "            d_sy.append(e.info['symbol'])\n"
   ]
  },
  {
   "cell_type": "code",
   "execution_count": 328,
   "id": "6ee619c9",
   "metadata": {},
   "outputs": [
    {
     "data": {
      "text/html": [
       "<div>\n",
       "<style scoped>\n",
       "    .dataframe tbody tr th:only-of-type {\n",
       "        vertical-align: middle;\n",
       "    }\n",
       "\n",
       "    .dataframe tbody tr th {\n",
       "        vertical-align: top;\n",
       "    }\n",
       "\n",
       "    .dataframe thead th {\n",
       "        text-align: right;\n",
       "    }\n",
       "</style>\n",
       "<table border=\"1\" class=\"dataframe\">\n",
       "  <thead>\n",
       "    <tr style=\"text-align: right;\">\n",
       "      <th></th>\n",
       "      <th>symbol</th>\n",
       "      <th>history_yr</th>\n",
       "    </tr>\n",
       "  </thead>\n",
       "  <tbody>\n",
       "    <tr>\n",
       "      <th>0</th>\n",
       "      <td>MMM</td>\n",
       "      <td>1990</td>\n",
       "    </tr>\n",
       "    <tr>\n",
       "      <th>1</th>\n",
       "      <td>AOS</td>\n",
       "      <td>1990</td>\n",
       "    </tr>\n",
       "    <tr>\n",
       "      <th>2</th>\n",
       "      <td>ABT</td>\n",
       "      <td>1990</td>\n",
       "    </tr>\n",
       "  </tbody>\n",
       "</table>\n",
       "</div>"
      ],
      "text/plain": [
       "  symbol  history_yr\n",
       "0    MMM        1990\n",
       "1    AOS        1990\n",
       "2    ABT        1990"
      ]
     },
     "execution_count": 328,
     "metadata": {},
     "output_type": "execute_result"
    }
   ],
   "source": [
    "shrt_df = pd.DataFrame([])\n",
    "shrt_df['symbol'] = d_sy\n",
    "shrt_df['history_yr'] = d_ch\n",
    "shrt_df.head(3)"
   ]
  },
  {
   "cell_type": "code",
   "execution_count": 329,
   "id": "81f6ce51",
   "metadata": {},
   "outputs": [
    {
     "name": "stdout",
     "output_type": "stream",
     "text": [
      "<class 'pandas.core.frame.DataFrame'>\n",
      "RangeIndex: 629 entries, 0 to 628\n",
      "Data columns (total 2 columns):\n",
      " #   Column      Non-Null Count  Dtype \n",
      "---  ------      --------------  ----- \n",
      " 0   symbol      629 non-null    object\n",
      " 1   history_yr  629 non-null    int64 \n",
      "dtypes: int64(1), object(1)\n",
      "memory usage: 10.0+ KB\n"
     ]
    }
   ],
   "source": [
    "shrt_df.info()"
   ]
  },
  {
   "cell_type": "code",
   "execution_count": 330,
   "id": "ab197815",
   "metadata": {},
   "outputs": [
    {
     "data": {
      "text/html": [
       "<div>\n",
       "<style scoped>\n",
       "    .dataframe tbody tr th:only-of-type {\n",
       "        vertical-align: middle;\n",
       "    }\n",
       "\n",
       "    .dataframe tbody tr th {\n",
       "        vertical-align: top;\n",
       "    }\n",
       "\n",
       "    .dataframe thead th {\n",
       "        text-align: right;\n",
       "    }\n",
       "</style>\n",
       "<table border=\"1\" class=\"dataframe\">\n",
       "  <thead>\n",
       "    <tr style=\"text-align: right;\">\n",
       "      <th></th>\n",
       "      <th>history_yr</th>\n",
       "    </tr>\n",
       "  </thead>\n",
       "  <tbody>\n",
       "    <tr>\n",
       "      <th>count</th>\n",
       "      <td>629.000000</td>\n",
       "    </tr>\n",
       "    <tr>\n",
       "      <th>mean</th>\n",
       "      <td>1996.901431</td>\n",
       "    </tr>\n",
       "    <tr>\n",
       "      <th>std</th>\n",
       "      <td>9.280989</td>\n",
       "    </tr>\n",
       "    <tr>\n",
       "      <th>min</th>\n",
       "      <td>1990.000000</td>\n",
       "    </tr>\n",
       "    <tr>\n",
       "      <th>25%</th>\n",
       "      <td>1990.000000</td>\n",
       "    </tr>\n",
       "    <tr>\n",
       "      <th>50%</th>\n",
       "      <td>1991.000000</td>\n",
       "    </tr>\n",
       "    <tr>\n",
       "      <th>75%</th>\n",
       "      <td>2003.000000</td>\n",
       "    </tr>\n",
       "    <tr>\n",
       "      <th>max</th>\n",
       "      <td>2021.000000</td>\n",
       "    </tr>\n",
       "  </tbody>\n",
       "</table>\n",
       "</div>"
      ],
      "text/plain": [
       "        history_yr\n",
       "count   629.000000\n",
       "mean   1996.901431\n",
       "std       9.280989\n",
       "min    1990.000000\n",
       "25%    1990.000000\n",
       "50%    1991.000000\n",
       "75%    2003.000000\n",
       "max    2021.000000"
      ]
     },
     "execution_count": 330,
     "metadata": {},
     "output_type": "execute_result"
    }
   ],
   "source": [
    "shrt_df.describe()"
   ]
  },
  {
   "cell_type": "code",
   "execution_count": 331,
   "id": "da93e9ec",
   "metadata": {},
   "outputs": [
    {
     "name": "stdout",
     "output_type": "stream",
     "text": [
      "The data looks as though most of equities that pay dividends went that far back in trading but \n",
      " shrt_df is missing 2 equities which I will address next\n"
     ]
    }
   ],
   "source": [
    "print('The data looks as though most of equities that pay dividends went that far back in trading but','\\n','shrt_df is missing',\n",
    "     len(df_bf)-len(shrt_df),'equities which I will address next')"
   ]
  },
  {
   "cell_type": "code",
   "execution_count": 332,
   "id": "5bbf276a",
   "metadata": {},
   "outputs": [
    {
     "data": {
      "text/html": [
       "<div>\n",
       "<style scoped>\n",
       "    .dataframe tbody tr th:only-of-type {\n",
       "        vertical-align: middle;\n",
       "    }\n",
       "\n",
       "    .dataframe tbody tr th {\n",
       "        vertical-align: top;\n",
       "    }\n",
       "\n",
       "    .dataframe thead th {\n",
       "        text-align: right;\n",
       "    }\n",
       "</style>\n",
       "<table border=\"1\" class=\"dataframe\">\n",
       "  <thead>\n",
       "    <tr style=\"text-align: right;\">\n",
       "      <th></th>\n",
       "      <th>symbol</th>\n",
       "      <th>name</th>\n",
       "      <th>dividend</th>\n",
       "      <th>has</th>\n",
       "    </tr>\n",
       "  </thead>\n",
       "  <tbody>\n",
       "    <tr>\n",
       "      <th>391</th>\n",
       "      <td>V</td>\n",
       "      <td>Visa Inc.</td>\n",
       "      <td>NaN</td>\n",
       "      <td>False</td>\n",
       "    </tr>\n",
       "    <tr>\n",
       "      <th>429</th>\n",
       "      <td>WSO</td>\n",
       "      <td>Watsco, Inc.</td>\n",
       "      <td>7.8</td>\n",
       "      <td>False</td>\n",
       "    </tr>\n",
       "  </tbody>\n",
       "</table>\n",
       "</div>"
      ],
      "text/plain": [
       "    symbol          name  dividend    has\n",
       "391      V     Visa Inc.       NaN  False\n",
       "429    WSO  Watsco, Inc.       7.8  False"
      ]
     },
     "execution_count": 332,
     "metadata": {},
     "output_type": "execute_result"
    }
   ],
   "source": [
    "# setting up a side dataframe to ascertain what is missing\n",
    "temp_df = pd.DataFrame([])\n",
    "temp_df = df_bf.copy()\n",
    "\n",
    "# set up the \"unique symbols in \"df_bf\" compared to \"shrt_df\" & then handle\n",
    "temp_df['has'] = temp_df.symbol.isin(d_sy)\n",
    "\n",
    "# showing those missing from 'shrt_df'\n",
    "temp_df[ temp_df['has'] == False ]"
   ]
  },
  {
   "cell_type": "code",
   "execution_count": 333,
   "id": "e27d7e91",
   "metadata": {},
   "outputs": [
    {
     "data": {
      "text/html": [
       "<div>\n",
       "<style scoped>\n",
       "    .dataframe tbody tr th:only-of-type {\n",
       "        vertical-align: middle;\n",
       "    }\n",
       "\n",
       "    .dataframe tbody tr th {\n",
       "        vertical-align: top;\n",
       "    }\n",
       "\n",
       "    .dataframe thead th {\n",
       "        text-align: right;\n",
       "    }\n",
       "</style>\n",
       "<table border=\"1\" class=\"dataframe\">\n",
       "  <thead>\n",
       "    <tr style=\"text-align: right;\">\n",
       "      <th></th>\n",
       "      <th>symbol</th>\n",
       "      <th>name</th>\n",
       "      <th>dividend</th>\n",
       "      <th>has</th>\n",
       "    </tr>\n",
       "  </thead>\n",
       "  <tbody>\n",
       "    <tr>\n",
       "      <th>0</th>\n",
       "      <td>V</td>\n",
       "      <td>Visa Inc.</td>\n",
       "      <td>NaN</td>\n",
       "      <td>False</td>\n",
       "    </tr>\n",
       "    <tr>\n",
       "      <th>1</th>\n",
       "      <td>WSO</td>\n",
       "      <td>Watsco, Inc.</td>\n",
       "      <td>7.8</td>\n",
       "      <td>False</td>\n",
       "    </tr>\n",
       "  </tbody>\n",
       "</table>\n",
       "</div>"
      ],
      "text/plain": [
       "  symbol          name  dividend    has\n",
       "0      V     Visa Inc.       NaN  False\n",
       "1    WSO  Watsco, Inc.       7.8  False"
      ]
     },
     "execution_count": 333,
     "metadata": {},
     "output_type": "execute_result"
    }
   ],
   "source": [
    "# a new dataframe w/ only the missing ones\n",
    "missing_df = pd.DataFrame([])\n",
    "missing_df = temp_df[ temp_df['has'] == False ]\n",
    "missing_df = missing_df.reset_index()\n",
    "missing_df = missing_df.drop(['index'],axis=1)\n",
    "missing_df.head()"
   ]
  },
  {
   "cell_type": "markdown",
   "id": "5f622dbe",
   "metadata": {},
   "source": [
    "Manually one by one."
   ]
  },
  {
   "cell_type": "code",
   "execution_count": 334,
   "id": "9d38bd9e",
   "metadata": {},
   "outputs": [],
   "source": [
    "e = yf.Ticker(df_bf['symbol'][i])"
   ]
  },
  {
   "cell_type": "code",
   "execution_count": 335,
   "id": "54791814",
   "metadata": {},
   "outputs": [
    {
     "name": "stderr",
     "output_type": "stream",
     "text": [
      "100%|██████████| 2/2 [00:15<00:00,  7.52s/it]\n"
     ]
    }
   ],
   "source": [
    "# setting up seperate lists for all the items\n",
    "miss_sy = []\n",
    "miss_ch = []\n",
    "\n",
    "# I will run a \"for loop to pull the data\"\n",
    "for i in tqdm(range(0,len(missing_df))):\n",
    "    e = yf.Ticker(missing_df['symbol'][i])\n",
    "    \n",
    "    if len(e.info['logo_url'])>0:\n",
    "        sy_date = e.history(start=\"1990-01-01\",  end=today)\n",
    "        sy_date = sy_date.reset_index()\n",
    "        early_d = sy_date['Date'][0].year\n",
    "        miss_ch.append(early_d)\n",
    "        miss_sy.append(e.info['symbol']) # df_bf['symbol'][i]\n"
   ]
  },
  {
   "cell_type": "markdown",
   "id": "0cb45576",
   "metadata": {},
   "source": [
    "Two of them comply with the 1990 date"
   ]
  },
  {
   "cell_type": "code",
   "execution_count": 336,
   "id": "b87bce07",
   "metadata": {},
   "outputs": [
    {
     "data": {
      "text/html": [
       "<div>\n",
       "<style scoped>\n",
       "    .dataframe tbody tr th:only-of-type {\n",
       "        vertical-align: middle;\n",
       "    }\n",
       "\n",
       "    .dataframe tbody tr th {\n",
       "        vertical-align: top;\n",
       "    }\n",
       "\n",
       "    .dataframe thead th {\n",
       "        text-align: right;\n",
       "    }\n",
       "</style>\n",
       "<table border=\"1\" class=\"dataframe\">\n",
       "  <thead>\n",
       "    <tr style=\"text-align: right;\">\n",
       "      <th></th>\n",
       "      <th>symbol</th>\n",
       "      <th>history_yr</th>\n",
       "    </tr>\n",
       "  </thead>\n",
       "  <tbody>\n",
       "    <tr>\n",
       "      <th>0</th>\n",
       "      <td>WSO</td>\n",
       "      <td>1990</td>\n",
       "    </tr>\n",
       "  </tbody>\n",
       "</table>\n",
       "</div>"
      ],
      "text/plain": [
       "  symbol  history_yr\n",
       "0    WSO        1990"
      ]
     },
     "execution_count": 336,
     "metadata": {},
     "output_type": "execute_result"
    }
   ],
   "source": [
    "shrt_df_ex = pd.DataFrame([])\n",
    "shrt_df_ex['symbol'] = miss_sy\n",
    "shrt_df_ex['history_yr'] = miss_ch\n",
    "shrt_df_ex.head()"
   ]
  },
  {
   "cell_type": "code",
   "execution_count": 337,
   "id": "fe98879e",
   "metadata": {},
   "outputs": [
    {
     "data": {
      "text/plain": [
       "630"
      ]
     },
     "execution_count": 337,
     "metadata": {},
     "output_type": "execute_result"
    }
   ],
   "source": [
    "shrt_df_final = pd.DataFrame([])\n",
    "shrt_df_final = shrt_df.copy()\n",
    "shrt_df_final = shrt_df_final.append(shrt_df_ex)\n",
    "shrt_df_final = shrt_df_final.reset_index()\n",
    "shrt_df_final = shrt_df_final.drop(['index'],axis=1)\n",
    "len(shrt_df_final)"
   ]
  },
  {
   "cell_type": "markdown",
   "id": "28318f71",
   "metadata": {},
   "source": [
    "Worked. I'm going to make the name of it shorter as I don't like very long dataframe names."
   ]
  },
  {
   "cell_type": "code",
   "execution_count": 338,
   "id": "f3063f4c",
   "metadata": {},
   "outputs": [
    {
     "data": {
      "text/html": [
       "<div>\n",
       "<style scoped>\n",
       "    .dataframe tbody tr th:only-of-type {\n",
       "        vertical-align: middle;\n",
       "    }\n",
       "\n",
       "    .dataframe tbody tr th {\n",
       "        vertical-align: top;\n",
       "    }\n",
       "\n",
       "    .dataframe thead th {\n",
       "        text-align: right;\n",
       "    }\n",
       "</style>\n",
       "<table border=\"1\" class=\"dataframe\">\n",
       "  <thead>\n",
       "    <tr style=\"text-align: right;\">\n",
       "      <th></th>\n",
       "      <th>symbol</th>\n",
       "      <th>history_yr</th>\n",
       "    </tr>\n",
       "  </thead>\n",
       "  <tbody>\n",
       "    <tr>\n",
       "      <th>0</th>\n",
       "      <td>MMM</td>\n",
       "      <td>1990</td>\n",
       "    </tr>\n",
       "    <tr>\n",
       "      <th>1</th>\n",
       "      <td>AOS</td>\n",
       "      <td>1990</td>\n",
       "    </tr>\n",
       "    <tr>\n",
       "      <th>2</th>\n",
       "      <td>ABT</td>\n",
       "      <td>1990</td>\n",
       "    </tr>\n",
       "  </tbody>\n",
       "</table>\n",
       "</div>"
      ],
      "text/plain": [
       "  symbol  history_yr\n",
       "0    MMM        1990\n",
       "1    AOS        1990\n",
       "2    ABT        1990"
      ]
     },
     "execution_count": 338,
     "metadata": {},
     "output_type": "execute_result"
    }
   ],
   "source": [
    "df_sf = pd.DataFrame([])\n",
    "df_sf = shrt_df_final.copy()\n",
    "df_sf.head(3)"
   ]
  },
  {
   "cell_type": "markdown",
   "id": "d51b03d6",
   "metadata": {},
   "source": [
    "**Next step, add the \"history_yr\" column to \"df_bf\"** but they aren't on the same arrangement so it must be done based on matching."
   ]
  },
  {
   "cell_type": "code",
   "execution_count": 339,
   "id": "483c3af0",
   "metadata": {},
   "outputs": [
    {
     "data": {
      "text/html": [
       "<div>\n",
       "<style scoped>\n",
       "    .dataframe tbody tr th:only-of-type {\n",
       "        vertical-align: middle;\n",
       "    }\n",
       "\n",
       "    .dataframe tbody tr th {\n",
       "        vertical-align: top;\n",
       "    }\n",
       "\n",
       "    .dataframe thead th {\n",
       "        text-align: right;\n",
       "    }\n",
       "</style>\n",
       "<table border=\"1\" class=\"dataframe\">\n",
       "  <thead>\n",
       "    <tr style=\"text-align: right;\">\n",
       "      <th></th>\n",
       "      <th>symbol</th>\n",
       "      <th>name</th>\n",
       "      <th>dividend</th>\n",
       "      <th>history_yr</th>\n",
       "    </tr>\n",
       "  </thead>\n",
       "  <tbody>\n",
       "    <tr>\n",
       "      <th>0</th>\n",
       "      <td>MMM</td>\n",
       "      <td>3M Company</td>\n",
       "      <td>5.92</td>\n",
       "      <td>1990.0</td>\n",
       "    </tr>\n",
       "    <tr>\n",
       "      <th>1</th>\n",
       "      <td>AOS</td>\n",
       "      <td>A. O. Smith Corporation</td>\n",
       "      <td>1.12</td>\n",
       "      <td>1990.0</td>\n",
       "    </tr>\n",
       "    <tr>\n",
       "      <th>2</th>\n",
       "      <td>ABT</td>\n",
       "      <td>Abbott Laboratories</td>\n",
       "      <td>1.88</td>\n",
       "      <td>1990.0</td>\n",
       "    </tr>\n",
       "  </tbody>\n",
       "</table>\n",
       "</div>"
      ],
      "text/plain": [
       "  symbol                     name  dividend  history_yr\n",
       "0    MMM               3M Company      5.92      1990.0\n",
       "1    AOS  A. O. Smith Corporation      1.12      1990.0\n",
       "2    ABT      Abbott Laboratories      1.88      1990.0"
      ]
     },
     "execution_count": 339,
     "metadata": {},
     "output_type": "execute_result"
    }
   ],
   "source": [
    "df_p = pd.DataFrame([])\n",
    "df_p = pd.merge(df_bf, df_sf, on=['symbol'], how='left')\n",
    "df_p.head(3)"
   ]
  },
  {
   "cell_type": "code",
   "execution_count": 340,
   "id": "c2629406",
   "metadata": {},
   "outputs": [
    {
     "name": "stdout",
     "output_type": "stream",
     "text": [
      "<class 'pandas.core.frame.DataFrame'>\n",
      "Int64Index: 631 entries, 0 to 630\n",
      "Data columns (total 4 columns):\n",
      " #   Column      Non-Null Count  Dtype  \n",
      "---  ------      --------------  -----  \n",
      " 0   symbol      631 non-null    object \n",
      " 1   name        631 non-null    object \n",
      " 2   dividend    630 non-null    float64\n",
      " 3   history_yr  630 non-null    float64\n",
      "dtypes: float64(2), object(2)\n",
      "memory usage: 24.6+ KB\n"
     ]
    }
   ],
   "source": [
    "df_p.info()"
   ]
  },
  {
   "cell_type": "markdown",
   "id": "c9e3f7aa",
   "metadata": {},
   "source": [
    "Do we have an equal number of columns from expected?"
   ]
  },
  {
   "cell_type": "code",
   "execution_count": 341,
   "id": "7e8b2f39",
   "metadata": {},
   "outputs": [
    {
     "name": "stdout",
     "output_type": "stream",
     "text": [
      "0 | Confirmed; we do\n"
     ]
    }
   ],
   "source": [
    "print(len(df_p)-len(df_bf),'| Confirmed; we do')"
   ]
  },
  {
   "cell_type": "markdown",
   "id": "d9e12073",
   "metadata": {},
   "source": [
    "**Now dropping all equities that haven't even reported during our time horizon.**"
   ]
  },
  {
   "cell_type": "code",
   "execution_count": 342,
   "id": "bae7c6a4",
   "metadata": {},
   "outputs": [],
   "source": [
    "df_prep = pd.DataFrame([])\n",
    "df_prep = df_p[df_p['history_yr'] == 1990]\n",
    "df_prep = df_prep.reset_index()\n",
    "df_prep = df_prep.drop(['index'],axis=1)"
   ]
  },
  {
   "cell_type": "code",
   "execution_count": 343,
   "id": "f9afc0c0",
   "metadata": {},
   "outputs": [
    {
     "data": {
      "text/plain": [
       "315"
      ]
     },
     "execution_count": 343,
     "metadata": {},
     "output_type": "execute_result"
    }
   ],
   "source": [
    "len(df_prep)"
   ]
  },
  {
   "cell_type": "code",
   "execution_count": 344,
   "id": "1ea49f7c",
   "metadata": {},
   "outputs": [
    {
     "data": {
      "text/html": [
       "<div>\n",
       "<style scoped>\n",
       "    .dataframe tbody tr th:only-of-type {\n",
       "        vertical-align: middle;\n",
       "    }\n",
       "\n",
       "    .dataframe tbody tr th {\n",
       "        vertical-align: top;\n",
       "    }\n",
       "\n",
       "    .dataframe thead th {\n",
       "        text-align: right;\n",
       "    }\n",
       "</style>\n",
       "<table border=\"1\" class=\"dataframe\">\n",
       "  <thead>\n",
       "    <tr style=\"text-align: right;\">\n",
       "      <th></th>\n",
       "      <th>dividend</th>\n",
       "      <th>history_yr</th>\n",
       "    </tr>\n",
       "  </thead>\n",
       "  <tbody>\n",
       "    <tr>\n",
       "      <th>count</th>\n",
       "      <td>315.000000</td>\n",
       "      <td>315.0</td>\n",
       "    </tr>\n",
       "    <tr>\n",
       "      <th>mean</th>\n",
       "      <td>2.133778</td>\n",
       "      <td>1990.0</td>\n",
       "    </tr>\n",
       "    <tr>\n",
       "      <th>std</th>\n",
       "      <td>1.690872</td>\n",
       "      <td>0.0</td>\n",
       "    </tr>\n",
       "    <tr>\n",
       "      <th>min</th>\n",
       "      <td>0.010000</td>\n",
       "      <td>1990.0</td>\n",
       "    </tr>\n",
       "    <tr>\n",
       "      <th>25%</th>\n",
       "      <td>0.960000</td>\n",
       "      <td>1990.0</td>\n",
       "    </tr>\n",
       "    <tr>\n",
       "      <th>50%</th>\n",
       "      <td>1.680000</td>\n",
       "      <td>1990.0</td>\n",
       "    </tr>\n",
       "    <tr>\n",
       "      <th>75%</th>\n",
       "      <td>2.800000</td>\n",
       "      <td>1990.0</td>\n",
       "    </tr>\n",
       "    <tr>\n",
       "      <th>max</th>\n",
       "      <td>11.200000</td>\n",
       "      <td>1990.0</td>\n",
       "    </tr>\n",
       "  </tbody>\n",
       "</table>\n",
       "</div>"
      ],
      "text/plain": [
       "         dividend  history_yr\n",
       "count  315.000000       315.0\n",
       "mean     2.133778      1990.0\n",
       "std      1.690872         0.0\n",
       "min      0.010000      1990.0\n",
       "25%      0.960000      1990.0\n",
       "50%      1.680000      1990.0\n",
       "75%      2.800000      1990.0\n",
       "max     11.200000      1990.0"
      ]
     },
     "execution_count": 344,
     "metadata": {},
     "output_type": "execute_result"
    }
   ],
   "source": [
    "df_prep.describe()"
   ]
  },
  {
   "cell_type": "code",
   "execution_count": 345,
   "id": "5205f9f7",
   "metadata": {},
   "outputs": [
    {
     "name": "stdout",
     "output_type": "stream",
     "text": [
      "That looks right; we now have 49.92% of the original dataframe ( which is okay )\n"
     ]
    }
   ],
   "source": [
    "print('That looks right; we now have',\"{}%\".format(round((len(df_prep)/len(df_bf))*100,2)),'of the original dataframe ( which is okay )')"
   ]
  },
  {
   "cell_type": "code",
   "execution_count": 346,
   "id": "72c9d12e",
   "metadata": {},
   "outputs": [
    {
     "data": {
      "text/html": [
       "<div>\n",
       "<style scoped>\n",
       "    .dataframe tbody tr th:only-of-type {\n",
       "        vertical-align: middle;\n",
       "    }\n",
       "\n",
       "    .dataframe tbody tr th {\n",
       "        vertical-align: top;\n",
       "    }\n",
       "\n",
       "    .dataframe thead th {\n",
       "        text-align: right;\n",
       "    }\n",
       "</style>\n",
       "<table border=\"1\" class=\"dataframe\">\n",
       "  <thead>\n",
       "    <tr style=\"text-align: right;\">\n",
       "      <th></th>\n",
       "      <th>symbol</th>\n",
       "      <th>name</th>\n",
       "      <th>dividend</th>\n",
       "      <th>history_yr</th>\n",
       "    </tr>\n",
       "  </thead>\n",
       "  <tbody>\n",
       "    <tr>\n",
       "      <th>0</th>\n",
       "      <td>MMM</td>\n",
       "      <td>3M Company</td>\n",
       "      <td>5.92</td>\n",
       "      <td>1990.0</td>\n",
       "    </tr>\n",
       "    <tr>\n",
       "      <th>1</th>\n",
       "      <td>AOS</td>\n",
       "      <td>A. O. Smith Corporation</td>\n",
       "      <td>1.12</td>\n",
       "      <td>1990.0</td>\n",
       "    </tr>\n",
       "    <tr>\n",
       "      <th>2</th>\n",
       "      <td>ABT</td>\n",
       "      <td>Abbott Laboratories</td>\n",
       "      <td>1.88</td>\n",
       "      <td>1990.0</td>\n",
       "    </tr>\n",
       "  </tbody>\n",
       "</table>\n",
       "</div>"
      ],
      "text/plain": [
       "  symbol                     name  dividend  history_yr\n",
       "0    MMM               3M Company      5.92      1990.0\n",
       "1    AOS  A. O. Smith Corporation      1.12      1990.0\n",
       "2    ABT      Abbott Laboratories      1.88      1990.0"
      ]
     },
     "execution_count": 346,
     "metadata": {},
     "output_type": "execute_result"
    }
   ],
   "source": [
    "df_prep.head(3)"
   ]
  },
  {
   "cell_type": "markdown",
   "id": "ca2bc9f0",
   "metadata": {},
   "source": [
    "We now no longer need the `history_yr` column so it will be dropped."
   ]
  },
  {
   "cell_type": "code",
   "execution_count": 347,
   "id": "9169a6bd",
   "metadata": {},
   "outputs": [],
   "source": [
    "df_prep = df_prep.drop(columns=['history_yr'], axis=1)"
   ]
  },
  {
   "cell_type": "code",
   "execution_count": 348,
   "id": "77b303bc",
   "metadata": {},
   "outputs": [
    {
     "data": {
      "text/html": [
       "<div>\n",
       "<style scoped>\n",
       "    .dataframe tbody tr th:only-of-type {\n",
       "        vertical-align: middle;\n",
       "    }\n",
       "\n",
       "    .dataframe tbody tr th {\n",
       "        vertical-align: top;\n",
       "    }\n",
       "\n",
       "    .dataframe thead th {\n",
       "        text-align: right;\n",
       "    }\n",
       "</style>\n",
       "<table border=\"1\" class=\"dataframe\">\n",
       "  <thead>\n",
       "    <tr style=\"text-align: right;\">\n",
       "      <th></th>\n",
       "      <th>symbol</th>\n",
       "      <th>name</th>\n",
       "      <th>dividend</th>\n",
       "    </tr>\n",
       "  </thead>\n",
       "  <tbody>\n",
       "    <tr>\n",
       "      <th>0</th>\n",
       "      <td>MMM</td>\n",
       "      <td>3M Company</td>\n",
       "      <td>5.92</td>\n",
       "    </tr>\n",
       "    <tr>\n",
       "      <th>1</th>\n",
       "      <td>AOS</td>\n",
       "      <td>A. O. Smith Corporation</td>\n",
       "      <td>1.12</td>\n",
       "    </tr>\n",
       "    <tr>\n",
       "      <th>2</th>\n",
       "      <td>ABT</td>\n",
       "      <td>Abbott Laboratories</td>\n",
       "      <td>1.88</td>\n",
       "    </tr>\n",
       "  </tbody>\n",
       "</table>\n",
       "</div>"
      ],
      "text/plain": [
       "  symbol                     name  dividend\n",
       "0    MMM               3M Company      5.92\n",
       "1    AOS  A. O. Smith Corporation      1.12\n",
       "2    ABT      Abbott Laboratories      1.88"
      ]
     },
     "execution_count": 348,
     "metadata": {},
     "output_type": "execute_result"
    }
   ],
   "source": [
    "df_prep.head(3)"
   ]
  },
  {
   "cell_type": "code",
   "execution_count": null,
   "id": "e84e32b3",
   "metadata": {},
   "outputs": [],
   "source": []
  },
  {
   "cell_type": "markdown",
   "id": "c211b6f1",
   "metadata": {},
   "source": [
    "**Limiting to those that never decreased dividends**\n",
    "\n",
    "As I stand, there's only a dataframe of equities that:\n",
    "\n",
    "    * Pay a dividend today, and\n",
    "    * Have existed since 1 Jan 1990\n",
    "\n",
    "**STEP 1 ::** I don't know if they have been paying a dividend the whole time and ( more important to this project ) have ever decreased their dividend at any time during this time horizon. The first step is to see if they were paying a dividend on 1 Jan 1990"
   ]
  },
  {
   "cell_type": "code",
   "execution_count": 349,
   "id": "cf19e11c",
   "metadata": {},
   "outputs": [
    {
     "data": {
      "text/html": [
       "<div>\n",
       "<style scoped>\n",
       "    .dataframe tbody tr th:only-of-type {\n",
       "        vertical-align: middle;\n",
       "    }\n",
       "\n",
       "    .dataframe tbody tr th {\n",
       "        vertical-align: top;\n",
       "    }\n",
       "\n",
       "    .dataframe thead th {\n",
       "        text-align: right;\n",
       "    }\n",
       "</style>\n",
       "<table border=\"1\" class=\"dataframe\">\n",
       "  <thead>\n",
       "    <tr style=\"text-align: right;\">\n",
       "      <th></th>\n",
       "      <th>symbol</th>\n",
       "      <th>name</th>\n",
       "      <th>dividend</th>\n",
       "    </tr>\n",
       "  </thead>\n",
       "  <tbody>\n",
       "    <tr>\n",
       "      <th>0</th>\n",
       "      <td>MMM</td>\n",
       "      <td>3M Company</td>\n",
       "      <td>5.92</td>\n",
       "    </tr>\n",
       "    <tr>\n",
       "      <th>1</th>\n",
       "      <td>AOS</td>\n",
       "      <td>A. O. Smith Corporation</td>\n",
       "      <td>1.12</td>\n",
       "    </tr>\n",
       "    <tr>\n",
       "      <th>2</th>\n",
       "      <td>ABT</td>\n",
       "      <td>Abbott Laboratories</td>\n",
       "      <td>1.88</td>\n",
       "    </tr>\n",
       "    <tr>\n",
       "      <th>3</th>\n",
       "      <td>ADM</td>\n",
       "      <td>Archer-Daniels-Midland Company</td>\n",
       "      <td>1.60</td>\n",
       "    </tr>\n",
       "    <tr>\n",
       "      <th>4</th>\n",
       "      <td>ADP</td>\n",
       "      <td>Automatic Data Processing, Inc.</td>\n",
       "      <td>4.16</td>\n",
       "    </tr>\n",
       "    <tr>\n",
       "      <th>...</th>\n",
       "      <td>...</td>\n",
       "      <td>...</td>\n",
       "      <td>...</td>\n",
       "    </tr>\n",
       "    <tr>\n",
       "      <th>310</th>\n",
       "      <td>MCY</td>\n",
       "      <td>Mercury General Corporation</td>\n",
       "      <td>2.54</td>\n",
       "    </tr>\n",
       "    <tr>\n",
       "      <th>311</th>\n",
       "      <td>CNA</td>\n",
       "      <td>CNA Financial Corporation</td>\n",
       "      <td>1.52</td>\n",
       "    </tr>\n",
       "    <tr>\n",
       "      <th>312</th>\n",
       "      <td>SEB</td>\n",
       "      <td>Seaboard Corporation</td>\n",
       "      <td>9.00</td>\n",
       "    </tr>\n",
       "    <tr>\n",
       "      <th>313</th>\n",
       "      <td>HRB</td>\n",
       "      <td>H&amp;R Block, Inc.</td>\n",
       "      <td>1.08</td>\n",
       "    </tr>\n",
       "    <tr>\n",
       "      <th>314</th>\n",
       "      <td>TTC</td>\n",
       "      <td>The Toro Company</td>\n",
       "      <td>1.20</td>\n",
       "    </tr>\n",
       "  </tbody>\n",
       "</table>\n",
       "<p>315 rows × 3 columns</p>\n",
       "</div>"
      ],
      "text/plain": [
       "    symbol                             name  dividend\n",
       "0      MMM                       3M Company      5.92\n",
       "1      AOS          A. O. Smith Corporation      1.12\n",
       "2      ABT              Abbott Laboratories      1.88\n",
       "3      ADM   Archer-Daniels-Midland Company      1.60\n",
       "4      ADP  Automatic Data Processing, Inc.      4.16\n",
       "..     ...                              ...       ...\n",
       "310    MCY      Mercury General Corporation      2.54\n",
       "311    CNA        CNA Financial Corporation      1.52\n",
       "312    SEB             Seaboard Corporation      9.00\n",
       "313    HRB                  H&R Block, Inc.      1.08\n",
       "314    TTC                 The Toro Company      1.20\n",
       "\n",
       "[315 rows x 3 columns]"
      ]
     },
     "execution_count": 349,
     "metadata": {},
     "output_type": "execute_result"
    }
   ],
   "source": [
    "df_prep"
   ]
  },
  {
   "cell_type": "code",
   "execution_count": 350,
   "id": "80830013",
   "metadata": {},
   "outputs": [
    {
     "data": {
      "text/html": [
       "<div>\n",
       "<style scoped>\n",
       "    .dataframe tbody tr th:only-of-type {\n",
       "        vertical-align: middle;\n",
       "    }\n",
       "\n",
       "    .dataframe tbody tr th {\n",
       "        vertical-align: top;\n",
       "    }\n",
       "\n",
       "    .dataframe thead th {\n",
       "        text-align: right;\n",
       "    }\n",
       "</style>\n",
       "<table border=\"1\" class=\"dataframe\">\n",
       "  <thead>\n",
       "    <tr style=\"text-align: right;\">\n",
       "      <th></th>\n",
       "      <th>symbol</th>\n",
       "      <th>name</th>\n",
       "      <th>dividend</th>\n",
       "    </tr>\n",
       "  </thead>\n",
       "  <tbody>\n",
       "    <tr>\n",
       "      <th>0</th>\n",
       "      <td>MMM</td>\n",
       "      <td>3M Company</td>\n",
       "      <td>5.92</td>\n",
       "    </tr>\n",
       "    <tr>\n",
       "      <th>1</th>\n",
       "      <td>AOS</td>\n",
       "      <td>A. O. Smith Corporation</td>\n",
       "      <td>1.12</td>\n",
       "    </tr>\n",
       "    <tr>\n",
       "      <th>2</th>\n",
       "      <td>ABT</td>\n",
       "      <td>Abbott Laboratories</td>\n",
       "      <td>1.88</td>\n",
       "    </tr>\n",
       "  </tbody>\n",
       "</table>\n",
       "</div>"
      ],
      "text/plain": [
       "  symbol                     name  dividend\n",
       "0    MMM               3M Company      5.92\n",
       "1    AOS  A. O. Smith Corporation      1.12\n",
       "2    ABT      Abbott Laboratories      1.88"
      ]
     },
     "execution_count": 350,
     "metadata": {},
     "output_type": "execute_result"
    }
   ],
   "source": [
    "df_prep.head(3)"
   ]
  },
  {
   "cell_type": "code",
   "execution_count": 351,
   "id": "46ef96a7",
   "metadata": {},
   "outputs": [
    {
     "name": "stderr",
     "output_type": "stream",
     "text": [
      "100%|██████████| 315/315 [06:47<00:00,  1.29s/it]\n"
     ]
    }
   ],
   "source": [
    "div_first = []\n",
    "\n",
    "# pulling in the ticker\n",
    "for i in tqdm(range(0,len(df_prep))):   \n",
    "    syb = yf.Ticker(df_prep['symbol'][i])\n",
    "\n",
    "    # pulling in the dividends & setting up a year column for the year of their first observed dividend\n",
    "    divs_df = pd.DataFrame([])\n",
    "    divs_df = pd.DataFrame(syb.dividends)\n",
    "    divs_df = divs_df.reset_index()\n",
    "    divs_df['year'] = pd.DatetimeIndex(divs_df['Date']).year\n",
    "    \n",
    "    first_div = []\n",
    "    first_div = divs_df['year'][0]\n",
    "    div_first.append(first_div)\n",
    "    "
   ]
  },
  {
   "cell_type": "code",
   "execution_count": 352,
   "id": "0382d735",
   "metadata": {},
   "outputs": [
    {
     "name": "stdout",
     "output_type": "stream",
     "text": [
      "Checking the length of both to ensure it will work :: \n",
      " \n",
      " 315 | div_first \n",
      " 315 | df_prep\n"
     ]
    }
   ],
   "source": [
    "print('Checking the length of both to ensure it will work ::','\\n','\\n',len(df_prep),'| div_first','\\n',\n",
    "      len(div_first),'| df_prep')"
   ]
  },
  {
   "cell_type": "code",
   "execution_count": 353,
   "id": "247e843c",
   "metadata": {},
   "outputs": [
    {
     "data": {
      "text/html": [
       "<div>\n",
       "<style scoped>\n",
       "    .dataframe tbody tr th:only-of-type {\n",
       "        vertical-align: middle;\n",
       "    }\n",
       "\n",
       "    .dataframe tbody tr th {\n",
       "        vertical-align: top;\n",
       "    }\n",
       "\n",
       "    .dataframe thead th {\n",
       "        text-align: right;\n",
       "    }\n",
       "</style>\n",
       "<table border=\"1\" class=\"dataframe\">\n",
       "  <thead>\n",
       "    <tr style=\"text-align: right;\">\n",
       "      <th></th>\n",
       "      <th>symbol</th>\n",
       "      <th>name</th>\n",
       "      <th>dividend</th>\n",
       "      <th>first_div</th>\n",
       "    </tr>\n",
       "  </thead>\n",
       "  <tbody>\n",
       "    <tr>\n",
       "      <th>0</th>\n",
       "      <td>MMM</td>\n",
       "      <td>3M Company</td>\n",
       "      <td>5.92</td>\n",
       "      <td>1970</td>\n",
       "    </tr>\n",
       "    <tr>\n",
       "      <th>1</th>\n",
       "      <td>AOS</td>\n",
       "      <td>A. O. Smith Corporation</td>\n",
       "      <td>1.12</td>\n",
       "      <td>1985</td>\n",
       "    </tr>\n",
       "    <tr>\n",
       "      <th>2</th>\n",
       "      <td>ABT</td>\n",
       "      <td>Abbott Laboratories</td>\n",
       "      <td>1.88</td>\n",
       "      <td>1983</td>\n",
       "    </tr>\n",
       "  </tbody>\n",
       "</table>\n",
       "</div>"
      ],
      "text/plain": [
       "  symbol                     name  dividend  first_div\n",
       "0    MMM               3M Company      5.92       1970\n",
       "1    AOS  A. O. Smith Corporation      1.12       1985\n",
       "2    ABT      Abbott Laboratories      1.88       1983"
      ]
     },
     "execution_count": 353,
     "metadata": {},
     "output_type": "execute_result"
    }
   ],
   "source": [
    "df_prep_c = pd.DataFrame([])\n",
    "df_prep_c = df_prep.copy()\n",
    "df_prep_c['first_div'] = div_first\n",
    "df_prep_c.head(3)"
   ]
  },
  {
   "cell_type": "markdown",
   "id": "112fad7f",
   "metadata": {},
   "source": [
    "Next, limiting to those that have paid since our target of 1990"
   ]
  },
  {
   "cell_type": "code",
   "execution_count": 354,
   "id": "759f6af9",
   "metadata": {},
   "outputs": [
    {
     "data": {
      "text/html": [
       "<div>\n",
       "<style scoped>\n",
       "    .dataframe tbody tr th:only-of-type {\n",
       "        vertical-align: middle;\n",
       "    }\n",
       "\n",
       "    .dataframe tbody tr th {\n",
       "        vertical-align: top;\n",
       "    }\n",
       "\n",
       "    .dataframe thead th {\n",
       "        text-align: right;\n",
       "    }\n",
       "</style>\n",
       "<table border=\"1\" class=\"dataframe\">\n",
       "  <thead>\n",
       "    <tr style=\"text-align: right;\">\n",
       "      <th></th>\n",
       "      <th>symbol</th>\n",
       "      <th>name</th>\n",
       "      <th>dividend</th>\n",
       "      <th>first_div</th>\n",
       "    </tr>\n",
       "  </thead>\n",
       "  <tbody>\n",
       "    <tr>\n",
       "      <th>0</th>\n",
       "      <td>MMM</td>\n",
       "      <td>3M Company</td>\n",
       "      <td>5.92</td>\n",
       "      <td>1970</td>\n",
       "    </tr>\n",
       "    <tr>\n",
       "      <th>1</th>\n",
       "      <td>AOS</td>\n",
       "      <td>A. O. Smith Corporation</td>\n",
       "      <td>1.12</td>\n",
       "      <td>1985</td>\n",
       "    </tr>\n",
       "    <tr>\n",
       "      <th>2</th>\n",
       "      <td>ABT</td>\n",
       "      <td>Abbott Laboratories</td>\n",
       "      <td>1.88</td>\n",
       "      <td>1983</td>\n",
       "    </tr>\n",
       "  </tbody>\n",
       "</table>\n",
       "</div>"
      ],
      "text/plain": [
       "  symbol                     name  dividend  first_div\n",
       "0    MMM               3M Company      5.92       1970\n",
       "1    AOS  A. O. Smith Corporation      1.12       1985\n",
       "2    ABT      Abbott Laboratories      1.88       1983"
      ]
     },
     "execution_count": 354,
     "metadata": {},
     "output_type": "execute_result"
    }
   ],
   "source": [
    "df_filt = df_prep_c[df_prep_c['first_div'] <= 1990]\n",
    "df_filt = df_filt.reset_index()\n",
    "df_filt = df_filt.drop(['index'],axis=1)\n",
    "df_filt.head(3)"
   ]
  },
  {
   "cell_type": "code",
   "execution_count": 355,
   "id": "6fffc95a",
   "metadata": {},
   "outputs": [
    {
     "name": "stdout",
     "output_type": "stream",
     "text": [
      "We now have 86.03% of the previous dataframe\n"
     ]
    }
   ],
   "source": [
    "print('We now have',\"{}%\".format(round((len(df_filt) / len(df_prep))*100,2)),'of the previous dataframe')"
   ]
  },
  {
   "cell_type": "markdown",
   "id": "03a3f7f9",
   "metadata": {},
   "source": [
    "After identifying equities that have been paying dividends throughout our aforementioned period, I will now identify those that haven't decreased their dividends."
   ]
  },
  {
   "cell_type": "code",
   "execution_count": null,
   "id": "b593c03b",
   "metadata": {},
   "outputs": [],
   "source": []
  },
  {
   "cell_type": "markdown",
   "id": "7c178cca",
   "metadata": {},
   "source": [
    "**STEP 2 ::** Limiting to those that have not decreased their dividends during the aforementioned period."
   ]
  },
  {
   "cell_type": "code",
   "execution_count": 356,
   "id": "3005ff83",
   "metadata": {},
   "outputs": [
    {
     "name": "stderr",
     "output_type": "stream",
     "text": [
      "100%|██████████| 271/271 [03:52<00:00,  1.16it/s]\n"
     ]
    }
   ],
   "source": [
    "div_neg = []\n",
    "\n",
    "# pulling in the ticker\n",
    "for i in tqdm(range(0,len(df_filt))):   \n",
    "    syb = yf.Ticker(df_filt['symbol'][i])\n",
    "\n",
    "    # pulling in the dividends & setting up year column\n",
    "    div_df = pd.DataFrame([])\n",
    "    div_df = pd.DataFrame(syb.dividends)\n",
    "    div_df = div_df.reset_index()\n",
    "    div_df['year'] = pd.DatetimeIndex(div_df['Date']).year\n",
    "\n",
    "    # aggregating by year\n",
    "    div_yr = pd.DataFrame([])\n",
    "    div_yr = pd.DataFrame(div_df.groupby(['year'])['Dividends'].sum())\n",
    "    div_yr = div_yr[::-1]\n",
    "    div_yr = div_yr.reset_index()\n",
    "\n",
    "    # filtering to ensure we only have 1990 onwards\n",
    "    div_yr_filt = pd.DataFrame([])\n",
    "    div_yr_filt = div_yr[div_yr['year'] >= 1990]\n",
    "\n",
    "    b = []\n",
    "\n",
    "    for i in range(0,len(div_yr_filt)-1):\n",
    "        s = div_yr_filt['Dividends'][i] - div_yr_filt['Dividends'][i+1]\n",
    "        b.append(s)\n",
    "\n",
    "    p_c, n_c = 0, 0\n",
    "    for num in b:    \n",
    "        if num >= 0:\n",
    "            p_c += 1\n",
    "\n",
    "        else:\n",
    "            n_c += 1\n",
    "\n",
    "    div_neg.append(n_c)\n",
    "    \n",
    "    "
   ]
  },
  {
   "cell_type": "code",
   "execution_count": 357,
   "id": "43620f4b",
   "metadata": {},
   "outputs": [
    {
     "data": {
      "text/html": [
       "<div>\n",
       "<style scoped>\n",
       "    .dataframe tbody tr th:only-of-type {\n",
       "        vertical-align: middle;\n",
       "    }\n",
       "\n",
       "    .dataframe tbody tr th {\n",
       "        vertical-align: top;\n",
       "    }\n",
       "\n",
       "    .dataframe thead th {\n",
       "        text-align: right;\n",
       "    }\n",
       "</style>\n",
       "<table border=\"1\" class=\"dataframe\">\n",
       "  <thead>\n",
       "    <tr style=\"text-align: right;\">\n",
       "      <th></th>\n",
       "      <th>symbol</th>\n",
       "      <th>name</th>\n",
       "      <th>dividend</th>\n",
       "      <th>first_div</th>\n",
       "      <th>calc</th>\n",
       "    </tr>\n",
       "  </thead>\n",
       "  <tbody>\n",
       "    <tr>\n",
       "      <th>0</th>\n",
       "      <td>MMM</td>\n",
       "      <td>3M Company</td>\n",
       "      <td>5.92</td>\n",
       "      <td>1970</td>\n",
       "      <td>1</td>\n",
       "    </tr>\n",
       "    <tr>\n",
       "      <th>1</th>\n",
       "      <td>AOS</td>\n",
       "      <td>A. O. Smith Corporation</td>\n",
       "      <td>1.12</td>\n",
       "      <td>1985</td>\n",
       "      <td>2</td>\n",
       "    </tr>\n",
       "    <tr>\n",
       "      <th>2</th>\n",
       "      <td>ABT</td>\n",
       "      <td>Abbott Laboratories</td>\n",
       "      <td>1.88</td>\n",
       "      <td>1983</td>\n",
       "      <td>3</td>\n",
       "    </tr>\n",
       "  </tbody>\n",
       "</table>\n",
       "</div>"
      ],
      "text/plain": [
       "  symbol                     name  dividend  first_div  calc\n",
       "0    MMM               3M Company      5.92       1970     1\n",
       "1    AOS  A. O. Smith Corporation      1.12       1985     2\n",
       "2    ABT      Abbott Laboratories      1.88       1983     3"
      ]
     },
     "execution_count": 357,
     "metadata": {},
     "output_type": "execute_result"
    }
   ],
   "source": [
    "df_prep_t = pd.DataFrame([])\n",
    "df_prep_t = df_filt.copy()\n",
    "df_prep_t['calc'] = div_neg\n",
    "df_prep_t.head(3)"
   ]
  },
  {
   "cell_type": "markdown",
   "id": "aa64ba90",
   "metadata": {},
   "source": [
    "We now have the number of observations if a dividend was decreased between 1990 & now in the `calc` column, **let's limit the dataframe to those with a `calc` column of zero; meaning there is no observation of them decreasing their dividend.**"
   ]
  },
  {
   "cell_type": "code",
   "execution_count": 358,
   "id": "d736bb90",
   "metadata": {},
   "outputs": [
    {
     "data": {
      "text/html": [
       "<div>\n",
       "<style scoped>\n",
       "    .dataframe tbody tr th:only-of-type {\n",
       "        vertical-align: middle;\n",
       "    }\n",
       "\n",
       "    .dataframe tbody tr th {\n",
       "        vertical-align: top;\n",
       "    }\n",
       "\n",
       "    .dataframe thead th {\n",
       "        text-align: right;\n",
       "    }\n",
       "</style>\n",
       "<table border=\"1\" class=\"dataframe\">\n",
       "  <thead>\n",
       "    <tr style=\"text-align: right;\">\n",
       "      <th></th>\n",
       "      <th>symbol</th>\n",
       "      <th>name</th>\n",
       "      <th>dividend</th>\n",
       "      <th>first_div</th>\n",
       "      <th>calc</th>\n",
       "    </tr>\n",
       "  </thead>\n",
       "  <tbody>\n",
       "    <tr>\n",
       "      <th>0</th>\n",
       "      <td>ADP</td>\n",
       "      <td>Automatic Data Processing, Inc.</td>\n",
       "      <td>4.16</td>\n",
       "      <td>1983</td>\n",
       "      <td>0</td>\n",
       "    </tr>\n",
       "    <tr>\n",
       "      <th>1</th>\n",
       "      <td>AFL</td>\n",
       "      <td>Aflac Incorporated</td>\n",
       "      <td>1.60</td>\n",
       "      <td>1984</td>\n",
       "      <td>0</td>\n",
       "    </tr>\n",
       "    <tr>\n",
       "      <th>2</th>\n",
       "      <td>APD</td>\n",
       "      <td>Air Products and Chemicals, Inc.</td>\n",
       "      <td>6.00</td>\n",
       "      <td>1983</td>\n",
       "      <td>0</td>\n",
       "    </tr>\n",
       "  </tbody>\n",
       "</table>\n",
       "</div>"
      ],
      "text/plain": [
       "  symbol                              name  dividend  first_div  calc\n",
       "0    ADP   Automatic Data Processing, Inc.      4.16       1983     0\n",
       "1    AFL                Aflac Incorporated      1.60       1984     0\n",
       "2    APD  Air Products and Chemicals, Inc.      6.00       1983     0"
      ]
     },
     "execution_count": 358,
     "metadata": {},
     "output_type": "execute_result"
    }
   ],
   "source": [
    "df_prep_t = df_prep_t.drop(df_prep_t[df_prep_t.calc != 0].index)\n",
    "df_prep_t = df_prep_t.reset_index()\n",
    "df_prep_t = df_prep_t.drop(['index'],axis=1)\n",
    "df_prep_t.head(3)"
   ]
  },
  {
   "cell_type": "code",
   "execution_count": 359,
   "id": "52004f29",
   "metadata": {},
   "outputs": [
    {
     "name": "stdout",
     "output_type": "stream",
     "text": [
      "With 49 equities, we are now left with 15.56% of the original dataframe\n"
     ]
    }
   ],
   "source": [
    "print('With',len(df_prep_t),'equities, we are now left with',\"{}%\".format(round((len(df_prep_t) / len(df_prep))*100,2)),'of the original dataframe')"
   ]
  },
  {
   "cell_type": "code",
   "execution_count": null,
   "id": "6083f05d",
   "metadata": {},
   "outputs": [],
   "source": []
  },
  {
   "cell_type": "markdown",
   "id": "523cee05",
   "metadata": {},
   "source": [
    "**The industry & sector**\n",
    "\n",
    "The next step of adding the industry & sector; this will come in handy in the \"soft Exploratory Data Analysis (**\"EDA\"**)\" which again, this is not a comprehensive Data Science or Analytics project."
   ]
  },
  {
   "cell_type": "code",
   "execution_count": 360,
   "id": "b57c3d75",
   "metadata": {
    "scrolled": false
   },
   "outputs": [
    {
     "name": "stderr",
     "output_type": "stream",
     "text": [
      "100%|██████████| 49/49 [03:58<00:00,  4.88s/it]\n"
     ]
    }
   ],
   "source": [
    "# setting up seperate lists for all the items\n",
    "sec = []\n",
    "ind = []\n",
    "\n",
    "# I will run a \"for loop to pull the data\"\n",
    "for i in tqdm(range(0,len(df_prep_t))):\n",
    "    ch = yf.Ticker(df_prep_t['symbol'][i])\n",
    "    \n",
    "    sec.append(ch.info['sector'])\n",
    "    ind.append(ch.info['industry'])\n"
   ]
  },
  {
   "cell_type": "code",
   "execution_count": 361,
   "id": "1b58bf7b",
   "metadata": {},
   "outputs": [
    {
     "data": {
      "text/html": [
       "<div>\n",
       "<style scoped>\n",
       "    .dataframe tbody tr th:only-of-type {\n",
       "        vertical-align: middle;\n",
       "    }\n",
       "\n",
       "    .dataframe tbody tr th {\n",
       "        vertical-align: top;\n",
       "    }\n",
       "\n",
       "    .dataframe thead th {\n",
       "        text-align: right;\n",
       "    }\n",
       "</style>\n",
       "<table border=\"1\" class=\"dataframe\">\n",
       "  <thead>\n",
       "    <tr style=\"text-align: right;\">\n",
       "      <th></th>\n",
       "      <th>symbol</th>\n",
       "      <th>name</th>\n",
       "      <th>dividend</th>\n",
       "      <th>first_div</th>\n",
       "      <th>calc</th>\n",
       "      <th>sector</th>\n",
       "      <th>industry</th>\n",
       "    </tr>\n",
       "  </thead>\n",
       "  <tbody>\n",
       "    <tr>\n",
       "      <th>0</th>\n",
       "      <td>ADP</td>\n",
       "      <td>Automatic Data Processing, Inc.</td>\n",
       "      <td>4.16</td>\n",
       "      <td>1983</td>\n",
       "      <td>0</td>\n",
       "      <td>Industrials</td>\n",
       "      <td>Staffing &amp; Employment Services</td>\n",
       "    </tr>\n",
       "    <tr>\n",
       "      <th>1</th>\n",
       "      <td>AFL</td>\n",
       "      <td>Aflac Incorporated</td>\n",
       "      <td>1.60</td>\n",
       "      <td>1984</td>\n",
       "      <td>0</td>\n",
       "      <td>Financial Services</td>\n",
       "      <td>Insurance—Life</td>\n",
       "    </tr>\n",
       "    <tr>\n",
       "      <th>2</th>\n",
       "      <td>APD</td>\n",
       "      <td>Air Products and Chemicals, Inc.</td>\n",
       "      <td>6.00</td>\n",
       "      <td>1983</td>\n",
       "      <td>0</td>\n",
       "      <td>Basic Materials</td>\n",
       "      <td>Specialty Chemicals</td>\n",
       "    </tr>\n",
       "    <tr>\n",
       "      <th>3</th>\n",
       "      <td>AJG</td>\n",
       "      <td>Arthur J. Gallagher &amp; Co.</td>\n",
       "      <td>2.04</td>\n",
       "      <td>1988</td>\n",
       "      <td>0</td>\n",
       "      <td>Financial Services</td>\n",
       "      <td>Insurance Brokers</td>\n",
       "    </tr>\n",
       "    <tr>\n",
       "      <th>4</th>\n",
       "      <td>BDX</td>\n",
       "      <td>Becton, Dickinson and Company</td>\n",
       "      <td>3.48</td>\n",
       "      <td>1973</td>\n",
       "      <td>0</td>\n",
       "      <td>Healthcare</td>\n",
       "      <td>Medical Instruments &amp; Supplies</td>\n",
       "    </tr>\n",
       "  </tbody>\n",
       "</table>\n",
       "</div>"
      ],
      "text/plain": [
       "  symbol                              name  dividend  first_div  calc  \\\n",
       "0    ADP   Automatic Data Processing, Inc.      4.16       1983     0   \n",
       "1    AFL                Aflac Incorporated      1.60       1984     0   \n",
       "2    APD  Air Products and Chemicals, Inc.      6.00       1983     0   \n",
       "3    AJG         Arthur J. Gallagher & Co.      2.04       1988     0   \n",
       "4    BDX     Becton, Dickinson and Company      3.48       1973     0   \n",
       "\n",
       "               sector                        industry  \n",
       "0         Industrials  Staffing & Employment Services  \n",
       "1  Financial Services                  Insurance—Life  \n",
       "2     Basic Materials             Specialty Chemicals  \n",
       "3  Financial Services               Insurance Brokers  \n",
       "4          Healthcare  Medical Instruments & Supplies  "
      ]
     },
     "execution_count": 361,
     "metadata": {},
     "output_type": "execute_result"
    }
   ],
   "source": [
    "df_pre = pd.DataFrame([])\n",
    "df_pre = df_prep_t.copy()\n",
    "df_pre['sector'] = sec\n",
    "df_pre['industry'] = ind\n",
    "df_pre.head()"
   ]
  },
  {
   "cell_type": "markdown",
   "id": "a39e2c4d",
   "metadata": {},
   "source": [
    "Now we have all the desired info; it's now just to rearrange & then send to \"soft EDA\"."
   ]
  },
  {
   "cell_type": "code",
   "execution_count": 362,
   "id": "ba1f48b2",
   "metadata": {},
   "outputs": [
    {
     "data": {
      "text/html": [
       "<div>\n",
       "<style scoped>\n",
       "    .dataframe tbody tr th:only-of-type {\n",
       "        vertical-align: middle;\n",
       "    }\n",
       "\n",
       "    .dataframe tbody tr th {\n",
       "        vertical-align: top;\n",
       "    }\n",
       "\n",
       "    .dataframe thead th {\n",
       "        text-align: right;\n",
       "    }\n",
       "</style>\n",
       "<table border=\"1\" class=\"dataframe\">\n",
       "  <thead>\n",
       "    <tr style=\"text-align: right;\">\n",
       "      <th></th>\n",
       "      <th>symbol</th>\n",
       "      <th>name</th>\n",
       "      <th>sector</th>\n",
       "      <th>industry</th>\n",
       "      <th>first_div</th>\n",
       "      <th>dividend</th>\n",
       "    </tr>\n",
       "  </thead>\n",
       "  <tbody>\n",
       "    <tr>\n",
       "      <th>0</th>\n",
       "      <td>ADP</td>\n",
       "      <td>Automatic Data Processing, Inc.</td>\n",
       "      <td>Industrials</td>\n",
       "      <td>Staffing &amp; Employment Services</td>\n",
       "      <td>1983</td>\n",
       "      <td>4.16</td>\n",
       "    </tr>\n",
       "    <tr>\n",
       "      <th>1</th>\n",
       "      <td>AFL</td>\n",
       "      <td>Aflac Incorporated</td>\n",
       "      <td>Financial Services</td>\n",
       "      <td>Insurance—Life</td>\n",
       "      <td>1984</td>\n",
       "      <td>1.60</td>\n",
       "    </tr>\n",
       "    <tr>\n",
       "      <th>2</th>\n",
       "      <td>APD</td>\n",
       "      <td>Air Products and Chemicals, Inc.</td>\n",
       "      <td>Basic Materials</td>\n",
       "      <td>Specialty Chemicals</td>\n",
       "      <td>1983</td>\n",
       "      <td>6.00</td>\n",
       "    </tr>\n",
       "  </tbody>\n",
       "</table>\n",
       "</div>"
      ],
      "text/plain": [
       "  symbol                              name              sector  \\\n",
       "0    ADP   Automatic Data Processing, Inc.         Industrials   \n",
       "1    AFL                Aflac Incorporated  Financial Services   \n",
       "2    APD  Air Products and Chemicals, Inc.     Basic Materials   \n",
       "\n",
       "                         industry  first_div  dividend  \n",
       "0  Staffing & Employment Services       1983      4.16  \n",
       "1                  Insurance—Life       1984      1.60  \n",
       "2             Specialty Chemicals       1983      6.00  "
      ]
     },
     "execution_count": 362,
     "metadata": {},
     "output_type": "execute_result"
    }
   ],
   "source": [
    "df = pd.DataFrame([])\n",
    "df = pd.DataFrame(df_pre,columns=['symbol', 'name','sector', 'industry', 'first_div', 'dividend'])\n",
    "df.head(3)"
   ]
  },
  {
   "cell_type": "markdown",
   "id": "bc690294",
   "metadata": {},
   "source": [
    "Putting aside before proceeding."
   ]
  },
  {
   "cell_type": "code",
   "execution_count": 363,
   "id": "8a7c91ff",
   "metadata": {},
   "outputs": [],
   "source": [
    "df.to_excel('df.xlsx')"
   ]
  },
  {
   "cell_type": "code",
   "execution_count": null,
   "id": "d2da33df",
   "metadata": {},
   "outputs": [],
   "source": []
  },
  {
   "cell_type": "markdown",
   "id": "44157b0a",
   "metadata": {},
   "source": [
    "# Soft EDA\n",
    "\n",
    "It is now time to do a soft EDA. As mentioned, its called **\"Soft\" because the contents herein are not very exhaustive**; our initial goal has already been achieved & an exhaustive EDA was not apart of the goal."
   ]
  },
  {
   "cell_type": "code",
   "execution_count": 364,
   "id": "d969dc1f",
   "metadata": {},
   "outputs": [
    {
     "data": {
      "text/html": [
       "<div>\n",
       "<style scoped>\n",
       "    .dataframe tbody tr th:only-of-type {\n",
       "        vertical-align: middle;\n",
       "    }\n",
       "\n",
       "    .dataframe tbody tr th {\n",
       "        vertical-align: top;\n",
       "    }\n",
       "\n",
       "    .dataframe thead th {\n",
       "        text-align: right;\n",
       "    }\n",
       "</style>\n",
       "<table border=\"1\" class=\"dataframe\">\n",
       "  <thead>\n",
       "    <tr style=\"text-align: right;\">\n",
       "      <th></th>\n",
       "      <th>symbol</th>\n",
       "      <th>name</th>\n",
       "      <th>sector</th>\n",
       "      <th>industry</th>\n",
       "      <th>first_div</th>\n",
       "      <th>dividend</th>\n",
       "    </tr>\n",
       "  </thead>\n",
       "  <tbody>\n",
       "    <tr>\n",
       "      <th>0</th>\n",
       "      <td>ADP</td>\n",
       "      <td>Automatic Data Processing, Inc.</td>\n",
       "      <td>Industrials</td>\n",
       "      <td>Staffing &amp; Employment Services</td>\n",
       "      <td>1983</td>\n",
       "      <td>4.16</td>\n",
       "    </tr>\n",
       "    <tr>\n",
       "      <th>1</th>\n",
       "      <td>AFL</td>\n",
       "      <td>Aflac Incorporated</td>\n",
       "      <td>Financial Services</td>\n",
       "      <td>Insurance—Life</td>\n",
       "      <td>1984</td>\n",
       "      <td>1.60</td>\n",
       "    </tr>\n",
       "    <tr>\n",
       "      <th>2</th>\n",
       "      <td>APD</td>\n",
       "      <td>Air Products and Chemicals, Inc.</td>\n",
       "      <td>Basic Materials</td>\n",
       "      <td>Specialty Chemicals</td>\n",
       "      <td>1983</td>\n",
       "      <td>6.00</td>\n",
       "    </tr>\n",
       "  </tbody>\n",
       "</table>\n",
       "</div>"
      ],
      "text/plain": [
       "  symbol                              name              sector  \\\n",
       "0    ADP   Automatic Data Processing, Inc.         Industrials   \n",
       "1    AFL                Aflac Incorporated  Financial Services   \n",
       "2    APD  Air Products and Chemicals, Inc.     Basic Materials   \n",
       "\n",
       "                         industry  first_div  dividend  \n",
       "0  Staffing & Employment Services       1983      4.16  \n",
       "1                  Insurance—Life       1984      1.60  \n",
       "2             Specialty Chemicals       1983      6.00  "
      ]
     },
     "execution_count": 364,
     "metadata": {},
     "output_type": "execute_result"
    }
   ],
   "source": [
    "df.head(3)"
   ]
  },
  {
   "cell_type": "markdown",
   "id": "2c576974",
   "metadata": {},
   "source": [
    "FYI - **Apple is suprising albeit I checked; it's correct.**"
   ]
  },
  {
   "cell_type": "markdown",
   "id": "178bfbe7",
   "metadata": {},
   "source": [
    "Simple Bar Chart"
   ]
  },
  {
   "cell_type": "code",
   "execution_count": 365,
   "id": "6eb82512",
   "metadata": {},
   "outputs": [
    {
     "data": {
      "text/plain": [
       "Text(0.5, 0, '# of equities')"
      ]
     },
     "execution_count": 365,
     "metadata": {},
     "output_type": "execute_result"
    },
    {
     "data": {
      "image/png": "[encoded data removed]",
      "text/plain": [
       "<Figure size 1080x864 with 1 Axes>"
      ]
     },
     "metadata": {},
     "output_type": "display_data"
    }
   ],
   "source": [
    "# sizing\n",
    "plt.figure(figsize=(15, 12))\n",
    "\n",
    "# charting\n",
    "(df.groupby('sector')\n",
    "   ['sector'].count().plot.barh())\n",
    "\n",
    "# ascetics\n",
    "plt.yticks(fontsize=16)\n",
    "plt.xticks(fontsize=16)\n",
    "plt.ylabel('sectors', fontsize=18)\n",
    "plt.xlabel('# of equities', fontsize=18)"
   ]
  },
  {
   "cell_type": "code",
   "execution_count": null,
   "id": "65c4d043",
   "metadata": {},
   "outputs": [],
   "source": []
  },
  {
   "cell_type": "markdown",
   "id": "da3330a8",
   "metadata": {},
   "source": [
    "Simple Boxplot"
   ]
  },
  {
   "cell_type": "code",
   "execution_count": 366,
   "id": "395175cf",
   "metadata": {},
   "outputs": [
    {
     "data": {
      "text/plain": [
       "(array([0, 1, 2, 3, 4, 5, 6, 7, 8, 9]),\n",
       " [Text(0, 0, 'Industrials'),\n",
       "  Text(1, 0, 'Financial Services'),\n",
       "  Text(2, 0, 'Basic Materials'),\n",
       "  Text(3, 0, 'Healthcare'),\n",
       "  Text(4, 0, 'Energy'),\n",
       "  Text(5, 0, 'Consumer Defensive'),\n",
       "  Text(6, 0, 'Utilities'),\n",
       "  Text(7, 0, 'Consumer Cyclical'),\n",
       "  Text(8, 0, 'Communication Services'),\n",
       "  Text(9, 0, 'Technology')])"
      ]
     },
     "execution_count": 366,
     "metadata": {},
     "output_type": "execute_result"
    },
    {
     "data": {
      "image/png": "[encoded data removed]",
      "text/plain": [
       "<Figure size 1080x576 with 1 Axes>"
      ]
     },
     "metadata": {},
     "output_type": "display_data"
    }
   ],
   "source": [
    "sns.set_theme(style=\"ticks\", palette=\"pastel\")\n",
    "sns.set(rc = {'figure.figsize':(15,8)})\n",
    "\n",
    "ax = sns.boxplot(x=\"sector\", y=\"dividend\",\n",
    "            data=df)\n",
    "# sns.despine(offset=10, trim=True)\n",
    "plt.xticks(rotation=90)"
   ]
  },
  {
   "cell_type": "code",
   "execution_count": null,
   "id": "b456ca8f",
   "metadata": {},
   "outputs": [],
   "source": []
  },
  {
   "cell_type": "markdown",
   "id": "9e90e454",
   "metadata": {},
   "source": [
    "**Rate of Return :: 2021**\n",
    "\n",
    "2021 wasn't a year of Value but it may be interesting how an equally weighted portfolio of our identified equities faired out last year compared to the SPY.\n",
    "\n",
    "Please note, this is purely capital gains on the equity price front, not including dividends paid."
   ]
  },
  {
   "cell_type": "code",
   "execution_count": 372,
   "id": "e0983238",
   "metadata": {},
   "outputs": [
    {
     "data": {
      "text/html": [
       "<div>\n",
       "<style scoped>\n",
       "    .dataframe tbody tr th:only-of-type {\n",
       "        vertical-align: middle;\n",
       "    }\n",
       "\n",
       "    .dataframe tbody tr th {\n",
       "        vertical-align: top;\n",
       "    }\n",
       "\n",
       "    .dataframe thead th {\n",
       "        text-align: right;\n",
       "    }\n",
       "</style>\n",
       "<table border=\"1\" class=\"dataframe\">\n",
       "  <thead>\n",
       "    <tr style=\"text-align: right;\">\n",
       "      <th></th>\n",
       "      <th>symbol</th>\n",
       "      <th>name</th>\n",
       "      <th>sector</th>\n",
       "      <th>industry</th>\n",
       "    </tr>\n",
       "  </thead>\n",
       "  <tbody>\n",
       "    <tr>\n",
       "      <th>0</th>\n",
       "      <td>ADP</td>\n",
       "      <td>Automatic Data Processing, Inc.</td>\n",
       "      <td>Industrials</td>\n",
       "      <td>Staffing &amp; Employment Services</td>\n",
       "    </tr>\n",
       "    <tr>\n",
       "      <th>1</th>\n",
       "      <td>AFL</td>\n",
       "      <td>Aflac Incorporated</td>\n",
       "      <td>Financial Services</td>\n",
       "      <td>Insurance—Life</td>\n",
       "    </tr>\n",
       "    <tr>\n",
       "      <th>2</th>\n",
       "      <td>APD</td>\n",
       "      <td>Air Products and Chemicals, Inc.</td>\n",
       "      <td>Basic Materials</td>\n",
       "      <td>Specialty Chemicals</td>\n",
       "    </tr>\n",
       "  </tbody>\n",
       "</table>\n",
       "</div>"
      ],
      "text/plain": [
       "  symbol                              name              sector  \\\n",
       "0    ADP   Automatic Data Processing, Inc.         Industrials   \n",
       "1    AFL                Aflac Incorporated  Financial Services   \n",
       "2    APD  Air Products and Chemicals, Inc.     Basic Materials   \n",
       "\n",
       "                         industry  \n",
       "0  Staffing & Employment Services  \n",
       "1                  Insurance—Life  \n",
       "2             Specialty Chemicals  "
      ]
     },
     "execution_count": 372,
     "metadata": {},
     "output_type": "execute_result"
    }
   ],
   "source": [
    "# setting up a seperate dataframe for this exercise\n",
    "df_l_yr = pd.DataFrame([])\n",
    "df_l_yr = df.copy()\n",
    "\n",
    "# dropping a few columns to lighten the visual load\n",
    "df_l_yr = df_l_yr.drop(columns=['first_div','dividend'], axis=1)\n",
    "df_l_yr.head(3)"
   ]
  },
  {
   "cell_type": "markdown",
   "id": "b0391ee7",
   "metadata": {},
   "source": [
    "Pulling in the 2021 percent change for the dataframe. **I will use `investpy` to accomplish this goal, however I do know there are 2 equities ( listed below ) which do not boad well with `investpy` & as such I will remove them & revert to `yfinance` for them:**\n",
    "\n",
    "    * WTRG\n",
    "    * RRX\n",
    "    * J"
   ]
  },
  {
   "cell_type": "code",
   "execution_count": 373,
   "id": "62b16acd",
   "metadata": {},
   "outputs": [
    {
     "name": "stdout",
     "output_type": "stream",
     "text": [
      "49 | The current length\n"
     ]
    }
   ],
   "source": [
    "prev = len(df_l_yr)\n",
    "print(prev,'| The current length')"
   ]
  },
  {
   "cell_type": "code",
   "execution_count": 374,
   "id": "6572a87d",
   "metadata": {},
   "outputs": [],
   "source": [
    "# dropping the equities that throw errors\n",
    "df_l_yr = df_l_yr[df_l_yr['symbol'] != 'WTRG']\n",
    "df_l_yr = df_l_yr[df_l_yr['symbol'] != 'RRX']\n",
    "df_l_yr = df_l_yr[df_l_yr['symbol'] != 'J']\n",
    "\n",
    "# reseting the index\n",
    "df_l_yr = df_l_yr.reset_index()\n",
    "df_l_yr = df_l_yr.drop(columns=['index'])"
   ]
  },
  {
   "cell_type": "code",
   "execution_count": 375,
   "id": "829ab46e",
   "metadata": {},
   "outputs": [
    {
     "name": "stdout",
     "output_type": "stream",
     "text": [
      "46 | The current length now, meaning 3 were removed\n"
     ]
    }
   ],
   "source": [
    "post = len(df_l_yr)\n",
    "print(post,'| The current length now, meaning',prev-post,'were removed')"
   ]
  },
  {
   "cell_type": "markdown",
   "id": "89e1b730",
   "metadata": {},
   "source": [
    "Ready. I will add them back after."
   ]
  },
  {
   "cell_type": "code",
   "execution_count": 376,
   "id": "ce084072",
   "metadata": {},
   "outputs": [
    {
     "name": "stderr",
     "output_type": "stream",
     "text": [
      "100%|██████████| 46/46 [05:49<00:00,  7.59s/it]\n"
     ]
    }
   ],
   "source": [
    "# the main holdings\n",
    "pct_change = []\n",
    "\n",
    "# pulling in the tickers\n",
    "for i in tqdm(range(0,len(df_l_yr))):   \n",
    "    syb = yf.Ticker(df_l_yr['symbol'][i])\n",
    "    syb_s = df_l_yr['symbol'][i]\n",
    "    syb_st = str(syb_s)\n",
    "\n",
    "    # starting a new date range\n",
    "    l_yr = pd.DataFrame([])\n",
    "    l_yr = investpy.stocks.get_stock_historical_data(stock=syb_st, country='United States', \n",
    "                                         from_date='01/01/1990', to_date='31/12/2021',\n",
    "                                         as_json=False, order='descending', interval='Daily')\n",
    "    # sleeping \n",
    "    sleep(5)\n",
    "        \n",
    "    # formulating the start date for the index\n",
    "    s = 0\n",
    "    s = len(l_yr) - 1\n",
    "    \n",
    "    # the pct_change\n",
    "    pct = round(((l_yr['Close'][0] / l_yr['Close'][s])-1)*100,2)\n",
    "    pct_change.append(pct)\n",
    "    "
   ]
  },
  {
   "cell_type": "code",
   "execution_count": 377,
   "id": "4672729e",
   "metadata": {},
   "outputs": [],
   "source": [
    "df_l_yr['pct_ch_1990'] = pct_change"
   ]
  },
  {
   "cell_type": "markdown",
   "id": "60787533",
   "metadata": {},
   "source": [
    "Ok. I am down two (2) which didn't run through `investpy` so I will deviate to `yfinance` to see if it's working properly."
   ]
  },
  {
   "cell_type": "code",
   "execution_count": 381,
   "id": "573f5a23",
   "metadata": {},
   "outputs": [],
   "source": [
    "# start with the first one\n",
    "yf1_sy = yf.Ticker(\"WTRG\")\n",
    "WTRG = yf1_sy.history(period=\"max\")\n",
    "WTRG = WTRG[::-1]\n",
    "WTRG = WTRG.reset_index()\n",
    "\n",
    "# removing rows with a year before 1990\n",
    "WTRG['year'] = pd.DatetimeIndex(WTRG['Date']).year\n",
    "WTRG = WTRG[WTRG['year'] >= 1990]\n",
    "WTRG = WTRG.drop(columns=['year','Stock Splits','Open','High','Low','Volume'])\n",
    "WTRG = WTRG.set_index('Date')"
   ]
  },
  {
   "cell_type": "code",
   "execution_count": 382,
   "id": "0f2b2b1a",
   "metadata": {},
   "outputs": [],
   "source": [
    "# now the next one\n",
    "yf2_sy = yf.Ticker(\"RRX\")\n",
    "RRX = yf2_sy.history(period=\"max\")\n",
    "RRX = RRX[::-1]\n",
    "RRX = RRX.reset_index()\n",
    "\n",
    "# removing rows with a year before 1990\n",
    "RRX['year'] = pd.DatetimeIndex(RRX['Date']).year\n",
    "RRX = RRX[RRX['year'] >= 1990]\n",
    "RRX = RRX.drop(columns=['year','Stock Splits','Open','High','Low','Volume'])\n",
    "RRX = RRX.set_index('Date')"
   ]
  },
  {
   "cell_type": "code",
   "execution_count": 384,
   "id": "9ab6330b",
   "metadata": {},
   "outputs": [],
   "source": [
    "# now the last \n",
    "yf3_sy = yf.Ticker(\"J\")\n",
    "jac = yf3_sy.history(period=\"max\")\n",
    "jac = jac[::-1]\n",
    "jac = jac.reset_index()\n",
    "\n",
    "# removing rows with a year before 1990\n",
    "jac['year'] = pd.DatetimeIndex(jac['Date']).year\n",
    "jac = jac[jac['year'] >= 1990]\n",
    "jac = jac.drop(columns=['year','Stock Splits','Open','High','Low','Volume'])\n",
    "jac = jac.set_index('Date')"
   ]
  },
  {
   "cell_type": "code",
   "execution_count": 386,
   "id": "8481476c",
   "metadata": {},
   "outputs": [
    {
     "data": {
      "text/html": [
       "<div>\n",
       "<style scoped>\n",
       "    .dataframe tbody tr th:only-of-type {\n",
       "        vertical-align: middle;\n",
       "    }\n",
       "\n",
       "    .dataframe tbody tr th {\n",
       "        vertical-align: top;\n",
       "    }\n",
       "\n",
       "    .dataframe thead th {\n",
       "        text-align: right;\n",
       "    }\n",
       "</style>\n",
       "<table border=\"1\" class=\"dataframe\">\n",
       "  <thead>\n",
       "    <tr style=\"text-align: right;\">\n",
       "      <th></th>\n",
       "      <th>Close</th>\n",
       "      <th>Dividends</th>\n",
       "    </tr>\n",
       "    <tr>\n",
       "      <th>Date</th>\n",
       "      <th></th>\n",
       "      <th></th>\n",
       "    </tr>\n",
       "  </thead>\n",
       "  <tbody>\n",
       "    <tr>\n",
       "      <th>1990-01-02</th>\n",
       "      <td>1.697827</td>\n",
       "      <td>0.0</td>\n",
       "    </tr>\n",
       "  </tbody>\n",
       "</table>\n",
       "</div>"
      ],
      "text/plain": [
       "               Close  Dividends\n",
       "Date                           \n",
       "1990-01-02  1.697827        0.0"
      ]
     },
     "execution_count": 386,
     "metadata": {},
     "output_type": "execute_result"
    }
   ],
   "source": [
    "jac.tail(1)"
   ]
  },
  {
   "cell_type": "markdown",
   "id": "63e7f2ef",
   "metadata": {},
   "source": [
    "As see above, yfinance says that **WTRG** was trading at 0.719 on 2 January 1990. This is incorrect, hence why I gravitated to `investpy` to handle this portion. `investpy` can't handle **WTRG** or **RRX**, thus I will have to manually input the data. To remain transparent, I will include the data below for your own reference.\n",
    "\n",
    "sd = 2 January 1990 ( the start date )\n",
    "ed = 31 December 1990 ( the end date )\n",
    "\n",
    "**WTRG**\n",
    "\n",
    "    * WTRG_sd_price = 2.15\n",
    "    * WTRG_ed_price = 53.69\n",
    "\n",
    "**RRX**\n",
    "\n",
    "    * RRX_sd_price = 8.25\n",
    "    * RRX_ed_price = 170.18\n",
    "\n",
    "**J**\n",
    "\n",
    "    * jac_sd_price = 1.69\n",
    "    * jac_ed_price = 127.66\n",
    "\n",
    "The next two (2) lines of code are setting up the addition of these to the main dataframe."
   ]
  },
  {
   "cell_type": "code",
   "execution_count": 387,
   "id": "830ff7c6",
   "metadata": {},
   "outputs": [],
   "source": [
    "# the WTRG data\n",
    "wtrg_pct = round(((53.69 / 2.15)-1)*100,2)\n",
    "\n",
    "# setting up a WTRG dataframe to append\n",
    "WTRG_df = pd.DataFrame([])\n",
    "WTRG_df = pd.DataFrame([yf1_sy.info['symbol'],yf1_sy.info['longName'],yf1_sy.info['sector'],yf1_sy.info['industry'],\n",
    "                    wtrg_pct]).T\n",
    "WTRG_df.columns = ['symbol', 'name', 'sector', 'industry', 'pct_ch_1990']\n",
    "\n",
    "# the RRX data\n",
    "RRX_pct = round(((170.18 / 8.25)-1)*100,2)\n",
    "\n",
    "# setting up a RRX dataframe to append\n",
    "RRX_df = pd.DataFrame([])\n",
    "RRX_df = pd.DataFrame([yf2_sy.info['symbol'],yf2_sy.info['longName'],yf2_sy.info['sector'],yf2_sy.info['industry'],\n",
    "                    RRX_pct]).T\n",
    "RRX_df.columns = ['symbol', 'name', 'sector', 'industry', 'pct_ch_1990']\n",
    "\n",
    "# the jac data\n",
    "jac_pct = round(((127.66 / 1.69)-1)*100,2)\n",
    "\n",
    "# setting up a RRX dataframe to append\n",
    "jac_df = pd.DataFrame([])\n",
    "jac_df = pd.DataFrame([yf3_sy.info['symbol'],yf3_sy.info['longName'],yf3_sy.info['sector'],yf3_sy.info['industry'],\n",
    "                    jac_pct]).T\n",
    "jac_df.columns = ['symbol', 'name', 'sector', 'industry', 'pct_ch_1990']\n"
   ]
  },
  {
   "cell_type": "code",
   "execution_count": 390,
   "id": "86c6f1d7",
   "metadata": {},
   "outputs": [],
   "source": [
    "# WTRG :: adding to the main dataframe\n",
    "df_l_yr = df_l_yr.append(WTRG_df)\n",
    "df_l_yr = df_l_yr.reset_index()\n",
    "df_l_yr = df_l_yr.drop(columns=['index'])\n",
    "\n",
    "# RRX :: adding to the main dataframe\n",
    "df_l_yr = df_l_yr.append(RRX_df)\n",
    "df_l_yr = df_l_yr.reset_index()\n",
    "df_l_yr = df_l_yr.drop(columns=['index'])\n",
    "\n",
    "# jac :: adding to the main dataframe\n",
    "df_l_yr = df_l_yr.append(jac_df)\n",
    "df_l_yr = df_l_yr.reset_index()\n",
    "df_l_yr = df_l_yr.drop(columns=['index'])\n"
   ]
  },
  {
   "cell_type": "code",
   "execution_count": 391,
   "id": "21573935",
   "metadata": {},
   "outputs": [
    {
     "data": {
      "text/html": [
       "<div>\n",
       "<style scoped>\n",
       "    .dataframe tbody tr th:only-of-type {\n",
       "        vertical-align: middle;\n",
       "    }\n",
       "\n",
       "    .dataframe tbody tr th {\n",
       "        vertical-align: top;\n",
       "    }\n",
       "\n",
       "    .dataframe thead th {\n",
       "        text-align: right;\n",
       "    }\n",
       "</style>\n",
       "<table border=\"1\" class=\"dataframe\">\n",
       "  <thead>\n",
       "    <tr style=\"text-align: right;\">\n",
       "      <th></th>\n",
       "      <th>symbol</th>\n",
       "      <th>name</th>\n",
       "      <th>sector</th>\n",
       "      <th>industry</th>\n",
       "      <th>pct_ch_1990</th>\n",
       "    </tr>\n",
       "  </thead>\n",
       "  <tbody>\n",
       "    <tr>\n",
       "      <th>46</th>\n",
       "      <td>WTRG</td>\n",
       "      <td>Essential Utilities, Inc.</td>\n",
       "      <td>Utilities</td>\n",
       "      <td>Utilities—Regulated Water</td>\n",
       "      <td>2397.21</td>\n",
       "    </tr>\n",
       "    <tr>\n",
       "      <th>47</th>\n",
       "      <td>RRX</td>\n",
       "      <td>Regal Rexnord Corporation</td>\n",
       "      <td>Industrials</td>\n",
       "      <td>Specialty Industrial Machinery</td>\n",
       "      <td>1962.79</td>\n",
       "    </tr>\n",
       "    <tr>\n",
       "      <th>48</th>\n",
       "      <td>J</td>\n",
       "      <td>Jacobs Engineering Group Inc.</td>\n",
       "      <td>Industrials</td>\n",
       "      <td>Engineering &amp; Construction</td>\n",
       "      <td>7453.85</td>\n",
       "    </tr>\n",
       "  </tbody>\n",
       "</table>\n",
       "</div>"
      ],
      "text/plain": [
       "   symbol                           name       sector  \\\n",
       "46   WTRG      Essential Utilities, Inc.    Utilities   \n",
       "47    RRX      Regal Rexnord Corporation  Industrials   \n",
       "48      J  Jacobs Engineering Group Inc.  Industrials   \n",
       "\n",
       "                          industry pct_ch_1990  \n",
       "46       Utilities—Regulated Water     2397.21  \n",
       "47  Specialty Industrial Machinery     1962.79  \n",
       "48      Engineering & Construction     7453.85  "
      ]
     },
     "execution_count": 391,
     "metadata": {},
     "output_type": "execute_result"
    }
   ],
   "source": [
    "df_l_yr.tail(3)"
   ]
  },
  {
   "cell_type": "markdown",
   "id": "cb9a66d2",
   "metadata": {},
   "source": [
    "I now have them all there with \"a bit of manual love\" to proceed.\n",
    "\n",
    "**Let's move on over to a comparable to what we can compare to the average of the above :: the `SPY` with a Wikipedia definition below:**\n",
    "\n",
    "    * The SPDR S&P 500 trust is an exchange-traded fund which trades on the NYSE Arca under the symbol (NYSE Arca: SPY). SPDR is an acronym for the Standard & Poor's Depositary Receipts, the former name of the ETF. It is designed to track the S&P 500 stock market index. This fund is the largest ETF in the world.\n",
    "    \n",
    "I'll turn back to `investpy` but the SPY is not a stock, per say, it's an ETF so the `investpy` pull is \"a little different\" for your reference."
   ]
  },
  {
   "cell_type": "code",
   "execution_count": 392,
   "id": "01e4b05e",
   "metadata": {},
   "outputs": [],
   "source": [
    "spy_df = investpy.get_etf_historical_data(etf='SPDR S&P 500', country='United States',\n",
    "                                        from_date='01/01/1990', to_date='31/12/2021')\n",
    "spy_df = spy_df[::-1]\n",
    "spy_df = spy_df.drop(columns=['Open','High','Low','Volume','Currency','Exchange'])"
   ]
  },
  {
   "cell_type": "markdown",
   "id": "92f53833",
   "metadata": {},
   "source": [
    "What is seen here is that the `SPY` has only been reporting since 1993; it was actually reporting the day before but I will turn a blind eye to that.\n",
    "\n",
    "**I will need to adjust the previous dataframe to use that date (1993-02-01) as the point of referance for all** but first I'll first run the numbers here."
   ]
  },
  {
   "cell_type": "code",
   "execution_count": 393,
   "id": "5f3839d6",
   "metadata": {
    "scrolled": true
   },
   "outputs": [
    {
     "name": "stdout",
     "output_type": "stream",
     "text": [
      "$44.25 | This is the price to compare to all going forwards as that's where the SPY started\n"
     ]
    }
   ],
   "source": [
    "spy_s = spy_df['Close'][int(len(spy_df)-1)]\n",
    "print(\"${}\".format(spy_s),'| This is the price to compare to all going forwards as that\\'s where the SPY started')"
   ]
  },
  {
   "cell_type": "code",
   "execution_count": 394,
   "id": "92a17c46",
   "metadata": {},
   "outputs": [
    {
     "name": "stderr",
     "output_type": "stream",
     "text": [
      "100%|██████████| 7288/7288 [00:00<00:00, 168635.70it/s]\n"
     ]
    }
   ],
   "source": [
    "# this will be the main depository\n",
    "pct_spy = []\n",
    "\n",
    "# re-establishing the first observation to compare too here it has been reversed ( same # as before )\n",
    "spy_c_s = spy_df['Close'][int(len(spy_df)-1)]\n",
    "\n",
    "for i in tqdm(range(0,len(spy_df)-1)):\n",
    "    \n",
    "    spy_pct = 0\n",
    "    spy_pct = (( spy_df['Close'][i] / spy_c_s )-1)*100\n",
    "\n",
    "    pct_spy.append(spy_pct)\n",
    "\n",
    "pct_spy.append(0)"
   ]
  },
  {
   "cell_type": "code",
   "execution_count": 395,
   "id": "66cc3067",
   "metadata": {},
   "outputs": [],
   "source": [
    "# add to the dataframe\n",
    "spy_df['spy_pct'] = pct_spy"
   ]
  },
  {
   "cell_type": "code",
   "execution_count": 396,
   "id": "e4d3d833",
   "metadata": {},
   "outputs": [
    {
     "data": {
      "text/html": [
       "<div>\n",
       "<style scoped>\n",
       "    .dataframe tbody tr th:only-of-type {\n",
       "        vertical-align: middle;\n",
       "    }\n",
       "\n",
       "    .dataframe tbody tr th {\n",
       "        vertical-align: top;\n",
       "    }\n",
       "\n",
       "    .dataframe thead th {\n",
       "        text-align: right;\n",
       "    }\n",
       "</style>\n",
       "<table border=\"1\" class=\"dataframe\">\n",
       "  <thead>\n",
       "    <tr style=\"text-align: right;\">\n",
       "      <th></th>\n",
       "      <th>Close</th>\n",
       "      <th>spy_pct</th>\n",
       "    </tr>\n",
       "    <tr>\n",
       "      <th>Date</th>\n",
       "      <th></th>\n",
       "      <th></th>\n",
       "    </tr>\n",
       "  </thead>\n",
       "  <tbody>\n",
       "    <tr>\n",
       "      <th>2021-12-31</th>\n",
       "      <td>474.96</td>\n",
       "      <td>973.355932</td>\n",
       "    </tr>\n",
       "  </tbody>\n",
       "</table>\n",
       "</div>"
      ],
      "text/plain": [
       "             Close     spy_pct\n",
       "Date                          \n",
       "2021-12-31  474.96  973.355932"
      ]
     },
     "execution_count": 396,
     "metadata": {},
     "output_type": "execute_result"
    }
   ],
   "source": [
    "spy_df.head(1)"
   ]
  },
  {
   "cell_type": "code",
   "execution_count": 397,
   "id": "d727f697",
   "metadata": {},
   "outputs": [
    {
     "data": {
      "text/html": [
       "<div>\n",
       "<style scoped>\n",
       "    .dataframe tbody tr th:only-of-type {\n",
       "        vertical-align: middle;\n",
       "    }\n",
       "\n",
       "    .dataframe tbody tr th {\n",
       "        vertical-align: top;\n",
       "    }\n",
       "\n",
       "    .dataframe thead th {\n",
       "        text-align: right;\n",
       "    }\n",
       "</style>\n",
       "<table border=\"1\" class=\"dataframe\">\n",
       "  <thead>\n",
       "    <tr style=\"text-align: right;\">\n",
       "      <th></th>\n",
       "      <th>Close</th>\n",
       "      <th>spy_pct</th>\n",
       "    </tr>\n",
       "    <tr>\n",
       "      <th>Date</th>\n",
       "      <th></th>\n",
       "      <th></th>\n",
       "    </tr>\n",
       "  </thead>\n",
       "  <tbody>\n",
       "    <tr>\n",
       "      <th>1993-02-01</th>\n",
       "      <td>44.25</td>\n",
       "      <td>0.0</td>\n",
       "    </tr>\n",
       "  </tbody>\n",
       "</table>\n",
       "</div>"
      ],
      "text/plain": [
       "            Close  spy_pct\n",
       "Date                      \n",
       "1993-02-01  44.25      0.0"
      ]
     },
     "execution_count": 397,
     "metadata": {},
     "output_type": "execute_result"
    }
   ],
   "source": [
    "spy_df.tail(1)"
   ]
  },
  {
   "cell_type": "code",
   "execution_count": 398,
   "id": "dc5668da",
   "metadata": {},
   "outputs": [],
   "source": [
    "spy_df = spy_df.drop(columns=['Close'])"
   ]
  },
  {
   "cell_type": "code",
   "execution_count": 399,
   "id": "74bc35a4",
   "metadata": {},
   "outputs": [
    {
     "data": {
      "text/html": [
       "<div>\n",
       "<style scoped>\n",
       "    .dataframe tbody tr th:only-of-type {\n",
       "        vertical-align: middle;\n",
       "    }\n",
       "\n",
       "    .dataframe tbody tr th {\n",
       "        vertical-align: top;\n",
       "    }\n",
       "\n",
       "    .dataframe thead th {\n",
       "        text-align: right;\n",
       "    }\n",
       "</style>\n",
       "<table border=\"1\" class=\"dataframe\">\n",
       "  <thead>\n",
       "    <tr style=\"text-align: right;\">\n",
       "      <th></th>\n",
       "      <th>spy_pct</th>\n",
       "    </tr>\n",
       "    <tr>\n",
       "      <th>Date</th>\n",
       "      <th></th>\n",
       "    </tr>\n",
       "  </thead>\n",
       "  <tbody>\n",
       "    <tr>\n",
       "      <th>2021-12-31</th>\n",
       "      <td>973.355932</td>\n",
       "    </tr>\n",
       "  </tbody>\n",
       "</table>\n",
       "</div>"
      ],
      "text/plain": [
       "               spy_pct\n",
       "Date                  \n",
       "2021-12-31  973.355932"
      ]
     },
     "execution_count": 399,
     "metadata": {},
     "output_type": "execute_result"
    }
   ],
   "source": [
    "spy_df.head(1)"
   ]
  },
  {
   "cell_type": "markdown",
   "id": "1ce748c8",
   "metadata": {},
   "source": [
    "Voila; worked!"
   ]
  },
  {
   "cell_type": "markdown",
   "id": "3fbe87bf",
   "metadata": {},
   "source": [
    "Now, I will go through the exact same process albeit with the iShares Russell 1000 Value Index (NYSE Arca IWD)."
   ]
  },
  {
   "cell_type": "code",
   "execution_count": 400,
   "id": "8bd6c248",
   "metadata": {},
   "outputs": [
    {
     "data": {
      "text/html": [
       "<div>\n",
       "<style scoped>\n",
       "    .dataframe tbody tr th:only-of-type {\n",
       "        vertical-align: middle;\n",
       "    }\n",
       "\n",
       "    .dataframe tbody tr th {\n",
       "        vertical-align: top;\n",
       "    }\n",
       "\n",
       "    .dataframe thead th {\n",
       "        text-align: right;\n",
       "    }\n",
       "</style>\n",
       "<table border=\"1\" class=\"dataframe\">\n",
       "  <thead>\n",
       "    <tr style=\"text-align: right;\">\n",
       "      <th></th>\n",
       "      <th>Close</th>\n",
       "    </tr>\n",
       "    <tr>\n",
       "      <th>Date</th>\n",
       "      <th></th>\n",
       "    </tr>\n",
       "  </thead>\n",
       "  <tbody>\n",
       "    <tr>\n",
       "      <th>2000-06-01</th>\n",
       "      <td>56.96</td>\n",
       "    </tr>\n",
       "    <tr>\n",
       "      <th>2000-05-31</th>\n",
       "      <td>56.44</td>\n",
       "    </tr>\n",
       "    <tr>\n",
       "      <th>2000-05-30</th>\n",
       "      <td>56.04</td>\n",
       "    </tr>\n",
       "  </tbody>\n",
       "</table>\n",
       "</div>"
      ],
      "text/plain": [
       "            Close\n",
       "Date             \n",
       "2000-06-01  56.96\n",
       "2000-05-31  56.44\n",
       "2000-05-30  56.04"
      ]
     },
     "execution_count": 400,
     "metadata": {},
     "output_type": "execute_result"
    }
   ],
   "source": [
    "r_v_df = investpy.get_etf_historical_data(etf='iShares Russell 1000 Value', country='United States',\n",
    "                                        from_date='01/01/1990', to_date='31/12/2021')\n",
    "r_v_df = r_v_df[::-1]\n",
    "r_v_df = r_v_df.drop(columns=['Open','High','Low','Volume','Currency','Exchange'])\n",
    "r_v_df.tail(3)"
   ]
  },
  {
   "cell_type": "markdown",
   "id": "ba2f56cb",
   "metadata": {},
   "source": [
    "This is even shorter but \"it is what it is\""
   ]
  },
  {
   "cell_type": "code",
   "execution_count": 401,
   "id": "8cb2430a",
   "metadata": {},
   "outputs": [
    {
     "name": "stdout",
     "output_type": "stream",
     "text": [
      "$56.04 | This is the price to compare to all going forwards as that's where the IWD started\n"
     ]
    }
   ],
   "source": [
    "rus_s = r_v_df['Close'][int(len(r_v_df)-1)]\n",
    "print(\"${}\".format(rus_s),'| This is the price to compare to all going forwards as that\\'s where the IWD started')"
   ]
  },
  {
   "cell_type": "code",
   "execution_count": 402,
   "id": "8d186d03",
   "metadata": {},
   "outputs": [
    {
     "name": "stderr",
     "output_type": "stream",
     "text": [
      "100%|██████████| 5463/5463 [00:00<00:00, 159783.85it/s]\n"
     ]
    }
   ],
   "source": [
    "# this will be the main depository\n",
    "pct_rus = []\n",
    "\n",
    "# re-establishing the first observation to compare too here it has been reversed ( same # as before )\n",
    "rus_c_s = r_v_df['Close'][int(len(r_v_df)-1)]\n",
    "\n",
    "for i in tqdm(range(0,len(r_v_df)-1)):\n",
    "    \n",
    "    rus_pct = 0\n",
    "    rus_pct = (( r_v_df['Close'][i] / rus_c_s )-1)*100\n",
    "\n",
    "    pct_rus.append(rus_pct)\n",
    "\n",
    "pct_rus.append(0)"
   ]
  },
  {
   "cell_type": "code",
   "execution_count": 403,
   "id": "1b4ba80b",
   "metadata": {},
   "outputs": [
    {
     "data": {
      "text/html": [
       "<div>\n",
       "<style scoped>\n",
       "    .dataframe tbody tr th:only-of-type {\n",
       "        vertical-align: middle;\n",
       "    }\n",
       "\n",
       "    .dataframe tbody tr th {\n",
       "        vertical-align: top;\n",
       "    }\n",
       "\n",
       "    .dataframe thead th {\n",
       "        text-align: right;\n",
       "    }\n",
       "</style>\n",
       "<table border=\"1\" class=\"dataframe\">\n",
       "  <thead>\n",
       "    <tr style=\"text-align: right;\">\n",
       "      <th></th>\n",
       "      <th>Close</th>\n",
       "      <th>rus_pct</th>\n",
       "    </tr>\n",
       "    <tr>\n",
       "      <th>Date</th>\n",
       "      <th></th>\n",
       "      <th></th>\n",
       "    </tr>\n",
       "  </thead>\n",
       "  <tbody>\n",
       "    <tr>\n",
       "      <th>2021-12-31</th>\n",
       "      <td>167.93</td>\n",
       "      <td>199.660956</td>\n",
       "    </tr>\n",
       "    <tr>\n",
       "      <th>2021-12-30</th>\n",
       "      <td>167.97</td>\n",
       "      <td>199.732334</td>\n",
       "    </tr>\n",
       "    <tr>\n",
       "      <th>2021-12-29</th>\n",
       "      <td>168.08</td>\n",
       "      <td>199.928622</td>\n",
       "    </tr>\n",
       "  </tbody>\n",
       "</table>\n",
       "</div>"
      ],
      "text/plain": [
       "             Close     rus_pct\n",
       "Date                          \n",
       "2021-12-31  167.93  199.660956\n",
       "2021-12-30  167.97  199.732334\n",
       "2021-12-29  168.08  199.928622"
      ]
     },
     "execution_count": 403,
     "metadata": {},
     "output_type": "execute_result"
    }
   ],
   "source": [
    "# add to the dataframe\n",
    "r_v_df['rus_pct'] = pct_rus\n",
    "r_v_df.head(3)"
   ]
  },
  {
   "cell_type": "code",
   "execution_count": 404,
   "id": "45290236",
   "metadata": {},
   "outputs": [
    {
     "data": {
      "text/html": [
       "<div>\n",
       "<style scoped>\n",
       "    .dataframe tbody tr th:only-of-type {\n",
       "        vertical-align: middle;\n",
       "    }\n",
       "\n",
       "    .dataframe tbody tr th {\n",
       "        vertical-align: top;\n",
       "    }\n",
       "\n",
       "    .dataframe thead th {\n",
       "        text-align: right;\n",
       "    }\n",
       "</style>\n",
       "<table border=\"1\" class=\"dataframe\">\n",
       "  <thead>\n",
       "    <tr style=\"text-align: right;\">\n",
       "      <th></th>\n",
       "      <th>Close</th>\n",
       "      <th>rus_pct</th>\n",
       "    </tr>\n",
       "    <tr>\n",
       "      <th>Date</th>\n",
       "      <th></th>\n",
       "      <th></th>\n",
       "    </tr>\n",
       "  </thead>\n",
       "  <tbody>\n",
       "    <tr>\n",
       "      <th>2000-06-01</th>\n",
       "      <td>56.96</td>\n",
       "      <td>1.641685</td>\n",
       "    </tr>\n",
       "    <tr>\n",
       "      <th>2000-05-31</th>\n",
       "      <td>56.44</td>\n",
       "      <td>0.713776</td>\n",
       "    </tr>\n",
       "    <tr>\n",
       "      <th>2000-05-30</th>\n",
       "      <td>56.04</td>\n",
       "      <td>0.000000</td>\n",
       "    </tr>\n",
       "  </tbody>\n",
       "</table>\n",
       "</div>"
      ],
      "text/plain": [
       "            Close   rus_pct\n",
       "Date                       \n",
       "2000-06-01  56.96  1.641685\n",
       "2000-05-31  56.44  0.713776\n",
       "2000-05-30  56.04  0.000000"
      ]
     },
     "execution_count": 404,
     "metadata": {},
     "output_type": "execute_result"
    }
   ],
   "source": [
    "r_v_df.tail(3)"
   ]
  },
  {
   "cell_type": "code",
   "execution_count": null,
   "id": "6bc4ca5f",
   "metadata": {},
   "outputs": [],
   "source": []
  },
  {
   "cell_type": "markdown",
   "id": "c112285e",
   "metadata": {},
   "source": [
    "**Summary of Comps | `SPY` & `IWD`**\n",
    "\n",
    "I **now have two (2) indexes to compare the identified equities** which haven't decreased their dividend during our defined time range. \n",
    "\n",
    "The important thing to bear in mind, however, **they don't have the same time horizon as the equities**; the index time horizons below ::\n",
    "\n",
    "    * SPY | 1993-02-01\n",
    "    * IWD | 2000-05-30\n",
    "    \n",
    "In short, this means there needs to be two (2) dataframes for the equities."
   ]
  },
  {
   "cell_type": "markdown",
   "id": "cf1d9a80",
   "metadata": {},
   "source": [
    "**Equities vs. SPY** | This will be setup first. Please note, `investpy` will be used in this section."
   ]
  },
  {
   "cell_type": "code",
   "execution_count": 405,
   "id": "ffbd59d4",
   "metadata": {},
   "outputs": [
    {
     "data": {
      "text/html": [
       "<div>\n",
       "<style scoped>\n",
       "    .dataframe tbody tr th:only-of-type {\n",
       "        vertical-align: middle;\n",
       "    }\n",
       "\n",
       "    .dataframe tbody tr th {\n",
       "        vertical-align: top;\n",
       "    }\n",
       "\n",
       "    .dataframe thead th {\n",
       "        text-align: right;\n",
       "    }\n",
       "</style>\n",
       "<table border=\"1\" class=\"dataframe\">\n",
       "  <thead>\n",
       "    <tr style=\"text-align: right;\">\n",
       "      <th></th>\n",
       "      <th>symbol</th>\n",
       "      <th>name</th>\n",
       "      <th>sector</th>\n",
       "      <th>industry</th>\n",
       "      <th>pct_ch_1990</th>\n",
       "    </tr>\n",
       "  </thead>\n",
       "  <tbody>\n",
       "    <tr>\n",
       "      <th>0</th>\n",
       "      <td>ADP</td>\n",
       "      <td>Automatic Data Processing, Inc.</td>\n",
       "      <td>Industrials</td>\n",
       "      <td>Staffing &amp; Employment Services</td>\n",
       "      <td>4922.0</td>\n",
       "    </tr>\n",
       "    <tr>\n",
       "      <th>1</th>\n",
       "      <td>AFL</td>\n",
       "      <td>Aflac Incorporated</td>\n",
       "      <td>Financial Services</td>\n",
       "      <td>Insurance—Life</td>\n",
       "      <td>4890.6</td>\n",
       "    </tr>\n",
       "  </tbody>\n",
       "</table>\n",
       "</div>"
      ],
      "text/plain": [
       "  symbol                             name              sector  \\\n",
       "0    ADP  Automatic Data Processing, Inc.         Industrials   \n",
       "1    AFL               Aflac Incorporated  Financial Services   \n",
       "\n",
       "                         industry pct_ch_1990  \n",
       "0  Staffing & Employment Services      4922.0  \n",
       "1                  Insurance—Life      4890.6  "
      ]
     },
     "execution_count": 405,
     "metadata": {},
     "output_type": "execute_result"
    }
   ],
   "source": [
    "df_l_yr.head(2)"
   ]
  },
  {
   "cell_type": "code",
   "execution_count": 406,
   "id": "15e08329",
   "metadata": {},
   "outputs": [
    {
     "data": {
      "text/plain": [
       "array(['Industrials', 'Financial Services', 'Basic Materials',\n",
       "       'Healthcare', 'Energy', 'Consumer Defensive', 'Utilities',\n",
       "       'Consumer Cyclical', 'Communication Services', 'Technology'],\n",
       "      dtype=object)"
      ]
     },
     "execution_count": 406,
     "metadata": {},
     "output_type": "execute_result"
    }
   ],
   "source": [
    "df_l_yr.sector.unique()"
   ]
  },
  {
   "cell_type": "code",
   "execution_count": 407,
   "id": "e64b0335",
   "metadata": {},
   "outputs": [
    {
     "data": {
      "text/html": [
       "<div>\n",
       "<style scoped>\n",
       "    .dataframe tbody tr th:only-of-type {\n",
       "        vertical-align: middle;\n",
       "    }\n",
       "\n",
       "    .dataframe tbody tr th {\n",
       "        vertical-align: top;\n",
       "    }\n",
       "\n",
       "    .dataframe thead th {\n",
       "        text-align: right;\n",
       "    }\n",
       "</style>\n",
       "<table border=\"1\" class=\"dataframe\">\n",
       "  <thead>\n",
       "    <tr style=\"text-align: right;\">\n",
       "      <th></th>\n",
       "      <th>Close</th>\n",
       "    </tr>\n",
       "    <tr>\n",
       "      <th>Date</th>\n",
       "      <th></th>\n",
       "    </tr>\n",
       "  </thead>\n",
       "  <tbody>\n",
       "    <tr>\n",
       "      <th>1993-02-02</th>\n",
       "      <td>10.42</td>\n",
       "    </tr>\n",
       "    <tr>\n",
       "      <th>1993-02-01</th>\n",
       "      <td>10.34</td>\n",
       "    </tr>\n",
       "  </tbody>\n",
       "</table>\n",
       "</div>"
      ],
      "text/plain": [
       "            Close\n",
       "Date             \n",
       "1993-02-02  10.42\n",
       "1993-02-01  10.34"
      ]
     },
     "execution_count": 407,
     "metadata": {},
     "output_type": "execute_result"
    }
   ],
   "source": [
    "tick_df = investpy.stocks.get_stock_historical_data(stock=df_l_yr.symbol[0], country='United States',\n",
    "                                          from_date='01/02/1993', to_date='31/12/2021',\n",
    "                                          as_json=False, order='descending', interval='Daily')\n",
    "tick_df = tick_df.drop(columns=['Open','High','Low','Volume','Currency'])\n",
    "   \n",
    "tick_df.tail(2)"
   ]
  },
  {
   "cell_type": "code",
   "execution_count": 408,
   "id": "ee161384",
   "metadata": {},
   "outputs": [],
   "source": [
    "# setting up the comparison number\n",
    "tick_df_st = tick_df.Close[len(tick_df)-1]\n",
    "\n",
    "tick_pct = []\n",
    "\n",
    "for i in range(0,len(tick_df)-1):\n",
    "    t_pct = 0\n",
    "    t_pct = ((tick_df['Close'][i] / tick_df_st)-1)*100\n",
    "    tick_pct.append(t_pct)\n",
    "tick_pct.append(0)\n",
    "\n",
    "# this is the symbol to add to the dataframe column alongside \"pct\"\n",
    "tick_df_s = df_l_yr.symbol[0]\n",
    "tick_df[tick_df_s+'_pct'] = tick_pct\n"
   ]
  },
  {
   "cell_type": "code",
   "execution_count": 409,
   "id": "155d71bc",
   "metadata": {},
   "outputs": [
    {
     "data": {
      "text/html": [
       "<div>\n",
       "<style scoped>\n",
       "    .dataframe tbody tr th:only-of-type {\n",
       "        vertical-align: middle;\n",
       "    }\n",
       "\n",
       "    .dataframe tbody tr th {\n",
       "        vertical-align: top;\n",
       "    }\n",
       "\n",
       "    .dataframe thead th {\n",
       "        text-align: right;\n",
       "    }\n",
       "</style>\n",
       "<table border=\"1\" class=\"dataframe\">\n",
       "  <thead>\n",
       "    <tr style=\"text-align: right;\">\n",
       "      <th></th>\n",
       "      <th>Close</th>\n",
       "      <th>ADP_pct</th>\n",
       "    </tr>\n",
       "    <tr>\n",
       "      <th>Date</th>\n",
       "      <th></th>\n",
       "      <th></th>\n",
       "    </tr>\n",
       "  </thead>\n",
       "  <tbody>\n",
       "    <tr>\n",
       "      <th>2021-12-31</th>\n",
       "      <td>246.58</td>\n",
       "      <td>2284.719536</td>\n",
       "    </tr>\n",
       "    <tr>\n",
       "      <th>2021-12-30</th>\n",
       "      <td>245.56</td>\n",
       "      <td>2274.854932</td>\n",
       "    </tr>\n",
       "  </tbody>\n",
       "</table>\n",
       "</div>"
      ],
      "text/plain": [
       "             Close      ADP_pct\n",
       "Date                           \n",
       "2021-12-31  246.58  2284.719536\n",
       "2021-12-30  245.56  2274.854932"
      ]
     },
     "execution_count": 409,
     "metadata": {},
     "output_type": "execute_result"
    }
   ],
   "source": [
    "tick_df.head(2)"
   ]
  },
  {
   "cell_type": "code",
   "execution_count": 410,
   "id": "ed3f6ed5",
   "metadata": {},
   "outputs": [
    {
     "data": {
      "text/html": [
       "<div>\n",
       "<style scoped>\n",
       "    .dataframe tbody tr th:only-of-type {\n",
       "        vertical-align: middle;\n",
       "    }\n",
       "\n",
       "    .dataframe tbody tr th {\n",
       "        vertical-align: top;\n",
       "    }\n",
       "\n",
       "    .dataframe thead th {\n",
       "        text-align: right;\n",
       "    }\n",
       "</style>\n",
       "<table border=\"1\" class=\"dataframe\">\n",
       "  <thead>\n",
       "    <tr style=\"text-align: right;\">\n",
       "      <th></th>\n",
       "      <th>Close</th>\n",
       "      <th>ADP_pct</th>\n",
       "    </tr>\n",
       "    <tr>\n",
       "      <th>Date</th>\n",
       "      <th></th>\n",
       "      <th></th>\n",
       "    </tr>\n",
       "  </thead>\n",
       "  <tbody>\n",
       "    <tr>\n",
       "      <th>1993-02-02</th>\n",
       "      <td>10.42</td>\n",
       "      <td>0.773694</td>\n",
       "    </tr>\n",
       "    <tr>\n",
       "      <th>1993-02-01</th>\n",
       "      <td>10.34</td>\n",
       "      <td>0.000000</td>\n",
       "    </tr>\n",
       "  </tbody>\n",
       "</table>\n",
       "</div>"
      ],
      "text/plain": [
       "            Close   ADP_pct\n",
       "Date                       \n",
       "1993-02-02  10.42  0.773694\n",
       "1993-02-01  10.34  0.000000"
      ]
     },
     "execution_count": 410,
     "metadata": {},
     "output_type": "execute_result"
    }
   ],
   "source": [
    "tick_df.tail(2)"
   ]
  },
  {
   "cell_type": "code",
   "execution_count": null,
   "id": "b5365872",
   "metadata": {},
   "outputs": [],
   "source": []
  },
  {
   "cell_type": "markdown",
   "id": "c26ce9c3",
   "metadata": {},
   "source": [
    "Before I proceed, I will remember the \"two equities\" that through errors; \"if you remember\"? \n",
    "\n",
    "    * WTRG\n",
    "    * RRX\n",
    "\n",
    "I believe they are at the end, I'll check."
   ]
  },
  {
   "cell_type": "code",
   "execution_count": 411,
   "id": "1a8c146a",
   "metadata": {},
   "outputs": [
    {
     "data": {
      "text/html": [
       "<div>\n",
       "<style scoped>\n",
       "    .dataframe tbody tr th:only-of-type {\n",
       "        vertical-align: middle;\n",
       "    }\n",
       "\n",
       "    .dataframe tbody tr th {\n",
       "        vertical-align: top;\n",
       "    }\n",
       "\n",
       "    .dataframe thead th {\n",
       "        text-align: right;\n",
       "    }\n",
       "</style>\n",
       "<table border=\"1\" class=\"dataframe\">\n",
       "  <thead>\n",
       "    <tr style=\"text-align: right;\">\n",
       "      <th></th>\n",
       "      <th>symbol</th>\n",
       "      <th>name</th>\n",
       "      <th>sector</th>\n",
       "      <th>industry</th>\n",
       "      <th>pct_ch_1990</th>\n",
       "    </tr>\n",
       "  </thead>\n",
       "  <tbody>\n",
       "    <tr>\n",
       "      <th>46</th>\n",
       "      <td>WTRG</td>\n",
       "      <td>Essential Utilities, Inc.</td>\n",
       "      <td>Utilities</td>\n",
       "      <td>Utilities—Regulated Water</td>\n",
       "      <td>2397.21</td>\n",
       "    </tr>\n",
       "    <tr>\n",
       "      <th>47</th>\n",
       "      <td>RRX</td>\n",
       "      <td>Regal Rexnord Corporation</td>\n",
       "      <td>Industrials</td>\n",
       "      <td>Specialty Industrial Machinery</td>\n",
       "      <td>1962.79</td>\n",
       "    </tr>\n",
       "    <tr>\n",
       "      <th>48</th>\n",
       "      <td>J</td>\n",
       "      <td>Jacobs Engineering Group Inc.</td>\n",
       "      <td>Industrials</td>\n",
       "      <td>Engineering &amp; Construction</td>\n",
       "      <td>7453.85</td>\n",
       "    </tr>\n",
       "  </tbody>\n",
       "</table>\n",
       "</div>"
      ],
      "text/plain": [
       "   symbol                           name       sector  \\\n",
       "46   WTRG      Essential Utilities, Inc.    Utilities   \n",
       "47    RRX      Regal Rexnord Corporation  Industrials   \n",
       "48      J  Jacobs Engineering Group Inc.  Industrials   \n",
       "\n",
       "                          industry pct_ch_1990  \n",
       "46       Utilities—Regulated Water     2397.21  \n",
       "47  Specialty Industrial Machinery     1962.79  \n",
       "48      Engineering & Construction     7453.85  "
      ]
     },
     "execution_count": 411,
     "metadata": {},
     "output_type": "execute_result"
    }
   ],
   "source": [
    "df_l_yr.tail(3)"
   ]
  },
  {
   "cell_type": "markdown",
   "id": "777e7f99",
   "metadata": {},
   "source": [
    "Lovely, I'll drop them & add them back in w/ `yfinance` later."
   ]
  },
  {
   "cell_type": "code",
   "execution_count": 413,
   "id": "a961a920",
   "metadata": {},
   "outputs": [],
   "source": [
    "df_l_yr_t = pd.DataFrame([])\n",
    "df_l_yr_t = df_l_yr.copy()\n",
    "df_l_yr_t = df_l_yr_t.iloc[:-2]"
   ]
  },
  {
   "cell_type": "code",
   "execution_count": 416,
   "id": "6905ef40",
   "metadata": {},
   "outputs": [],
   "source": [
    "# dropping the equities that throw errors\n",
    "df_l_yr_t = df_l_yr_t[df_l_yr_t['symbol'] != 'WTRG']\n",
    "df_l_yr_t = df_l_yr_t[df_l_yr_t['symbol'] != 'RRX']\n",
    "df_l_yr_t = df_l_yr_t[df_l_yr_t['symbol'] != 'J']\n",
    "\n",
    "# reseting the index\n",
    "df_l_yr_t = df_l_yr_t.reset_index()\n",
    "df_l_yr_t = df_l_yr_t.drop(columns=['index'])"
   ]
  },
  {
   "cell_type": "code",
   "execution_count": 418,
   "id": "1e95f199",
   "metadata": {},
   "outputs": [
    {
     "data": {
      "text/html": [
       "<div>\n",
       "<style scoped>\n",
       "    .dataframe tbody tr th:only-of-type {\n",
       "        vertical-align: middle;\n",
       "    }\n",
       "\n",
       "    .dataframe tbody tr th {\n",
       "        vertical-align: top;\n",
       "    }\n",
       "\n",
       "    .dataframe thead th {\n",
       "        text-align: right;\n",
       "    }\n",
       "</style>\n",
       "<table border=\"1\" class=\"dataframe\">\n",
       "  <thead>\n",
       "    <tr style=\"text-align: right;\">\n",
       "      <th></th>\n",
       "      <th>symbol</th>\n",
       "      <th>name</th>\n",
       "      <th>sector</th>\n",
       "      <th>industry</th>\n",
       "      <th>pct_ch_1990</th>\n",
       "    </tr>\n",
       "  </thead>\n",
       "  <tbody>\n",
       "    <tr>\n",
       "      <th>43</th>\n",
       "      <td>LEG</td>\n",
       "      <td>Leggett &amp; Platt, Incorporated</td>\n",
       "      <td>Consumer Cyclical</td>\n",
       "      <td>Furnishings, Fixtures &amp; Appliances</td>\n",
       "      <td>1003.49</td>\n",
       "    </tr>\n",
       "    <tr>\n",
       "      <th>44</th>\n",
       "      <td>AVT</td>\n",
       "      <td>Avnet, Inc.</td>\n",
       "      <td>Technology</td>\n",
       "      <td>Electronics &amp; Computer Distribution</td>\n",
       "      <td>159.63</td>\n",
       "    </tr>\n",
       "    <tr>\n",
       "      <th>45</th>\n",
       "      <td>BOH</td>\n",
       "      <td>Bank of Hawaii Corporation</td>\n",
       "      <td>Financial Services</td>\n",
       "      <td>Banks—Regional</td>\n",
       "      <td>657.32</td>\n",
       "    </tr>\n",
       "  </tbody>\n",
       "</table>\n",
       "</div>"
      ],
      "text/plain": [
       "   symbol                           name              sector  \\\n",
       "43    LEG  Leggett & Platt, Incorporated   Consumer Cyclical   \n",
       "44    AVT                    Avnet, Inc.          Technology   \n",
       "45    BOH     Bank of Hawaii Corporation  Financial Services   \n",
       "\n",
       "                               industry pct_ch_1990  \n",
       "43   Furnishings, Fixtures & Appliances     1003.49  \n",
       "44  Electronics & Computer Distribution      159.63  \n",
       "45                       Banks—Regional      657.32  "
      ]
     },
     "execution_count": 418,
     "metadata": {},
     "output_type": "execute_result"
    }
   ],
   "source": [
    "# checking if the two were removed\n",
    "df_l_yr_t.tail(3)"
   ]
  },
  {
   "cell_type": "code",
   "execution_count": 420,
   "id": "ed77f619",
   "metadata": {},
   "outputs": [
    {
     "name": "stderr",
     "output_type": "stream",
     "text": [
      "100%|██████████| 46/46 [05:04<00:00,  6.61s/it]\n"
     ]
    }
   ],
   "source": [
    "# this is the main dataframe for the equities structured against the SPY\n",
    "eq_spy = pd.DataFrame([])\n",
    "\n",
    "for j in tqdm(range(0,len(df_l_yr_t))):\n",
    "    # getting the data from investpy but I will always start with a clean one\n",
    "    tick_df = pd.DataFrame([])\n",
    "    tick_df = investpy.stocks.get_stock_historical_data(stock=df_l_yr_t.symbol[j], country='United States',\n",
    "                                              from_date='01/02/1993', to_date='31/12/2021',\n",
    "                                              as_json=False, order='descending', interval='Daily')\n",
    "    tick_df = tick_df.drop(columns=['Open','High','Low','Volume','Currency'])\n",
    "\n",
    "    # setting up the comparison number\n",
    "    tick_df_st = tick_df.Close[len(tick_df)-1]\n",
    "\n",
    "    tick_pct = []\n",
    "\n",
    "    for i in range(0,len(tick_df)-1):\n",
    "        t_pct = 0\n",
    "        t_pct = ((tick_df['Close'][i] / tick_df_st)-1)*100\n",
    "        tick_pct.append(t_pct)\n",
    "    tick_pct.append(0)\n",
    "\n",
    "    # this is the symbol to add to the dataframe column alongside \"pct\"\n",
    "    tick_df_s = df_l_yr_t.symbol[j]\n",
    "    tick_df[tick_df_s+'_pct'] = tick_pct\n",
    "    tick_df = tick_df.drop(columns='Close')\n",
    "\n",
    "    # putting the data into the main dataframe\n",
    "    eq_spy[tick_df_s+'_pct'] = tick_df[tick_df_s+'_pct']"
   ]
  },
  {
   "cell_type": "markdown",
   "id": "0a30e864",
   "metadata": {},
   "source": [
    "Let's take a \"sideways\" look to confirm it worked."
   ]
  },
  {
   "cell_type": "code",
   "execution_count": 421,
   "id": "f1ab9164",
   "metadata": {},
   "outputs": [
    {
     "data": {
      "text/html": [
       "<div>\n",
       "<style scoped>\n",
       "    .dataframe tbody tr th:only-of-type {\n",
       "        vertical-align: middle;\n",
       "    }\n",
       "\n",
       "    .dataframe tbody tr th {\n",
       "        vertical-align: top;\n",
       "    }\n",
       "\n",
       "    .dataframe thead th {\n",
       "        text-align: right;\n",
       "    }\n",
       "</style>\n",
       "<table border=\"1\" class=\"dataframe\">\n",
       "  <thead>\n",
       "    <tr style=\"text-align: right;\">\n",
       "      <th>Date</th>\n",
       "      <th>2021-12-31</th>\n",
       "      <th>2021-12-30</th>\n",
       "      <th>2021-12-29</th>\n",
       "      <th>2021-12-28</th>\n",
       "      <th>2021-12-27</th>\n",
       "      <th>2021-12-23</th>\n",
       "      <th>2021-12-22</th>\n",
       "      <th>2021-12-21</th>\n",
       "      <th>2021-12-20</th>\n",
       "      <th>2021-12-17</th>\n",
       "      <th>...</th>\n",
       "      <th>1993-02-12</th>\n",
       "      <th>1993-02-11</th>\n",
       "      <th>1993-02-10</th>\n",
       "      <th>1993-02-09</th>\n",
       "      <th>1993-02-08</th>\n",
       "      <th>1993-02-05</th>\n",
       "      <th>1993-02-04</th>\n",
       "      <th>1993-02-03</th>\n",
       "      <th>1993-02-02</th>\n",
       "      <th>1993-02-01</th>\n",
       "    </tr>\n",
       "  </thead>\n",
       "  <tbody>\n",
       "    <tr>\n",
       "      <th>ADP_pct</th>\n",
       "      <td>2284.719536</td>\n",
       "      <td>2274.854932</td>\n",
       "      <td>2298.549323</td>\n",
       "      <td>2279.787234</td>\n",
       "      <td>2281.914894</td>\n",
       "      <td>2240.425532</td>\n",
       "      <td>2198.065764</td>\n",
       "      <td>2143.230174</td>\n",
       "      <td>2118.181818</td>\n",
       "      <td>2118.665377</td>\n",
       "      <td>...</td>\n",
       "      <td>4.83559</td>\n",
       "      <td>5.222437</td>\n",
       "      <td>5.222437</td>\n",
       "      <td>5.029014</td>\n",
       "      <td>5.996132</td>\n",
       "      <td>5.705996</td>\n",
       "      <td>4.83559</td>\n",
       "      <td>3.578337</td>\n",
       "      <td>0.773694</td>\n",
       "      <td>0.0</td>\n",
       "    </tr>\n",
       "  </tbody>\n",
       "</table>\n",
       "<p>1 rows × 7285 columns</p>\n",
       "</div>"
      ],
      "text/plain": [
       "Date      2021-12-31   2021-12-30   2021-12-29   2021-12-28   2021-12-27  \\\n",
       "ADP_pct  2284.719536  2274.854932  2298.549323  2279.787234  2281.914894   \n",
       "\n",
       "Date      2021-12-23   2021-12-22   2021-12-21   2021-12-20   2021-12-17  ...  \\\n",
       "ADP_pct  2240.425532  2198.065764  2143.230174  2118.181818  2118.665377  ...   \n",
       "\n",
       "Date     1993-02-12  1993-02-11  1993-02-10  1993-02-09  1993-02-08  \\\n",
       "ADP_pct     4.83559    5.222437    5.222437    5.029014    5.996132   \n",
       "\n",
       "Date     1993-02-05  1993-02-04  1993-02-03  1993-02-02  1993-02-01  \n",
       "ADP_pct    5.705996     4.83559    3.578337    0.773694         0.0  \n",
       "\n",
       "[1 rows x 7285 columns]"
      ]
     },
     "execution_count": 421,
     "metadata": {},
     "output_type": "execute_result"
    }
   ],
   "source": [
    "eq_spy_T = eq_spy.T\n",
    "eq_spy_T.head(1)"
   ]
  },
  {
   "cell_type": "code",
   "execution_count": 422,
   "id": "e9999399",
   "metadata": {},
   "outputs": [
    {
     "data": {
      "text/html": [
       "<div>\n",
       "<style scoped>\n",
       "    .dataframe tbody tr th:only-of-type {\n",
       "        vertical-align: middle;\n",
       "    }\n",
       "\n",
       "    .dataframe tbody tr th {\n",
       "        vertical-align: top;\n",
       "    }\n",
       "\n",
       "    .dataframe thead th {\n",
       "        text-align: right;\n",
       "    }\n",
       "</style>\n",
       "<table border=\"1\" class=\"dataframe\">\n",
       "  <thead>\n",
       "    <tr style=\"text-align: right;\">\n",
       "      <th>Date</th>\n",
       "      <th>2021-12-31</th>\n",
       "      <th>2021-12-30</th>\n",
       "      <th>2021-12-29</th>\n",
       "      <th>2021-12-28</th>\n",
       "      <th>2021-12-27</th>\n",
       "      <th>2021-12-23</th>\n",
       "      <th>2021-12-22</th>\n",
       "      <th>2021-12-21</th>\n",
       "      <th>2021-12-20</th>\n",
       "      <th>2021-12-17</th>\n",
       "      <th>...</th>\n",
       "      <th>1993-02-12</th>\n",
       "      <th>1993-02-11</th>\n",
       "      <th>1993-02-10</th>\n",
       "      <th>1993-02-09</th>\n",
       "      <th>1993-02-08</th>\n",
       "      <th>1993-02-05</th>\n",
       "      <th>1993-02-04</th>\n",
       "      <th>1993-02-03</th>\n",
       "      <th>1993-02-02</th>\n",
       "      <th>1993-02-01</th>\n",
       "    </tr>\n",
       "  </thead>\n",
       "  <tbody>\n",
       "    <tr>\n",
       "      <th>BOH_pct</th>\n",
       "      <td>429.12192</td>\n",
       "      <td>429.879975</td>\n",
       "      <td>432.722678</td>\n",
       "      <td>431.775111</td>\n",
       "      <td>431.332912</td>\n",
       "      <td>426.531901</td>\n",
       "      <td>422.23626</td>\n",
       "      <td>419.077701</td>\n",
       "      <td>406.317119</td>\n",
       "      <td>410.360076</td>\n",
       "      <td>...</td>\n",
       "      <td>4.73784</td>\n",
       "      <td>5.559065</td>\n",
       "      <td>6.317119</td>\n",
       "      <td>5.81175</td>\n",
       "      <td>5.30638</td>\n",
       "      <td>5.053696</td>\n",
       "      <td>3.7271</td>\n",
       "      <td>2.65319</td>\n",
       "      <td>-0.50537</td>\n",
       "      <td>0.0</td>\n",
       "    </tr>\n",
       "  </tbody>\n",
       "</table>\n",
       "<p>1 rows × 7285 columns</p>\n",
       "</div>"
      ],
      "text/plain": [
       "Date     2021-12-31  2021-12-30  2021-12-29  2021-12-28  2021-12-27  \\\n",
       "BOH_pct   429.12192  429.879975  432.722678  431.775111  431.332912   \n",
       "\n",
       "Date     2021-12-23  2021-12-22  2021-12-21  2021-12-20  2021-12-17  ...  \\\n",
       "BOH_pct  426.531901   422.23626  419.077701  406.317119  410.360076  ...   \n",
       "\n",
       "Date     1993-02-12  1993-02-11  1993-02-10  1993-02-09  1993-02-08  \\\n",
       "BOH_pct     4.73784    5.559065    6.317119     5.81175     5.30638   \n",
       "\n",
       "Date     1993-02-05  1993-02-04  1993-02-03  1993-02-02  1993-02-01  \n",
       "BOH_pct    5.053696      3.7271     2.65319    -0.50537         0.0  \n",
       "\n",
       "[1 rows x 7285 columns]"
      ]
     },
     "execution_count": 422,
     "metadata": {},
     "output_type": "execute_result"
    }
   ],
   "source": [
    "eq_spy_T.tail(1)"
   ]
  },
  {
   "cell_type": "markdown",
   "id": "36abaf2c",
   "metadata": {},
   "source": [
    "Looks like it worked. Let's check for nulls."
   ]
  },
  {
   "cell_type": "code",
   "execution_count": 423,
   "id": "97920568",
   "metadata": {
    "scrolled": true
   },
   "outputs": [],
   "source": [
    "eq_spy_n = pd.DataFrame(eq_spy.isna().sum())\n",
    "eq_spy_n.columns = ['is_na']"
   ]
  },
  {
   "cell_type": "code",
   "execution_count": 424,
   "id": "80bc21bc",
   "metadata": {},
   "outputs": [
    {
     "data": {
      "text/plain": [
       "is_na    43\n",
       "dtype: int64"
      ]
     },
     "execution_count": 424,
     "metadata": {},
     "output_type": "execute_result"
    }
   ],
   "source": [
    "eq_spy_n[eq_spy_n['is_na']>0].count()"
   ]
  },
  {
   "cell_type": "code",
   "execution_count": 425,
   "id": "46238805",
   "metadata": {},
   "outputs": [
    {
     "data": {
      "text/plain": [
       "is_na    1348\n",
       "dtype: int64"
      ]
     },
     "execution_count": 425,
     "metadata": {},
     "output_type": "execute_result"
    }
   ],
   "source": [
    "eq_spy_n[eq_spy_n['is_na']>0].max()"
   ]
  },
  {
   "cell_type": "code",
   "execution_count": 426,
   "id": "6fd8e39e",
   "metadata": {},
   "outputs": [
    {
     "data": {
      "text/plain": [
       "is_na    0.185038\n",
       "dtype: float64"
      ]
     },
     "execution_count": 426,
     "metadata": {},
     "output_type": "execute_result"
    }
   ],
   "source": [
    "eq_spy_n[eq_spy_n['is_na']>0].max() / len(eq_spy)"
   ]
  },
  {
   "cell_type": "markdown",
   "id": "6ca7391f",
   "metadata": {},
   "source": [
    "Appears that there are 8 equities that had a null value, the maximum number of nulls in a single equity was 137 representing a little shy of 2% (1.89%) of the dataframe. \n",
    "\n",
    "I will apply a forward fill."
   ]
  },
  {
   "cell_type": "code",
   "execution_count": 427,
   "id": "023b989c",
   "metadata": {},
   "outputs": [],
   "source": [
    "eq_spy = eq_spy.fillna(method='ffill')"
   ]
  },
  {
   "cell_type": "code",
   "execution_count": 428,
   "id": "c61ae4e0",
   "metadata": {},
   "outputs": [],
   "source": [
    "eq_spy_null = pd.DataFrame(eq_spy.isna().sum())\n",
    "eq_spy_null.columns = ['is_na']"
   ]
  },
  {
   "cell_type": "code",
   "execution_count": 429,
   "id": "8e16e3cf",
   "metadata": {},
   "outputs": [
    {
     "data": {
      "text/plain": [
       "is_na    0\n",
       "dtype: int64"
      ]
     },
     "execution_count": 429,
     "metadata": {},
     "output_type": "execute_result"
    }
   ],
   "source": [
    "eq_spy_null[eq_spy_null['is_na']>0].count()"
   ]
  },
  {
   "cell_type": "markdown",
   "id": "dab8acfb",
   "metadata": {},
   "source": [
    "Voila; now too add the below back in with `yfinance`.\n",
    "\n",
    "    * WTRG\n",
    "    * RRX\n",
    "    * J\n",
    "\n",
    "WTRG will go first."
   ]
  },
  {
   "cell_type": "code",
   "execution_count": 430,
   "id": "c397c4e9",
   "metadata": {},
   "outputs": [],
   "source": [
    "# setting up the dataframe\n",
    "WTRG_str = 'WTRG'\n",
    "WTRG_e_spy_t = yf.Ticker(WTRG_str)\n",
    "WTRG_e_spy_yf = WTRG_e_spy_t.history(start=\"1993-02-01\", end=\"2021-12-31\", interval=\"1D\")\n",
    "\n",
    "# cleaning it\n",
    "WTRG_e_spy_yf = WTRG_e_spy_yf.drop(columns=['Open','High','Low','Volume','Dividends','Stock Splits'])\n",
    "WTRG_e_spy_yf = WTRG_e_spy_yf[::-1]\n",
    "\n",
    "# the first observation to be used as a comparison\n",
    "WTRG_e_t_st = WTRG_e_spy_yf.Close[len(WTRG_e_spy_yf)-1]"
   ]
  },
  {
   "cell_type": "code",
   "execution_count": 431,
   "id": "3aeb1e92",
   "metadata": {},
   "outputs": [
    {
     "name": "stderr",
     "output_type": "stream",
     "text": [
      "100%|██████████| 7279/7279 [00:00<00:00, 152072.30it/s]\n"
     ]
    }
   ],
   "source": [
    "# this is the loop to pull the data to be added in\n",
    "tick_pct = []\n",
    "\n",
    "for i in tqdm(range(0,len(WTRG_e_spy_yf)-1)):\n",
    "    t_pct = 0\n",
    "    t_pct = ((WTRG_e_spy_yf['Close'][i] / WTRG_e_t_st)-1)*100\n",
    "    tick_pct.append(t_pct)\n",
    "tick_pct.append(0)"
   ]
  },
  {
   "cell_type": "code",
   "execution_count": 432,
   "id": "b31e052d",
   "metadata": {},
   "outputs": [
    {
     "data": {
      "text/html": [
       "<div>\n",
       "<style scoped>\n",
       "    .dataframe tbody tr th:only-of-type {\n",
       "        vertical-align: middle;\n",
       "    }\n",
       "\n",
       "    .dataframe tbody tr th {\n",
       "        vertical-align: top;\n",
       "    }\n",
       "\n",
       "    .dataframe thead th {\n",
       "        text-align: right;\n",
       "    }\n",
       "</style>\n",
       "<table border=\"1\" class=\"dataframe\">\n",
       "  <thead>\n",
       "    <tr style=\"text-align: right;\">\n",
       "      <th></th>\n",
       "      <th>WTRG_pct</th>\n",
       "    </tr>\n",
       "    <tr>\n",
       "      <th>Date</th>\n",
       "      <th></th>\n",
       "    </tr>\n",
       "  </thead>\n",
       "  <tbody>\n",
       "    <tr>\n",
       "      <th>1993-02-02</th>\n",
       "      <td>-0.775147</td>\n",
       "    </tr>\n",
       "    <tr>\n",
       "      <th>1993-02-01</th>\n",
       "      <td>0.000000</td>\n",
       "    </tr>\n",
       "  </tbody>\n",
       "</table>\n",
       "</div>"
      ],
      "text/plain": [
       "            WTRG_pct\n",
       "Date                \n",
       "1993-02-02 -0.775147\n",
       "1993-02-01  0.000000"
      ]
     },
     "execution_count": 432,
     "metadata": {},
     "output_type": "execute_result"
    }
   ],
   "source": [
    "# bringing it in\n",
    "WTRG_e_spy_yf[WTRG_str+'_pct'] = tick_pct\n",
    "\n",
    "# dropping Close\n",
    "WTRG_e_spy_yf = WTRG_e_spy_yf.drop(columns=['Close'])\n",
    "WTRG_e_spy_yf.tail(2)"
   ]
  },
  {
   "cell_type": "code",
   "execution_count": null,
   "id": "df87be85",
   "metadata": {},
   "outputs": [],
   "source": []
  },
  {
   "cell_type": "markdown",
   "id": "f3d2a799",
   "metadata": {},
   "source": [
    "RRX next."
   ]
  },
  {
   "cell_type": "code",
   "execution_count": 433,
   "id": "c91f1942",
   "metadata": {},
   "outputs": [],
   "source": [
    "# setting up the dataframe\n",
    "RRX_str = 'RRX'\n",
    "RRX_e_spy_t = yf.Ticker(RRX_str)\n",
    "RRX_e_spy_yf = RRX_e_spy_t.history(start=\"1993-02-01\", end=\"2021-12-31\", interval=\"1D\")\n",
    "\n",
    "# cleaning it\n",
    "RRX_e_spy_yf = RRX_e_spy_yf.drop(columns=['Open','High','Low','Volume','Dividends','Stock Splits'])\n",
    "RRX_e_spy_yf = RRX_e_spy_yf[::-1]\n",
    "\n",
    "# the first observation to be used as a comparison\n",
    "RRX_e_t_st = RRX_e_spy_yf.Close[len(RRX_e_spy_yf)-1]"
   ]
  },
  {
   "cell_type": "code",
   "execution_count": 434,
   "id": "aa6d9a20",
   "metadata": {},
   "outputs": [
    {
     "name": "stderr",
     "output_type": "stream",
     "text": [
      "100%|██████████| 7278/7278 [00:00<00:00, 164427.58it/s]\n"
     ]
    }
   ],
   "source": [
    "# this is the loop to pull the data to be added in\n",
    "tick_pct = []\n",
    "\n",
    "for i in tqdm(range(0,len(RRX_e_spy_yf)-1)):\n",
    "    t_pct = 0\n",
    "    t_pct = ((RRX_e_spy_yf['Close'][i] / RRX_e_t_st)-1)*100\n",
    "    tick_pct.append(t_pct)\n",
    "tick_pct.append(0)"
   ]
  },
  {
   "cell_type": "code",
   "execution_count": 435,
   "id": "d07d974d",
   "metadata": {},
   "outputs": [
    {
     "data": {
      "text/html": [
       "<div>\n",
       "<style scoped>\n",
       "    .dataframe tbody tr th:only-of-type {\n",
       "        vertical-align: middle;\n",
       "    }\n",
       "\n",
       "    .dataframe tbody tr th {\n",
       "        vertical-align: top;\n",
       "    }\n",
       "\n",
       "    .dataframe thead th {\n",
       "        text-align: right;\n",
       "    }\n",
       "</style>\n",
       "<table border=\"1\" class=\"dataframe\">\n",
       "  <thead>\n",
       "    <tr style=\"text-align: right;\">\n",
       "      <th></th>\n",
       "      <th>RRX_pct</th>\n",
       "    </tr>\n",
       "    <tr>\n",
       "      <th>Date</th>\n",
       "      <th></th>\n",
       "    </tr>\n",
       "  </thead>\n",
       "  <tbody>\n",
       "    <tr>\n",
       "      <th>1993-02-02</th>\n",
       "      <td>1.249999</td>\n",
       "    </tr>\n",
       "    <tr>\n",
       "      <th>1993-02-01</th>\n",
       "      <td>0.000000</td>\n",
       "    </tr>\n",
       "  </tbody>\n",
       "</table>\n",
       "</div>"
      ],
      "text/plain": [
       "             RRX_pct\n",
       "Date                \n",
       "1993-02-02  1.249999\n",
       "1993-02-01  0.000000"
      ]
     },
     "execution_count": 435,
     "metadata": {},
     "output_type": "execute_result"
    }
   ],
   "source": [
    "# bringing it in\n",
    "RRX_e_spy_yf[RRX_str+'_pct'] = tick_pct\n",
    "\n",
    "# dropping Close\n",
    "RRX_e_spy_yf = RRX_e_spy_yf.drop(columns=['Close'])\n",
    "RRX_e_spy_yf.tail(2)"
   ]
  },
  {
   "cell_type": "markdown",
   "id": "17156074",
   "metadata": {},
   "source": [
    "J for the final run."
   ]
  },
  {
   "cell_type": "code",
   "execution_count": 441,
   "id": "af473d1c",
   "metadata": {},
   "outputs": [],
   "source": [
    "# setting up the dataframe\n",
    "jac_str = 'J'\n",
    "jac_e_spy_t = yf.Ticker(jac_str)\n",
    "jac_e_spy_yf = jac_e_spy_t.history(start=\"1993-02-01\", end=\"2021-12-31\", interval=\"1D\")\n",
    "\n",
    "# cleaning it\n",
    "jac_e_spy_yf = jac_e_spy_yf.drop(columns=['Open','High','Low','Volume','Dividends','Stock Splits'])\n",
    "jac_e_spy_yf = jac_e_spy_yf[::-1]\n",
    "\n",
    "# the first observation to be used as a comparison\n",
    "jac_e_t_st = jac_e_spy_yf.Close[len(jac_e_spy_yf)-1]"
   ]
  },
  {
   "cell_type": "code",
   "execution_count": 442,
   "id": "28a49a4d",
   "metadata": {},
   "outputs": [
    {
     "name": "stderr",
     "output_type": "stream",
     "text": [
      "100%|██████████| 7280/7280 [00:00<00:00, 163426.98it/s]\n"
     ]
    }
   ],
   "source": [
    "# this is the loop to pull the data to be added in\n",
    "tick_pct = []\n",
    "\n",
    "for i in tqdm(range(0,len(jac_e_spy_yf)-1)):\n",
    "    t_pct = 0\n",
    "    t_pct = ((jac_e_spy_yf['Close'][i] / jac_e_t_st)-1)*100\n",
    "    tick_pct.append(t_pct)\n",
    "tick_pct.append(0)"
   ]
  },
  {
   "cell_type": "code",
   "execution_count": 443,
   "id": "71e3a8e5",
   "metadata": {},
   "outputs": [
    {
     "data": {
      "text/html": [
       "<div>\n",
       "<style scoped>\n",
       "    .dataframe tbody tr th:only-of-type {\n",
       "        vertical-align: middle;\n",
       "    }\n",
       "\n",
       "    .dataframe tbody tr th {\n",
       "        vertical-align: top;\n",
       "    }\n",
       "\n",
       "    .dataframe thead th {\n",
       "        text-align: right;\n",
       "    }\n",
       "</style>\n",
       "<table border=\"1\" class=\"dataframe\">\n",
       "  <thead>\n",
       "    <tr style=\"text-align: right;\">\n",
       "      <th></th>\n",
       "      <th>J_pct</th>\n",
       "    </tr>\n",
       "    <tr>\n",
       "      <th>Date</th>\n",
       "      <th></th>\n",
       "    </tr>\n",
       "  </thead>\n",
       "  <tbody>\n",
       "    <tr>\n",
       "      <th>1993-02-03</th>\n",
       "      <td>0.925906</td>\n",
       "    </tr>\n",
       "    <tr>\n",
       "      <th>1993-02-02</th>\n",
       "      <td>0.000000</td>\n",
       "    </tr>\n",
       "    <tr>\n",
       "      <th>1993-02-01</th>\n",
       "      <td>0.000000</td>\n",
       "    </tr>\n",
       "  </tbody>\n",
       "</table>\n",
       "</div>"
      ],
      "text/plain": [
       "               J_pct\n",
       "Date                \n",
       "1993-02-03  0.925906\n",
       "1993-02-02  0.000000\n",
       "1993-02-01  0.000000"
      ]
     },
     "execution_count": 443,
     "metadata": {},
     "output_type": "execute_result"
    }
   ],
   "source": [
    "# bringing it in\n",
    "jac_e_spy_yf[jac_str+'_pct'] = tick_pct\n",
    "\n",
    "# dropping Close\n",
    "jac_e_spy_yf = jac_e_spy_yf.drop(columns=['Close'])\n",
    "jac_e_spy_yf.tail(3)"
   ]
  },
  {
   "cell_type": "markdown",
   "id": "631f0c68",
   "metadata": {},
   "source": [
    "Well that was a bit easier. There is now the following dataframes to be brought in:\n",
    "\n",
    "    * WTRG_e_spy_yf\n",
    "    * RRX_e_spy_yf\n",
    "    * jac_e_spy_yf\n",
    "    \n",
    "Before they are brought in, a measure will be established to compare too; i.e. the length of the main dataframe before adding."
   ]
  },
  {
   "cell_type": "code",
   "execution_count": 445,
   "id": "bfd46d8b",
   "metadata": {},
   "outputs": [],
   "source": [
    "eq_spy['WTRG_pct'] = WTRG_e_spy_yf['WTRG_pct']\n",
    "eq_spy['RRX_pct'] = RRX_e_spy_yf['RRX_pct']\n",
    "eq_spy['J_pct'] = jac_e_spy_yf['J_pct']"
   ]
  },
  {
   "cell_type": "code",
   "execution_count": 447,
   "id": "e796a4ff",
   "metadata": {},
   "outputs": [
    {
     "name": "stdout",
     "output_type": "stream",
     "text": [
      " 5 | WTRG null's \n",
      " 6 | RRX null's \n",
      " 4 | J null's\n"
     ]
    }
   ],
   "source": [
    "print('',eq_spy['WTRG_pct'].isna().sum(),'| WTRG null\\'s','\\n',\n",
    "eq_spy['RRX_pct'].isna().sum(),'| RRX null\\'s','\\n',\n",
    "     eq_spy['J_pct'].isna().sum(),'| J null\\'s')"
   ]
  },
  {
   "cell_type": "markdown",
   "id": "08ef54dd",
   "metadata": {},
   "source": [
    "In this round, a forward fill will be used as it was in the others."
   ]
  },
  {
   "cell_type": "code",
   "execution_count": 448,
   "id": "959f4159",
   "metadata": {},
   "outputs": [],
   "source": [
    "eq_spy['WTRG_pct'] = eq_spy['WTRG_pct'].fillna(method='ffill')\n",
    "eq_spy['RRX_pct'] = eq_spy['RRX_pct'].fillna(method='ffill')\n",
    "eq_spy['J_pct'] = eq_spy['J_pct'].fillna(method='ffill')"
   ]
  },
  {
   "cell_type": "code",
   "execution_count": 450,
   "id": "0559edee",
   "metadata": {},
   "outputs": [
    {
     "name": "stdout",
     "output_type": "stream",
     "text": [
      " 1 | WTRG null's \n",
      " 1 | RRX null's \n",
      " 1 | J null's\n"
     ]
    }
   ],
   "source": [
    "print('',eq_spy['WTRG_pct'].isna().sum(),'| WTRG null\\'s','\\n',\n",
    "eq_spy['RRX_pct'].isna().sum(),'| RRX null\\'s','\\n',\n",
    "     eq_spy['J_pct'].isna().sum(),'| J null\\'s')"
   ]
  },
  {
   "cell_type": "markdown",
   "id": "6620e14b",
   "metadata": {},
   "source": [
    "Let's see where those are; I believe I know"
   ]
  },
  {
   "cell_type": "code",
   "execution_count": 451,
   "id": "3865a826",
   "metadata": {},
   "outputs": [
    {
     "data": {
      "text/plain": [
       "Date\n",
       "2021-12-31   NaN\n",
       "Name: WTRG_pct, dtype: float64"
      ]
     },
     "execution_count": 451,
     "metadata": {},
     "output_type": "execute_result"
    }
   ],
   "source": [
    "eq_spy['WTRG_pct'].head(1)"
   ]
  },
  {
   "cell_type": "code",
   "execution_count": 452,
   "id": "534eebd1",
   "metadata": {},
   "outputs": [
    {
     "data": {
      "text/plain": [
       "Date\n",
       "2021-12-31   NaN\n",
       "Name: RRX_pct, dtype: float64"
      ]
     },
     "execution_count": 452,
     "metadata": {},
     "output_type": "execute_result"
    }
   ],
   "source": [
    "eq_spy['RRX_pct'].head(1)"
   ]
  },
  {
   "cell_type": "code",
   "execution_count": 453,
   "id": "5b4f9878",
   "metadata": {},
   "outputs": [
    {
     "data": {
      "text/plain": [
       "Date\n",
       "2021-12-31   NaN\n",
       "Name: J_pct, dtype: float64"
      ]
     },
     "execution_count": 453,
     "metadata": {},
     "output_type": "execute_result"
    }
   ],
   "source": [
    "eq_spy['J_pct'].head(1)"
   ]
  },
  {
   "cell_type": "markdown",
   "id": "b63c4f4b",
   "metadata": {},
   "source": [
    "Correct. That's why these two threw errors; let's revert to backwards fill."
   ]
  },
  {
   "cell_type": "code",
   "execution_count": 454,
   "id": "ecde9ed7",
   "metadata": {},
   "outputs": [],
   "source": [
    "eq_spy['WTRG_pct'] = eq_spy['WTRG_pct'].fillna(method='bfill')\n",
    "eq_spy['RRX_pct'] = eq_spy['RRX_pct'].fillna(method='bfill')\n",
    "eq_spy['J_pct'] = eq_spy['J_pct'].fillna(method='bfill')"
   ]
  },
  {
   "cell_type": "code",
   "execution_count": 455,
   "id": "08113d9a",
   "metadata": {},
   "outputs": [
    {
     "name": "stdout",
     "output_type": "stream",
     "text": [
      " 0 | WTRG null's \n",
      " 0 | RRX null's \n",
      " 0 | J null's\n"
     ]
    }
   ],
   "source": [
    "print('',eq_spy['WTRG_pct'].isna().sum(),'| WTRG null\\'s','\\n',\n",
    "eq_spy['RRX_pct'].isna().sum(),'| RRX null\\'s','\\n',\n",
    "     eq_spy['J_pct'].isna().sum(),'| J null\\'s')"
   ]
  },
  {
   "cell_type": "markdown",
   "id": "f7e3b56b",
   "metadata": {},
   "source": [
    "Alright, there is now a complete dataframe. An equally weighted average for all will be used to compare.\n",
    "\n",
    "It needs a unique & short name, similar to `SPY` & `IWD`. I will call it `VASP` standing for:\n",
    "\n",
    "    * VASP | Value Average for the S&P\n",
    "\n",
    "Because why not."
   ]
  },
  {
   "cell_type": "code",
   "execution_count": 456,
   "id": "c6bb2a7d",
   "metadata": {},
   "outputs": [],
   "source": [
    "vasp = pd.DataFrame([])\n",
    "vasp = eq_spy.copy()"
   ]
  },
  {
   "cell_type": "code",
   "execution_count": 457,
   "id": "ef635a64",
   "metadata": {},
   "outputs": [
    {
     "data": {
      "text/plain": [
       "Date\n",
       "2021-12-31    1901.882984\n",
       "2021-12-30    1897.093097\n",
       "2021-12-29    1904.483891\n",
       "Name: vasp_avg, dtype: float64"
      ]
     },
     "execution_count": 457,
     "metadata": {},
     "output_type": "execute_result"
    }
   ],
   "source": [
    "vasp['vasp_avg'] = vasp.mean(axis=1)\n",
    "vasp['vasp_avg'].head(3)"
   ]
  },
  {
   "cell_type": "code",
   "execution_count": 458,
   "id": "bac939cc",
   "metadata": {},
   "outputs": [
    {
     "name": "stdout",
     "output_type": "stream",
     "text": [
      "0 | Checking for nulls\n"
     ]
    }
   ],
   "source": [
    "print(vasp['vasp_avg'].isna().sum(),'| Checking for nulls')"
   ]
  },
  {
   "cell_type": "markdown",
   "id": "cb24e400",
   "metadata": {},
   "source": [
    "Now making that column the only column for the `vasp` dataframe."
   ]
  },
  {
   "cell_type": "code",
   "execution_count": 459,
   "id": "9fdd9895",
   "metadata": {},
   "outputs": [],
   "source": [
    "vasp = pd.DataFrame(vasp['vasp_avg'])"
   ]
  },
  {
   "cell_type": "code",
   "execution_count": 460,
   "id": "d3bc724a",
   "metadata": {},
   "outputs": [
    {
     "data": {
      "text/html": [
       "<div>\n",
       "<style scoped>\n",
       "    .dataframe tbody tr th:only-of-type {\n",
       "        vertical-align: middle;\n",
       "    }\n",
       "\n",
       "    .dataframe tbody tr th {\n",
       "        vertical-align: top;\n",
       "    }\n",
       "\n",
       "    .dataframe thead th {\n",
       "        text-align: right;\n",
       "    }\n",
       "</style>\n",
       "<table border=\"1\" class=\"dataframe\">\n",
       "  <thead>\n",
       "    <tr style=\"text-align: right;\">\n",
       "      <th></th>\n",
       "      <th>vasp_avg</th>\n",
       "    </tr>\n",
       "    <tr>\n",
       "      <th>Date</th>\n",
       "      <th></th>\n",
       "    </tr>\n",
       "  </thead>\n",
       "  <tbody>\n",
       "    <tr>\n",
       "      <th>2021-12-31</th>\n",
       "      <td>1901.882984</td>\n",
       "    </tr>\n",
       "    <tr>\n",
       "      <th>2021-12-30</th>\n",
       "      <td>1897.093097</td>\n",
       "    </tr>\n",
       "    <tr>\n",
       "      <th>2021-12-29</th>\n",
       "      <td>1904.483891</td>\n",
       "    </tr>\n",
       "  </tbody>\n",
       "</table>\n",
       "</div>"
      ],
      "text/plain": [
       "               vasp_avg\n",
       "Date                   \n",
       "2021-12-31  1901.882984\n",
       "2021-12-30  1897.093097\n",
       "2021-12-29  1904.483891"
      ]
     },
     "execution_count": 460,
     "metadata": {},
     "output_type": "execute_result"
    }
   ],
   "source": [
    "vasp.head(3)"
   ]
  },
  {
   "cell_type": "markdown",
   "id": "92863fe3",
   "metadata": {},
   "source": [
    "Adding in the `S&P` data"
   ]
  },
  {
   "cell_type": "code",
   "execution_count": 461,
   "id": "067f5c1c",
   "metadata": {},
   "outputs": [
    {
     "data": {
      "text/html": [
       "<div>\n",
       "<style scoped>\n",
       "    .dataframe tbody tr th:only-of-type {\n",
       "        vertical-align: middle;\n",
       "    }\n",
       "\n",
       "    .dataframe tbody tr th {\n",
       "        vertical-align: top;\n",
       "    }\n",
       "\n",
       "    .dataframe thead th {\n",
       "        text-align: right;\n",
       "    }\n",
       "</style>\n",
       "<table border=\"1\" class=\"dataframe\">\n",
       "  <thead>\n",
       "    <tr style=\"text-align: right;\">\n",
       "      <th></th>\n",
       "      <th>vasp_avg</th>\n",
       "      <th>spy_pct</th>\n",
       "    </tr>\n",
       "    <tr>\n",
       "      <th>Date</th>\n",
       "      <th></th>\n",
       "      <th></th>\n",
       "    </tr>\n",
       "  </thead>\n",
       "  <tbody>\n",
       "    <tr>\n",
       "      <th>2021-12-31</th>\n",
       "      <td>1901.882984</td>\n",
       "      <td>973.355932</td>\n",
       "    </tr>\n",
       "    <tr>\n",
       "      <th>2021-12-30</th>\n",
       "      <td>1897.093097</td>\n",
       "      <td>976.067797</td>\n",
       "    </tr>\n",
       "  </tbody>\n",
       "</table>\n",
       "</div>"
      ],
      "text/plain": [
       "               vasp_avg     spy_pct\n",
       "Date                               \n",
       "2021-12-31  1901.882984  973.355932\n",
       "2021-12-30  1897.093097  976.067797"
      ]
     },
     "execution_count": 461,
     "metadata": {},
     "output_type": "execute_result"
    }
   ],
   "source": [
    "vasp['spy_pct'] = spy_df['spy_pct']\n",
    "vasp.head(2)"
   ]
  },
  {
   "cell_type": "code",
   "execution_count": 462,
   "id": "f5b544b2",
   "metadata": {},
   "outputs": [
    {
     "data": {
      "text/html": [
       "<div>\n",
       "<style scoped>\n",
       "    .dataframe tbody tr th:only-of-type {\n",
       "        vertical-align: middle;\n",
       "    }\n",
       "\n",
       "    .dataframe tbody tr th {\n",
       "        vertical-align: top;\n",
       "    }\n",
       "\n",
       "    .dataframe thead th {\n",
       "        text-align: right;\n",
       "    }\n",
       "</style>\n",
       "<table border=\"1\" class=\"dataframe\">\n",
       "  <thead>\n",
       "    <tr style=\"text-align: right;\">\n",
       "      <th></th>\n",
       "      <th>vasp_avg</th>\n",
       "      <th>spy_pct</th>\n",
       "    </tr>\n",
       "    <tr>\n",
       "      <th>Date</th>\n",
       "      <th></th>\n",
       "      <th></th>\n",
       "    </tr>\n",
       "  </thead>\n",
       "  <tbody>\n",
       "    <tr>\n",
       "      <th>1993-02-02</th>\n",
       "      <td>0.714355</td>\n",
       "      <td>0.20339</td>\n",
       "    </tr>\n",
       "    <tr>\n",
       "      <th>1993-02-01</th>\n",
       "      <td>0.000000</td>\n",
       "      <td>0.00000</td>\n",
       "    </tr>\n",
       "  </tbody>\n",
       "</table>\n",
       "</div>"
      ],
      "text/plain": [
       "            vasp_avg  spy_pct\n",
       "Date                         \n",
       "1993-02-02  0.714355  0.20339\n",
       "1993-02-01  0.000000  0.00000"
      ]
     },
     "execution_count": 462,
     "metadata": {},
     "output_type": "execute_result"
    }
   ],
   "source": [
    "vasp.tail(2)"
   ]
  },
  {
   "cell_type": "code",
   "execution_count": 463,
   "id": "58ac7367",
   "metadata": {},
   "outputs": [
    {
     "data": {
      "image/png": "[encoded data removed]",
      "text/plain": [
       "<Figure size 1080x576 with 1 Axes>"
      ]
     },
     "metadata": {},
     "output_type": "display_data"
    }
   ],
   "source": [
    "sns.set(font_scale = 1.25)\n",
    "vasp_c = sns.lineplot(data=vasp).set(title='Comparing the Equities to the SPY',\n",
    "                                     xlabel='Date',ylabel='pct change in both')"
   ]
  },
  {
   "cell_type": "code",
   "execution_count": 464,
   "id": "f50254f3",
   "metadata": {},
   "outputs": [
    {
     "name": "stdout",
     "output_type": "stream",
     "text": [
      "It appears that the selected equities performed better; meaning 95.39% better\n"
     ]
    }
   ],
   "source": [
    "print('It appears that the selected equities performed better; meaning',\n",
    "     \"{}%\".format(round(((vasp['vasp_avg'][0] / vasp['spy_pct'][0])-1)*100,2)),'better')"
   ]
  },
  {
   "cell_type": "markdown",
   "id": "773df94b",
   "metadata": {},
   "source": [
    "Well then. Not too bad."
   ]
  },
  {
   "cell_type": "code",
   "execution_count": null,
   "id": "ea95e418",
   "metadata": {},
   "outputs": [],
   "source": []
  },
  {
   "cell_type": "markdown",
   "id": "90d94848",
   "metadata": {},
   "source": [
    "**Equities vs. IWD** | This will now be setup. As a reminder, the `IWD` dataframe started 2000-05-30."
   ]
  },
  {
   "cell_type": "code",
   "execution_count": 466,
   "id": "78984d8a",
   "metadata": {},
   "outputs": [
    {
     "data": {
      "text/html": [
       "<div>\n",
       "<style scoped>\n",
       "    .dataframe tbody tr th:only-of-type {\n",
       "        vertical-align: middle;\n",
       "    }\n",
       "\n",
       "    .dataframe tbody tr th {\n",
       "        vertical-align: top;\n",
       "    }\n",
       "\n",
       "    .dataframe thead th {\n",
       "        text-align: right;\n",
       "    }\n",
       "</style>\n",
       "<table border=\"1\" class=\"dataframe\">\n",
       "  <thead>\n",
       "    <tr style=\"text-align: right;\">\n",
       "      <th></th>\n",
       "      <th>symbol</th>\n",
       "      <th>name</th>\n",
       "      <th>sector</th>\n",
       "      <th>industry</th>\n",
       "      <th>pct_ch_1990</th>\n",
       "    </tr>\n",
       "  </thead>\n",
       "  <tbody>\n",
       "    <tr>\n",
       "      <th>46</th>\n",
       "      <td>WTRG</td>\n",
       "      <td>Essential Utilities, Inc.</td>\n",
       "      <td>Utilities</td>\n",
       "      <td>Utilities—Regulated Water</td>\n",
       "      <td>2397.21</td>\n",
       "    </tr>\n",
       "    <tr>\n",
       "      <th>47</th>\n",
       "      <td>RRX</td>\n",
       "      <td>Regal Rexnord Corporation</td>\n",
       "      <td>Industrials</td>\n",
       "      <td>Specialty Industrial Machinery</td>\n",
       "      <td>1962.79</td>\n",
       "    </tr>\n",
       "    <tr>\n",
       "      <th>48</th>\n",
       "      <td>J</td>\n",
       "      <td>Jacobs Engineering Group Inc.</td>\n",
       "      <td>Industrials</td>\n",
       "      <td>Engineering &amp; Construction</td>\n",
       "      <td>7453.85</td>\n",
       "    </tr>\n",
       "  </tbody>\n",
       "</table>\n",
       "</div>"
      ],
      "text/plain": [
       "   symbol                           name       sector  \\\n",
       "46   WTRG      Essential Utilities, Inc.    Utilities   \n",
       "47    RRX      Regal Rexnord Corporation  Industrials   \n",
       "48      J  Jacobs Engineering Group Inc.  Industrials   \n",
       "\n",
       "                          industry pct_ch_1990  \n",
       "46       Utilities—Regulated Water     2397.21  \n",
       "47  Specialty Industrial Machinery     1962.79  \n",
       "48      Engineering & Construction     7453.85  "
      ]
     },
     "execution_count": 466,
     "metadata": {},
     "output_type": "execute_result"
    }
   ],
   "source": [
    "# double checking the last 2 are the \"problem equities\"\n",
    "df_l_yr.tail(3)"
   ]
  },
  {
   "cell_type": "code",
   "execution_count": 467,
   "id": "384dc688",
   "metadata": {},
   "outputs": [],
   "source": [
    "# Yup! Setting up a new dataframe w/out the ones that cause issues\n",
    "df_l_yr = df_l_yr[df_l_yr['symbol'] != 'WTRG']\n",
    "df_l_yr = df_l_yr[df_l_yr['symbol'] != 'RRX']\n",
    "df_l_yr = df_l_yr[df_l_yr['symbol'] != 'J']"
   ]
  },
  {
   "cell_type": "code",
   "execution_count": 468,
   "id": "2fc88d4d",
   "metadata": {},
   "outputs": [
    {
     "data": {
      "text/html": [
       "<div>\n",
       "<style scoped>\n",
       "    .dataframe tbody tr th:only-of-type {\n",
       "        vertical-align: middle;\n",
       "    }\n",
       "\n",
       "    .dataframe tbody tr th {\n",
       "        vertical-align: top;\n",
       "    }\n",
       "\n",
       "    .dataframe thead th {\n",
       "        text-align: right;\n",
       "    }\n",
       "</style>\n",
       "<table border=\"1\" class=\"dataframe\">\n",
       "  <thead>\n",
       "    <tr style=\"text-align: right;\">\n",
       "      <th></th>\n",
       "      <th>symbol</th>\n",
       "      <th>name</th>\n",
       "      <th>sector</th>\n",
       "      <th>industry</th>\n",
       "      <th>pct_ch_1990</th>\n",
       "    </tr>\n",
       "  </thead>\n",
       "  <tbody>\n",
       "    <tr>\n",
       "      <th>43</th>\n",
       "      <td>LEG</td>\n",
       "      <td>Leggett &amp; Platt, Incorporated</td>\n",
       "      <td>Consumer Cyclical</td>\n",
       "      <td>Furnishings, Fixtures &amp; Appliances</td>\n",
       "      <td>1003.49</td>\n",
       "    </tr>\n",
       "    <tr>\n",
       "      <th>44</th>\n",
       "      <td>AVT</td>\n",
       "      <td>Avnet, Inc.</td>\n",
       "      <td>Technology</td>\n",
       "      <td>Electronics &amp; Computer Distribution</td>\n",
       "      <td>159.63</td>\n",
       "    </tr>\n",
       "    <tr>\n",
       "      <th>45</th>\n",
       "      <td>BOH</td>\n",
       "      <td>Bank of Hawaii Corporation</td>\n",
       "      <td>Financial Services</td>\n",
       "      <td>Banks—Regional</td>\n",
       "      <td>657.32</td>\n",
       "    </tr>\n",
       "  </tbody>\n",
       "</table>\n",
       "</div>"
      ],
      "text/plain": [
       "   symbol                           name              sector  \\\n",
       "43    LEG  Leggett & Platt, Incorporated   Consumer Cyclical   \n",
       "44    AVT                    Avnet, Inc.          Technology   \n",
       "45    BOH     Bank of Hawaii Corporation  Financial Services   \n",
       "\n",
       "                               industry pct_ch_1990  \n",
       "43   Furnishings, Fixtures & Appliances     1003.49  \n",
       "44  Electronics & Computer Distribution      159.63  \n",
       "45                       Banks—Regional      657.32  "
      ]
     },
     "execution_count": 468,
     "metadata": {},
     "output_type": "execute_result"
    }
   ],
   "source": [
    "df_l_yr_t.tail(3)"
   ]
  },
  {
   "cell_type": "code",
   "execution_count": 469,
   "id": "c126f8c1",
   "metadata": {},
   "outputs": [
    {
     "name": "stderr",
     "output_type": "stream",
     "text": [
      "100%|██████████| 46/46 [04:12<00:00,  5.49s/it]\n"
     ]
    }
   ],
   "source": [
    "# this is the main dataframe for the equities structured against the iShares Russell Value ETF (IWD)\n",
    "eq_rus = pd.DataFrame([])\n",
    "\n",
    "for j in tqdm(range(0,len(df_l_yr_t))):\n",
    "    # getting the data from investpy but I will always start with a clean one\n",
    "    tick_df = pd.DataFrame([])\n",
    "    tick_df = investpy.stocks.get_stock_historical_data(stock=df_l_yr_t.symbol[j], country='United States',\n",
    "                                              from_date='30/05/2000', to_date='31/12/2021',\n",
    "                                              as_json=False, order='descending', interval='Daily')\n",
    "    tick_df = tick_df.drop(columns=['Open','High','Low','Volume','Currency'])\n",
    "\n",
    "    # setting up the comparison number\n",
    "    tick_df_st = tick_df.Close[len(tick_df)-1]\n",
    "\n",
    "    tick_pct = []\n",
    "\n",
    "    for i in range(0,len(tick_df)-1):\n",
    "        t_pct = 0\n",
    "        t_pct = ((tick_df['Close'][i] / tick_df_st)-1)*100\n",
    "        tick_pct.append(t_pct)\n",
    "    tick_pct.append(0)\n",
    "\n",
    "    # this is the symbol to add to the dataframe column alongside \"pct\"\n",
    "    tick_df_s = df_l_yr_t.symbol[j]\n",
    "    tick_df[tick_df_s+'_pct'] = tick_pct\n",
    "    tick_df = tick_df.drop(columns='Close')\n",
    "\n",
    "    # putting the data into the main dataframe\n",
    "    eq_rus[tick_df_s+'_pct'] = tick_df[tick_df_s+'_pct']"
   ]
  },
  {
   "cell_type": "code",
   "execution_count": 470,
   "id": "15002912",
   "metadata": {},
   "outputs": [
    {
     "data": {
      "text/html": [
       "<div>\n",
       "<style scoped>\n",
       "    .dataframe tbody tr th:only-of-type {\n",
       "        vertical-align: middle;\n",
       "    }\n",
       "\n",
       "    .dataframe tbody tr th {\n",
       "        vertical-align: top;\n",
       "    }\n",
       "\n",
       "    .dataframe thead th {\n",
       "        text-align: right;\n",
       "    }\n",
       "</style>\n",
       "<table border=\"1\" class=\"dataframe\">\n",
       "  <thead>\n",
       "    <tr style=\"text-align: right;\">\n",
       "      <th>Date</th>\n",
       "      <th>2021-12-31</th>\n",
       "      <th>2021-12-30</th>\n",
       "      <th>2021-12-29</th>\n",
       "      <th>2021-12-28</th>\n",
       "      <th>2021-12-27</th>\n",
       "      <th>2021-12-23</th>\n",
       "      <th>2021-12-22</th>\n",
       "      <th>2021-12-21</th>\n",
       "      <th>2021-12-20</th>\n",
       "      <th>2021-12-17</th>\n",
       "      <th>...</th>\n",
       "      <th>2000-06-12</th>\n",
       "      <th>2000-06-09</th>\n",
       "      <th>2000-06-08</th>\n",
       "      <th>2000-06-07</th>\n",
       "      <th>2000-06-06</th>\n",
       "      <th>2000-06-05</th>\n",
       "      <th>2000-06-02</th>\n",
       "      <th>2000-06-01</th>\n",
       "      <th>2000-05-31</th>\n",
       "      <th>2000-05-30</th>\n",
       "    </tr>\n",
       "  </thead>\n",
       "  <tbody>\n",
       "    <tr>\n",
       "      <th>ADP_pct</th>\n",
       "      <td>461.302071</td>\n",
       "      <td>458.980196</td>\n",
       "      <td>464.55725</td>\n",
       "      <td>460.141134</td>\n",
       "      <td>460.64193</td>\n",
       "      <td>450.876394</td>\n",
       "      <td>440.905987</td>\n",
       "      <td>427.999089</td>\n",
       "      <td>422.103346</td>\n",
       "      <td>422.217164</td>\n",
       "      <td>...</td>\n",
       "      <td>-1.069884</td>\n",
       "      <td>0.796722</td>\n",
       "      <td>0.0</td>\n",
       "      <td>2.913726</td>\n",
       "      <td>3.482814</td>\n",
       "      <td>2.458457</td>\n",
       "      <td>2.253585</td>\n",
       "      <td>-1.115411</td>\n",
       "      <td>-1.343046</td>\n",
       "      <td>0.0</td>\n",
       "    </tr>\n",
       "  </tbody>\n",
       "</table>\n",
       "<p>1 rows × 5435 columns</p>\n",
       "</div>"
      ],
      "text/plain": [
       "Date     2021-12-31  2021-12-30  2021-12-29  2021-12-28  2021-12-27  \\\n",
       "ADP_pct  461.302071  458.980196   464.55725  460.141134   460.64193   \n",
       "\n",
       "Date     2021-12-23  2021-12-22  2021-12-21  2021-12-20  2021-12-17  ...  \\\n",
       "ADP_pct  450.876394  440.905987  427.999089  422.103346  422.217164  ...   \n",
       "\n",
       "Date     2000-06-12  2000-06-09  2000-06-08  2000-06-07  2000-06-06  \\\n",
       "ADP_pct   -1.069884    0.796722         0.0    2.913726    3.482814   \n",
       "\n",
       "Date     2000-06-05  2000-06-02  2000-06-01  2000-05-31  2000-05-30  \n",
       "ADP_pct    2.458457    2.253585   -1.115411   -1.343046         0.0  \n",
       "\n",
       "[1 rows x 5435 columns]"
      ]
     },
     "execution_count": 470,
     "metadata": {},
     "output_type": "execute_result"
    }
   ],
   "source": [
    "eq_rus_T = eq_rus.T\n",
    "eq_rus_T.head(1)"
   ]
  },
  {
   "cell_type": "code",
   "execution_count": 471,
   "id": "d37353e4",
   "metadata": {},
   "outputs": [
    {
     "data": {
      "text/html": [
       "<div>\n",
       "<style scoped>\n",
       "    .dataframe tbody tr th:only-of-type {\n",
       "        vertical-align: middle;\n",
       "    }\n",
       "\n",
       "    .dataframe tbody tr th {\n",
       "        vertical-align: top;\n",
       "    }\n",
       "\n",
       "    .dataframe thead th {\n",
       "        text-align: right;\n",
       "    }\n",
       "</style>\n",
       "<table border=\"1\" class=\"dataframe\">\n",
       "  <thead>\n",
       "    <tr style=\"text-align: right;\">\n",
       "      <th>Date</th>\n",
       "      <th>2021-12-31</th>\n",
       "      <th>2021-12-30</th>\n",
       "      <th>2021-12-29</th>\n",
       "      <th>2021-12-28</th>\n",
       "      <th>2021-12-27</th>\n",
       "      <th>2021-12-23</th>\n",
       "      <th>2021-12-22</th>\n",
       "      <th>2021-12-21</th>\n",
       "      <th>2021-12-20</th>\n",
       "      <th>2021-12-17</th>\n",
       "      <th>...</th>\n",
       "      <th>2000-06-12</th>\n",
       "      <th>2000-06-09</th>\n",
       "      <th>2000-06-08</th>\n",
       "      <th>2000-06-07</th>\n",
       "      <th>2000-06-06</th>\n",
       "      <th>2000-06-05</th>\n",
       "      <th>2000-06-02</th>\n",
       "      <th>2000-06-01</th>\n",
       "      <th>2000-05-31</th>\n",
       "      <th>2000-05-30</th>\n",
       "    </tr>\n",
       "  </thead>\n",
       "  <tbody>\n",
       "    <tr>\n",
       "      <th>BOH_pct</th>\n",
       "      <td>286.168741</td>\n",
       "      <td>286.721992</td>\n",
       "      <td>288.79668</td>\n",
       "      <td>288.105118</td>\n",
       "      <td>287.782388</td>\n",
       "      <td>284.278469</td>\n",
       "      <td>281.143384</td>\n",
       "      <td>278.838174</td>\n",
       "      <td>269.525127</td>\n",
       "      <td>272.475795</td>\n",
       "      <td>...</td>\n",
       "      <td>-2.028585</td>\n",
       "      <td>-2.627939</td>\n",
       "      <td>-1.751959</td>\n",
       "      <td>1.42923</td>\n",
       "      <td>0.0</td>\n",
       "      <td>1.705855</td>\n",
       "      <td>5.763024</td>\n",
       "      <td>4.887045</td>\n",
       "      <td>3.73444</td>\n",
       "      <td>0.0</td>\n",
       "    </tr>\n",
       "  </tbody>\n",
       "</table>\n",
       "<p>1 rows × 5435 columns</p>\n",
       "</div>"
      ],
      "text/plain": [
       "Date     2021-12-31  2021-12-30  2021-12-29  2021-12-28  2021-12-27  \\\n",
       "BOH_pct  286.168741  286.721992   288.79668  288.105118  287.782388   \n",
       "\n",
       "Date     2021-12-23  2021-12-22  2021-12-21  2021-12-20  2021-12-17  ...  \\\n",
       "BOH_pct  284.278469  281.143384  278.838174  269.525127  272.475795  ...   \n",
       "\n",
       "Date     2000-06-12  2000-06-09  2000-06-08  2000-06-07  2000-06-06  \\\n",
       "BOH_pct   -2.028585   -2.627939   -1.751959     1.42923         0.0   \n",
       "\n",
       "Date     2000-06-05  2000-06-02  2000-06-01  2000-05-31  2000-05-30  \n",
       "BOH_pct    1.705855    5.763024    4.887045     3.73444         0.0  \n",
       "\n",
       "[1 rows x 5435 columns]"
      ]
     },
     "execution_count": 471,
     "metadata": {},
     "output_type": "execute_result"
    }
   ],
   "source": [
    "eq_rus_T.tail(1)"
   ]
  },
  {
   "cell_type": "markdown",
   "id": "a8978772",
   "metadata": {},
   "source": [
    "Looks like it worked. Let's check for nulls."
   ]
  },
  {
   "cell_type": "code",
   "execution_count": 472,
   "id": "fbd81c90",
   "metadata": {},
   "outputs": [],
   "source": [
    "eq_rus_n = pd.DataFrame(eq_rus.isna().sum())\n",
    "eq_rus_n.columns = ['is_na']"
   ]
  },
  {
   "cell_type": "code",
   "execution_count": 473,
   "id": "49c4d0f1",
   "metadata": {},
   "outputs": [
    {
     "data": {
      "text/plain": [
       "is_na    42\n",
       "dtype: int64"
      ]
     },
     "execution_count": 473,
     "metadata": {},
     "output_type": "execute_result"
    }
   ],
   "source": [
    "eq_rus_n[eq_rus_n['is_na']>0].count()"
   ]
  },
  {
   "cell_type": "code",
   "execution_count": 474,
   "id": "7b3d04e7",
   "metadata": {},
   "outputs": [
    {
     "data": {
      "text/plain": [
       "is_na    5\n",
       "dtype: int64"
      ]
     },
     "execution_count": 474,
     "metadata": {},
     "output_type": "execute_result"
    }
   ],
   "source": [
    "eq_rus_n[eq_rus_n['is_na']>0].max()"
   ]
  },
  {
   "cell_type": "code",
   "execution_count": 475,
   "id": "4cdd5877",
   "metadata": {},
   "outputs": [
    {
     "data": {
      "text/plain": [
       "is_na    0.00092\n",
       "dtype: float64"
      ]
     },
     "execution_count": 475,
     "metadata": {},
     "output_type": "execute_result"
    }
   ],
   "source": [
    "eq_rus_n[eq_rus_n['is_na']>0].max() / len(eq_rus)"
   ]
  },
  {
   "cell_type": "markdown",
   "id": "96fd6e24",
   "metadata": {},
   "source": [
    "Appears that there are 8 equities that had a null value, the maximum number of nulls in a single equity was 137 representing a little shy of 1% of the dataframe. \n",
    "\n",
    "I will apply a forward fill."
   ]
  },
  {
   "cell_type": "code",
   "execution_count": 476,
   "id": "02862311",
   "metadata": {},
   "outputs": [],
   "source": [
    "eq_rus = eq_rus.fillna(method='ffill')"
   ]
  },
  {
   "cell_type": "code",
   "execution_count": 477,
   "id": "1631321b",
   "metadata": {},
   "outputs": [],
   "source": [
    "eq_rus_null = pd.DataFrame(eq_rus.isna().sum())\n",
    "eq_rus_null.columns = ['is_na']"
   ]
  },
  {
   "cell_type": "code",
   "execution_count": 478,
   "id": "136c08e1",
   "metadata": {},
   "outputs": [
    {
     "data": {
      "text/plain": [
       "is_na    0\n",
       "dtype: int64"
      ]
     },
     "execution_count": 478,
     "metadata": {},
     "output_type": "execute_result"
    }
   ],
   "source": [
    "eq_rus_null[eq_rus_null['is_na']>0].count()"
   ]
  },
  {
   "cell_type": "markdown",
   "id": "17c51a33",
   "metadata": {},
   "source": [
    "Voila; now too add the below back in with `yfinance`.\n",
    "\n",
    "    * WTRG\n",
    "    * RRX\n",
    "    * J\n",
    "\n",
    "WTRG will go first."
   ]
  },
  {
   "cell_type": "code",
   "execution_count": 479,
   "id": "182966f4",
   "metadata": {},
   "outputs": [],
   "source": [
    "# setting up the dataframe\n",
    "WTRG_r_str = 'WTRG'\n",
    "WTRG_e_rus_t = yf.Ticker(WTRG_r_str)\n",
    "WTRG_e_rus_yf = WTRG_e_rus_t.history(start=\"2000-05-30\", end=\"2021-12-31\", interval=\"1D\")\n",
    "\n",
    "# cleaning it\n",
    "WTRG_e_rus_yf = WTRG_e_rus_yf.drop(columns=['Open','High','Low','Volume','Dividends','Stock Splits'])\n",
    "WTRG_e_rus_yf = WTRG_e_rus_yf[::-1]\n",
    "\n",
    "# the first observation to be used as a comparison\n",
    "WTRG_e_t_st = WTRG_e_rus_yf.Close[len(WTRG_e_rus_yf)-1]"
   ]
  },
  {
   "cell_type": "code",
   "execution_count": 480,
   "id": "09792290",
   "metadata": {},
   "outputs": [
    {
     "name": "stderr",
     "output_type": "stream",
     "text": [
      "100%|██████████| 5432/5432 [00:00<00:00, 170488.94it/s]\n"
     ]
    }
   ],
   "source": [
    "# this is the loop to pull the data to be added in\n",
    "tick_pct = []\n",
    "\n",
    "for i in tqdm(range(0,len(WTRG_e_rus_yf)-1)):\n",
    "    t_pct = 0\n",
    "    t_pct = ((WTRG_e_rus_yf['Close'][i] / WTRG_e_t_st)-1)*100\n",
    "    tick_pct.append(t_pct)\n",
    "tick_pct.append(0)"
   ]
  },
  {
   "cell_type": "code",
   "execution_count": 481,
   "id": "7f8f51e9",
   "metadata": {},
   "outputs": [
    {
     "data": {
      "text/html": [
       "<div>\n",
       "<style scoped>\n",
       "    .dataframe tbody tr th:only-of-type {\n",
       "        vertical-align: middle;\n",
       "    }\n",
       "\n",
       "    .dataframe tbody tr th {\n",
       "        vertical-align: top;\n",
       "    }\n",
       "\n",
       "    .dataframe thead th {\n",
       "        text-align: right;\n",
       "    }\n",
       "</style>\n",
       "<table border=\"1\" class=\"dataframe\">\n",
       "  <thead>\n",
       "    <tr style=\"text-align: right;\">\n",
       "      <th></th>\n",
       "      <th>WTRG_pct</th>\n",
       "    </tr>\n",
       "    <tr>\n",
       "      <th>Date</th>\n",
       "      <th></th>\n",
       "    </tr>\n",
       "  </thead>\n",
       "  <tbody>\n",
       "    <tr>\n",
       "      <th>2000-05-31</th>\n",
       "      <td>2.590633</td>\n",
       "    </tr>\n",
       "    <tr>\n",
       "      <th>2000-05-30</th>\n",
       "      <td>0.000000</td>\n",
       "    </tr>\n",
       "  </tbody>\n",
       "</table>\n",
       "</div>"
      ],
      "text/plain": [
       "            WTRG_pct\n",
       "Date                \n",
       "2000-05-31  2.590633\n",
       "2000-05-30  0.000000"
      ]
     },
     "execution_count": 481,
     "metadata": {},
     "output_type": "execute_result"
    }
   ],
   "source": [
    "# bringing it in\n",
    "WTRG_e_rus_yf[WTRG_r_str+'_pct'] = tick_pct\n",
    "\n",
    "# dropping Close\n",
    "WTRG_e_rus_yf = WTRG_e_rus_yf.drop(columns=['Close'])\n",
    "WTRG_e_rus_yf.tail(2)"
   ]
  },
  {
   "cell_type": "markdown",
   "id": "a47c053d",
   "metadata": {},
   "source": [
    "RRX next."
   ]
  },
  {
   "cell_type": "code",
   "execution_count": 482,
   "id": "52c662d7",
   "metadata": {},
   "outputs": [],
   "source": [
    "# setting up the dataframe\n",
    "RRX_str = 'RRX'\n",
    "RRX_e_rus_t = yf.Ticker(RRX_str)\n",
    "RRX_e_rus_yf = RRX_e_rus_t.history(start=\"2000-05-30\", end=\"2021-12-31\", interval=\"1D\")\n",
    "\n",
    "# cleaning it\n",
    "RRX_e_rus_yf = RRX_e_rus_yf.drop(columns=['Open','High','Low','Volume','Dividends','Stock Splits'])\n",
    "RRX_e_rus_yf = RRX_e_rus_yf[::-1]\n",
    "\n",
    "# the first observation to be used as a comparison\n",
    "RRX_e_t_st = RRX_e_rus_yf.Close[len(RRX_e_rus_yf)-1]"
   ]
  },
  {
   "cell_type": "code",
   "execution_count": 483,
   "id": "de18ca5e",
   "metadata": {},
   "outputs": [
    {
     "name": "stderr",
     "output_type": "stream",
     "text": [
      "100%|██████████| 5432/5432 [00:00<00:00, 175603.18it/s]\n"
     ]
    }
   ],
   "source": [
    "# this is the loop to pull the data to be added in\n",
    "tick_pct = []\n",
    "\n",
    "for i in tqdm(range(0,len(RRX_e_rus_yf)-1)):\n",
    "    t_pct = 0\n",
    "    t_pct = ((RRX_e_rus_yf['Close'][i] / RRX_e_t_st)-1)*100\n",
    "    tick_pct.append(t_pct)\n",
    "\n",
    "tick_pct.append(0)"
   ]
  },
  {
   "cell_type": "code",
   "execution_count": 484,
   "id": "e5f3c2dd",
   "metadata": {},
   "outputs": [
    {
     "data": {
      "text/html": [
       "<div>\n",
       "<style scoped>\n",
       "    .dataframe tbody tr th:only-of-type {\n",
       "        vertical-align: middle;\n",
       "    }\n",
       "\n",
       "    .dataframe tbody tr th {\n",
       "        vertical-align: top;\n",
       "    }\n",
       "\n",
       "    .dataframe thead th {\n",
       "        text-align: right;\n",
       "    }\n",
       "</style>\n",
       "<table border=\"1\" class=\"dataframe\">\n",
       "  <thead>\n",
       "    <tr style=\"text-align: right;\">\n",
       "      <th></th>\n",
       "      <th>RRX_pct</th>\n",
       "    </tr>\n",
       "    <tr>\n",
       "      <th>Date</th>\n",
       "      <th></th>\n",
       "    </tr>\n",
       "  </thead>\n",
       "  <tbody>\n",
       "    <tr>\n",
       "      <th>2000-05-31</th>\n",
       "      <td>-2.18976</td>\n",
       "    </tr>\n",
       "    <tr>\n",
       "      <th>2000-05-30</th>\n",
       "      <td>0.00000</td>\n",
       "    </tr>\n",
       "  </tbody>\n",
       "</table>\n",
       "</div>"
      ],
      "text/plain": [
       "            RRX_pct\n",
       "Date               \n",
       "2000-05-31 -2.18976\n",
       "2000-05-30  0.00000"
      ]
     },
     "execution_count": 484,
     "metadata": {},
     "output_type": "execute_result"
    }
   ],
   "source": [
    "# bringing it in\n",
    "RRX_e_rus_yf[RRX_str+'_pct'] = tick_pct\n",
    "\n",
    "# dropping Close\n",
    "RRX_e_rus_yf = RRX_e_rus_yf.drop(columns=['Close'])\n",
    "RRX_e_rus_yf.tail(2)"
   ]
  },
  {
   "cell_type": "markdown",
   "id": "f17b3a7b",
   "metadata": {},
   "source": [
    "J next"
   ]
  },
  {
   "cell_type": "code",
   "execution_count": 485,
   "id": "4b1d5e0a",
   "metadata": {},
   "outputs": [],
   "source": [
    "# setting up the dataframe\n",
    "j_str = 'J'\n",
    "j_e_rus_t = yf.Ticker(j_str)\n",
    "j_e_rus_yf = j_e_rus_t.history(start=\"2000-05-30\", end=\"2021-12-31\", interval=\"1D\")\n",
    "\n",
    "# cleaning it\n",
    "j_e_rus_yf = j_e_rus_yf.drop(columns=['Open','High','Low','Volume','Dividends','Stock Splits'])\n",
    "j_e_rus_yf = j_e_rus_yf[::-1]\n",
    "\n",
    "# the first observation to be used as a comparison\n",
    "j_e_t_st = j_e_rus_yf.Close[len(j_e_rus_yf)-1]"
   ]
  },
  {
   "cell_type": "code",
   "execution_count": 486,
   "id": "20f82851",
   "metadata": {},
   "outputs": [
    {
     "name": "stderr",
     "output_type": "stream",
     "text": [
      "100%|██████████| 5432/5432 [00:00<00:00, 164966.04it/s]\n"
     ]
    }
   ],
   "source": [
    "# this is the loop to pull the data to be added in\n",
    "tick_pct = []\n",
    "\n",
    "for i in tqdm(range(0,len(j_e_rus_yf)-1)):\n",
    "    t_pct = 0\n",
    "    t_pct = ((j_e_rus_yf['Close'][i] / j_e_t_st)-1)*100\n",
    "    tick_pct.append(t_pct)\n",
    "\n",
    "tick_pct.append(0)"
   ]
  },
  {
   "cell_type": "code",
   "execution_count": 487,
   "id": "14682329",
   "metadata": {},
   "outputs": [
    {
     "data": {
      "text/html": [
       "<div>\n",
       "<style scoped>\n",
       "    .dataframe tbody tr th:only-of-type {\n",
       "        vertical-align: middle;\n",
       "    }\n",
       "\n",
       "    .dataframe tbody tr th {\n",
       "        vertical-align: top;\n",
       "    }\n",
       "\n",
       "    .dataframe thead th {\n",
       "        text-align: right;\n",
       "    }\n",
       "</style>\n",
       "<table border=\"1\" class=\"dataframe\">\n",
       "  <thead>\n",
       "    <tr style=\"text-align: right;\">\n",
       "      <th></th>\n",
       "      <th>J_pct</th>\n",
       "    </tr>\n",
       "    <tr>\n",
       "      <th>Date</th>\n",
       "      <th></th>\n",
       "    </tr>\n",
       "  </thead>\n",
       "  <tbody>\n",
       "    <tr>\n",
       "      <th>2000-05-31</th>\n",
       "      <td>-2.205881</td>\n",
       "    </tr>\n",
       "    <tr>\n",
       "      <th>2000-05-30</th>\n",
       "      <td>0.000000</td>\n",
       "    </tr>\n",
       "  </tbody>\n",
       "</table>\n",
       "</div>"
      ],
      "text/plain": [
       "               J_pct\n",
       "Date                \n",
       "2000-05-31 -2.205881\n",
       "2000-05-30  0.000000"
      ]
     },
     "execution_count": 487,
     "metadata": {},
     "output_type": "execute_result"
    }
   ],
   "source": [
    "# bringing it in\n",
    "j_e_rus_yf[j_str+'_pct'] = tick_pct\n",
    "\n",
    "# dropping Close\n",
    "j_e_rus_yf = j_e_rus_yf.drop(columns=['Close'])\n",
    "j_e_rus_yf.tail(2)"
   ]
  },
  {
   "cell_type": "code",
   "execution_count": null,
   "id": "56e55987",
   "metadata": {},
   "outputs": [],
   "source": []
  },
  {
   "cell_type": "markdown",
   "id": "6a8f2fe1",
   "metadata": {},
   "source": [
    "Well that was a bit easier. There is now the following dataframes to be brought in:\n",
    "\n",
    "    * WTRG_e_rus_yf\n",
    "    * RRX_e_rus_yf\n",
    "    * j_RRX_e_rus_yf\n",
    "    \n",
    "Before they are brought in, a measure will be established to compare too; i.e. the length of the main dataframe before adding."
   ]
  },
  {
   "cell_type": "code",
   "execution_count": 488,
   "id": "139088e9",
   "metadata": {},
   "outputs": [],
   "source": [
    "eq_rus['WTRG_pct'] = WTRG_e_rus_yf['WTRG_pct']\n",
    "eq_rus['RRX_pct'] = RRX_e_rus_yf['RRX_pct']\n",
    "eq_rus['J_pct'] = j_e_rus_yf['J_pct']"
   ]
  },
  {
   "cell_type": "code",
   "execution_count": 489,
   "id": "34876b39",
   "metadata": {},
   "outputs": [
    {
     "name": "stdout",
     "output_type": "stream",
     "text": [
      " 2 | WTRG null's \n",
      " 2 | RRX null's \n",
      " 2 | J null's\n"
     ]
    }
   ],
   "source": [
    "print('',eq_rus['WTRG_pct'].isna().sum(),'| WTRG null\\'s','\\n',\n",
    "eq_rus['RRX_pct'].isna().sum(),'| RRX null\\'s','\\n',\n",
    "     eq_rus['J_pct'].isna().sum(),'| J null\\'s')"
   ]
  },
  {
   "cell_type": "markdown",
   "id": "2993d57c",
   "metadata": {},
   "source": [
    "In this round, a forward fill will be used as it was in the others."
   ]
  },
  {
   "cell_type": "code",
   "execution_count": 490,
   "id": "612eaab7",
   "metadata": {},
   "outputs": [],
   "source": [
    "eq_rus['WTRG_pct'] = eq_rus['WTRG_pct'].fillna(method='ffill')\n",
    "eq_rus['RRX_pct'] = eq_rus['RRX_pct'].fillna(method='ffill')\n",
    "eq_rus['J_pct'] = eq_rus['J_pct'].fillna(method='ffill')"
   ]
  },
  {
   "cell_type": "code",
   "execution_count": 491,
   "id": "496a7694",
   "metadata": {},
   "outputs": [
    {
     "name": "stdout",
     "output_type": "stream",
     "text": [
      " 1 | WTRG null's \n",
      " 1 | RRX null's \n",
      " 1 | J null's\n"
     ]
    }
   ],
   "source": [
    "print('',eq_rus['WTRG_pct'].isna().sum(),'| WTRG null\\'s','\\n',\n",
    "eq_rus['RRX_pct'].isna().sum(),'| RRX null\\'s','\\n',\n",
    "     eq_rus['J_pct'].isna().sum(),'| J null\\'s')"
   ]
  },
  {
   "cell_type": "markdown",
   "id": "259ade6b",
   "metadata": {},
   "source": [
    "A backwards fill is required as per the `SPY` engagement."
   ]
  },
  {
   "cell_type": "code",
   "execution_count": 492,
   "id": "54463b2d",
   "metadata": {},
   "outputs": [],
   "source": [
    "eq_rus['WTRG_pct'] = eq_rus['WTRG_pct'].fillna(method='bfill')\n",
    "eq_rus['RRX_pct'] = eq_rus['RRX_pct'].fillna(method='bfill')\n",
    "eq_rus['J_pct'] = eq_rus['J_pct'].fillna(method='bfill')"
   ]
  },
  {
   "cell_type": "code",
   "execution_count": 493,
   "id": "9cb90b4c",
   "metadata": {},
   "outputs": [
    {
     "name": "stdout",
     "output_type": "stream",
     "text": [
      " 0 | WTRG null's \n",
      " 0 | RRX null's \n",
      " 0 | J null's\n"
     ]
    }
   ],
   "source": [
    "print('',eq_rus['WTRG_pct'].isna().sum(),'| WTRG null\\'s','\\n',\n",
    "eq_rus['RRX_pct'].isna().sum(),'| RRX null\\'s','\\n',\n",
    "     eq_rus['J_pct'].isna().sum(),'| J null\\'s')"
   ]
  },
  {
   "cell_type": "markdown",
   "id": "9381eeac",
   "metadata": {},
   "source": [
    "Alright, there is now a complete dataframe. An equally weighted average for all will be used to compare.\n",
    "\n",
    "It needs a unique & short name, similar to `SPY` & `IWD`. I will call it `VARV` standing for:\n",
    "\n",
    "    * VARV | Value Average for the Russell Value Index\n",
    "\n",
    "Because why not but before I proceed, I shall save  to an Excel."
   ]
  },
  {
   "cell_type": "code",
   "execution_count": 494,
   "id": "d873e6ac",
   "metadata": {},
   "outputs": [
    {
     "name": "stdout",
     "output_type": "stream",
     "text": [
      "Complete\n"
     ]
    }
   ],
   "source": [
    "eq_rus.to_excel('eq_rus.xlsx')\n",
    "print('Complete')"
   ]
  },
  {
   "cell_type": "markdown",
   "id": "4b100b9b",
   "metadata": {},
   "source": [
    "Now proceeding."
   ]
  },
  {
   "cell_type": "code",
   "execution_count": 495,
   "id": "f41ac015",
   "metadata": {},
   "outputs": [],
   "source": [
    "varv = pd.DataFrame([])\n",
    "varv = eq_rus.copy()"
   ]
  },
  {
   "cell_type": "code",
   "execution_count": 496,
   "id": "34a94414",
   "metadata": {},
   "outputs": [
    {
     "data": {
      "text/plain": [
       "Date\n",
       "2021-12-31    710.340429\n",
       "2021-12-30    707.206665\n",
       "2021-12-29    710.338841\n",
       "Name: varv_avg, dtype: float64"
      ]
     },
     "execution_count": 496,
     "metadata": {},
     "output_type": "execute_result"
    }
   ],
   "source": [
    "varv['varv_avg'] = varv.mean(axis=1)\n",
    "varv['varv_avg'].head(3)"
   ]
  },
  {
   "cell_type": "code",
   "execution_count": 497,
   "id": "7069b9ed",
   "metadata": {},
   "outputs": [
    {
     "name": "stdout",
     "output_type": "stream",
     "text": [
      "0 | Checking for nulls\n"
     ]
    }
   ],
   "source": [
    "print(varv['varv_avg'].isna().sum(),'| Checking for nulls')"
   ]
  },
  {
   "cell_type": "markdown",
   "id": "63d03e20",
   "metadata": {},
   "source": [
    "Now making that column the only column for the `varv` dataframe."
   ]
  },
  {
   "cell_type": "code",
   "execution_count": 498,
   "id": "246393d5",
   "metadata": {},
   "outputs": [],
   "source": [
    "varv = pd.DataFrame(varv['varv_avg'])"
   ]
  },
  {
   "cell_type": "code",
   "execution_count": 499,
   "id": "132aa0d9",
   "metadata": {},
   "outputs": [
    {
     "data": {
      "text/html": [
       "<div>\n",
       "<style scoped>\n",
       "    .dataframe tbody tr th:only-of-type {\n",
       "        vertical-align: middle;\n",
       "    }\n",
       "\n",
       "    .dataframe tbody tr th {\n",
       "        vertical-align: top;\n",
       "    }\n",
       "\n",
       "    .dataframe thead th {\n",
       "        text-align: right;\n",
       "    }\n",
       "</style>\n",
       "<table border=\"1\" class=\"dataframe\">\n",
       "  <thead>\n",
       "    <tr style=\"text-align: right;\">\n",
       "      <th></th>\n",
       "      <th>varv_avg</th>\n",
       "    </tr>\n",
       "    <tr>\n",
       "      <th>Date</th>\n",
       "      <th></th>\n",
       "    </tr>\n",
       "  </thead>\n",
       "  <tbody>\n",
       "    <tr>\n",
       "      <th>2021-12-31</th>\n",
       "      <td>710.340429</td>\n",
       "    </tr>\n",
       "    <tr>\n",
       "      <th>2021-12-30</th>\n",
       "      <td>707.206665</td>\n",
       "    </tr>\n",
       "    <tr>\n",
       "      <th>2021-12-29</th>\n",
       "      <td>710.338841</td>\n",
       "    </tr>\n",
       "  </tbody>\n",
       "</table>\n",
       "</div>"
      ],
      "text/plain": [
       "              varv_avg\n",
       "Date                  \n",
       "2021-12-31  710.340429\n",
       "2021-12-30  707.206665\n",
       "2021-12-29  710.338841"
      ]
     },
     "execution_count": 499,
     "metadata": {},
     "output_type": "execute_result"
    }
   ],
   "source": [
    "varv.head(3)"
   ]
  },
  {
   "cell_type": "markdown",
   "id": "3561bece",
   "metadata": {},
   "source": [
    "Adding in the `IWD` data"
   ]
  },
  {
   "cell_type": "code",
   "execution_count": 500,
   "id": "6d16bcba",
   "metadata": {},
   "outputs": [
    {
     "data": {
      "text/html": [
       "<div>\n",
       "<style scoped>\n",
       "    .dataframe tbody tr th:only-of-type {\n",
       "        vertical-align: middle;\n",
       "    }\n",
       "\n",
       "    .dataframe tbody tr th {\n",
       "        vertical-align: top;\n",
       "    }\n",
       "\n",
       "    .dataframe thead th {\n",
       "        text-align: right;\n",
       "    }\n",
       "</style>\n",
       "<table border=\"1\" class=\"dataframe\">\n",
       "  <thead>\n",
       "    <tr style=\"text-align: right;\">\n",
       "      <th></th>\n",
       "      <th>varv_avg</th>\n",
       "      <th>rus_pct</th>\n",
       "    </tr>\n",
       "    <tr>\n",
       "      <th>Date</th>\n",
       "      <th></th>\n",
       "      <th></th>\n",
       "    </tr>\n",
       "  </thead>\n",
       "  <tbody>\n",
       "    <tr>\n",
       "      <th>2021-12-31</th>\n",
       "      <td>710.340429</td>\n",
       "      <td>199.660956</td>\n",
       "    </tr>\n",
       "    <tr>\n",
       "      <th>2021-12-30</th>\n",
       "      <td>707.206665</td>\n",
       "      <td>199.732334</td>\n",
       "    </tr>\n",
       "  </tbody>\n",
       "</table>\n",
       "</div>"
      ],
      "text/plain": [
       "              varv_avg     rus_pct\n",
       "Date                              \n",
       "2021-12-31  710.340429  199.660956\n",
       "2021-12-30  707.206665  199.732334"
      ]
     },
     "execution_count": 500,
     "metadata": {},
     "output_type": "execute_result"
    }
   ],
   "source": [
    "varv['rus_pct'] = r_v_df['rus_pct']\n",
    "varv.head(2)"
   ]
  },
  {
   "cell_type": "code",
   "execution_count": 501,
   "id": "c47a43d0",
   "metadata": {},
   "outputs": [
    {
     "data": {
      "text/html": [
       "<div>\n",
       "<style scoped>\n",
       "    .dataframe tbody tr th:only-of-type {\n",
       "        vertical-align: middle;\n",
       "    }\n",
       "\n",
       "    .dataframe tbody tr th {\n",
       "        vertical-align: top;\n",
       "    }\n",
       "\n",
       "    .dataframe thead th {\n",
       "        text-align: right;\n",
       "    }\n",
       "</style>\n",
       "<table border=\"1\" class=\"dataframe\">\n",
       "  <thead>\n",
       "    <tr style=\"text-align: right;\">\n",
       "      <th></th>\n",
       "      <th>varv_avg</th>\n",
       "      <th>rus_pct</th>\n",
       "    </tr>\n",
       "    <tr>\n",
       "      <th>Date</th>\n",
       "      <th></th>\n",
       "      <th></th>\n",
       "    </tr>\n",
       "  </thead>\n",
       "  <tbody>\n",
       "    <tr>\n",
       "      <th>2000-05-31</th>\n",
       "      <td>-0.831261</td>\n",
       "      <td>0.713776</td>\n",
       "    </tr>\n",
       "    <tr>\n",
       "      <th>2000-05-30</th>\n",
       "      <td>0.000000</td>\n",
       "      <td>0.000000</td>\n",
       "    </tr>\n",
       "  </tbody>\n",
       "</table>\n",
       "</div>"
      ],
      "text/plain": [
       "            varv_avg   rus_pct\n",
       "Date                          \n",
       "2000-05-31 -0.831261  0.713776\n",
       "2000-05-30  0.000000  0.000000"
      ]
     },
     "execution_count": 501,
     "metadata": {},
     "output_type": "execute_result"
    }
   ],
   "source": [
    "varv.tail(2)"
   ]
  },
  {
   "cell_type": "code",
   "execution_count": 502,
   "id": "c3ad4c72",
   "metadata": {},
   "outputs": [
    {
     "data": {
      "image/png": "[encoded data removed]",
      "text/plain": [
       "<Figure size 1080x576 with 1 Axes>"
      ]
     },
     "metadata": {},
     "output_type": "display_data"
    }
   ],
   "source": [
    "sns.set(font_scale = 1.25)\n",
    "varv_c = sns.lineplot(data=varv).set(title='Comparing the Equities to the Russell Value Index',\n",
    "                                     xlabel='Date',ylabel='pct change in both')"
   ]
  },
  {
   "cell_type": "code",
   "execution_count": 503,
   "id": "d26a082d",
   "metadata": {},
   "outputs": [
    {
     "name": "stdout",
     "output_type": "stream",
     "text": [
      "It appears that the selected equities performed better; meaning 255.77% better\n"
     ]
    }
   ],
   "source": [
    "print('It appears that the selected equities performed better; meaning',\n",
    "     \"{}%\".format(round(((varv['varv_avg'][0] / varv['rus_pct'][0])-1)*100,2)),'better')"
   ]
  },
  {
   "cell_type": "markdown",
   "id": "dc02d902",
   "metadata": {},
   "source": [
    "**From Start Summary**"
   ]
  },
  {
   "cell_type": "code",
   "execution_count": 504,
   "id": "08d44b11",
   "metadata": {},
   "outputs": [
    {
     "name": "stdout",
     "output_type": "stream",
     "text": [
      "The below is how well the selected equities did compared to the indexes as a percent: \n",
      " \n",
      " SPY | 95.39% \n",
      " IWD | 255.77%\n"
     ]
    }
   ],
   "source": [
    "print('The below is how well the selected equities did compared to the indexes as a percent:','\\n','\\n',\n",
    "    'SPY |',\"{}%\".format(round(((vasp['vasp_avg'][0] / vasp['spy_pct'][0])-1)*100,2)),'\\n',\n",
    "    'IWD |',\"{}%\".format(round(((varv['varv_avg'][0] / varv['rus_pct'][0])-1)*100,2))\n",
    "     )"
   ]
  },
  {
   "cell_type": "code",
   "execution_count": null,
   "id": "b5199817",
   "metadata": {},
   "outputs": [],
   "source": []
  },
  {
   "cell_type": "markdown",
   "id": "c06b54c8",
   "metadata": {},
   "source": [
    "**COVID Crisis Resurgence**\n",
    "\n",
    "The next step would be to see how they performed since the bottom of the COVID crisis. They had the same dates as per below:\n",
    "\n",
    "    * SPY | 23 Mar 2020\n",
    "    * IWD | 23 Mar 2020\n",
    "    \n",
    "Given the comparatively higher change with `IWD` I am inclined to start with it."
   ]
  },
  {
   "cell_type": "code",
   "execution_count": 505,
   "id": "9fd4b157",
   "metadata": {},
   "outputs": [],
   "source": [
    "# I know what needs to be dropped so I will start there\n",
    "df_l_yr_t = pd.DataFrame([])\n",
    "df_l_yr_t = df_l_yr.copy()\n",
    "\n",
    "# Yup! Setting up a new dataframe w/out the ones that cause issues\n",
    "df_l_yr_t = df_l_yr_t[df_l_yr_t['symbol'] != 'WTRG']\n",
    "df_l_yr_t = df_l_yr_t[df_l_yr_t['symbol'] != 'RRX']\n",
    "df_l_yr_t = df_l_yr_t[df_l_yr_t['symbol'] != 'J']"
   ]
  },
  {
   "cell_type": "code",
   "execution_count": 506,
   "id": "87fccfdd",
   "metadata": {},
   "outputs": [
    {
     "data": {
      "text/html": [
       "<div>\n",
       "<style scoped>\n",
       "    .dataframe tbody tr th:only-of-type {\n",
       "        vertical-align: middle;\n",
       "    }\n",
       "\n",
       "    .dataframe tbody tr th {\n",
       "        vertical-align: top;\n",
       "    }\n",
       "\n",
       "    .dataframe thead th {\n",
       "        text-align: right;\n",
       "    }\n",
       "</style>\n",
       "<table border=\"1\" class=\"dataframe\">\n",
       "  <thead>\n",
       "    <tr style=\"text-align: right;\">\n",
       "      <th></th>\n",
       "      <th>symbol</th>\n",
       "      <th>name</th>\n",
       "      <th>sector</th>\n",
       "      <th>industry</th>\n",
       "      <th>pct_ch_1990</th>\n",
       "    </tr>\n",
       "  </thead>\n",
       "  <tbody>\n",
       "    <tr>\n",
       "      <th>43</th>\n",
       "      <td>LEG</td>\n",
       "      <td>Leggett &amp; Platt, Incorporated</td>\n",
       "      <td>Consumer Cyclical</td>\n",
       "      <td>Furnishings, Fixtures &amp; Appliances</td>\n",
       "      <td>1003.49</td>\n",
       "    </tr>\n",
       "    <tr>\n",
       "      <th>44</th>\n",
       "      <td>AVT</td>\n",
       "      <td>Avnet, Inc.</td>\n",
       "      <td>Technology</td>\n",
       "      <td>Electronics &amp; Computer Distribution</td>\n",
       "      <td>159.63</td>\n",
       "    </tr>\n",
       "    <tr>\n",
       "      <th>45</th>\n",
       "      <td>BOH</td>\n",
       "      <td>Bank of Hawaii Corporation</td>\n",
       "      <td>Financial Services</td>\n",
       "      <td>Banks—Regional</td>\n",
       "      <td>657.32</td>\n",
       "    </tr>\n",
       "  </tbody>\n",
       "</table>\n",
       "</div>"
      ],
      "text/plain": [
       "   symbol                           name              sector  \\\n",
       "43    LEG  Leggett & Platt, Incorporated   Consumer Cyclical   \n",
       "44    AVT                    Avnet, Inc.          Technology   \n",
       "45    BOH     Bank of Hawaii Corporation  Financial Services   \n",
       "\n",
       "                               industry pct_ch_1990  \n",
       "43   Furnishings, Fixtures & Appliances     1003.49  \n",
       "44  Electronics & Computer Distribution      159.63  \n",
       "45                       Banks—Regional      657.32  "
      ]
     },
     "execution_count": 506,
     "metadata": {},
     "output_type": "execute_result"
    }
   ],
   "source": [
    "# checking if the two were removed\n",
    "df_l_yr_t.tail(3)"
   ]
  },
  {
   "cell_type": "code",
   "execution_count": 507,
   "id": "1e43a605",
   "metadata": {},
   "outputs": [
    {
     "name": "stderr",
     "output_type": "stream",
     "text": [
      "100%|██████████| 46/46 [01:30<00:00,  1.97s/it]\n"
     ]
    }
   ],
   "source": [
    "# this is the main dataframe for the equities structured against the SPY\n",
    "eq_rus_covid = pd.DataFrame([])\n",
    "\n",
    "for j in tqdm(range(0,len(df_l_yr_t))):\n",
    "    # getting the data from investpy but I will always start with a clean one\n",
    "    tick_df = pd.DataFrame([])\n",
    "    tick_df = investpy.stocks.get_stock_historical_data(stock=df_l_yr_t.symbol[j], country='United States',\n",
    "                                              from_date='23/03/2020', to_date='31/12/2021',\n",
    "                                              as_json=False, order='descending', interval='Daily')\n",
    "    tick_df = tick_df.drop(columns=['Open','High','Low','Volume','Currency'])\n",
    "\n",
    "    # setting up the comparison number\n",
    "    tick_df_st = tick_df.Close[len(tick_df)-1]\n",
    "\n",
    "    tick_pct = []\n",
    "\n",
    "    for i in range(0,len(tick_df)-1):\n",
    "        t_pct = 0\n",
    "        t_pct = ((tick_df['Close'][i] / tick_df_st)-1)*100\n",
    "        tick_pct.append(t_pct)\n",
    "    tick_pct.append(0)\n",
    "\n",
    "    # this is the symbol to add to the dataframe column alongside \"pct\"\n",
    "    tick_df_s = df_l_yr_t.symbol[j]\n",
    "    tick_df[tick_df_s+'_pct'] = tick_pct\n",
    "    tick_df = tick_df.drop(columns='Close')\n",
    "\n",
    "    # putting the data into the main dataframe\n",
    "    eq_rus_covid[tick_df_s+'_pct'] = tick_df[tick_df_s+'_pct']"
   ]
  },
  {
   "cell_type": "code",
   "execution_count": 508,
   "id": "e5eebefa",
   "metadata": {},
   "outputs": [
    {
     "data": {
      "text/html": [
       "<div>\n",
       "<style scoped>\n",
       "    .dataframe tbody tr th:only-of-type {\n",
       "        vertical-align: middle;\n",
       "    }\n",
       "\n",
       "    .dataframe tbody tr th {\n",
       "        vertical-align: top;\n",
       "    }\n",
       "\n",
       "    .dataframe thead th {\n",
       "        text-align: right;\n",
       "    }\n",
       "</style>\n",
       "<table border=\"1\" class=\"dataframe\">\n",
       "  <thead>\n",
       "    <tr style=\"text-align: right;\">\n",
       "      <th>Date</th>\n",
       "      <th>2021-12-31</th>\n",
       "      <th>2021-12-30</th>\n",
       "      <th>2021-12-29</th>\n",
       "      <th>2021-12-28</th>\n",
       "      <th>2021-12-27</th>\n",
       "      <th>2021-12-23</th>\n",
       "      <th>2021-12-22</th>\n",
       "      <th>2021-12-21</th>\n",
       "      <th>2021-12-20</th>\n",
       "      <th>2021-12-17</th>\n",
       "      <th>...</th>\n",
       "      <th>2020-04-03</th>\n",
       "      <th>2020-04-02</th>\n",
       "      <th>2020-04-01</th>\n",
       "      <th>2020-03-31</th>\n",
       "      <th>2020-03-30</th>\n",
       "      <th>2020-03-27</th>\n",
       "      <th>2020-03-26</th>\n",
       "      <th>2020-03-25</th>\n",
       "      <th>2020-03-24</th>\n",
       "      <th>2020-03-23</th>\n",
       "    </tr>\n",
       "  </thead>\n",
       "  <tbody>\n",
       "    <tr>\n",
       "      <th>ADP_pct</th>\n",
       "      <td>126.074998</td>\n",
       "      <td>125.139818</td>\n",
       "      <td>127.386082</td>\n",
       "      <td>125.607408</td>\n",
       "      <td>125.809113</td>\n",
       "      <td>121.87586</td>\n",
       "      <td>117.86009</td>\n",
       "      <td>112.661593</td>\n",
       "      <td>110.286972</td>\n",
       "      <td>110.332814</td>\n",
       "      <td>...</td>\n",
       "      <td>17.878427</td>\n",
       "      <td>20.610617</td>\n",
       "      <td>18.932795</td>\n",
       "      <td>25.314019</td>\n",
       "      <td>26.359219</td>\n",
       "      <td>20.454754</td>\n",
       "      <td>25.662419</td>\n",
       "      <td>12.395709</td>\n",
       "      <td>10.901256</td>\n",
       "      <td>0.0</td>\n",
       "    </tr>\n",
       "  </tbody>\n",
       "</table>\n",
       "<p>1 rows × 450 columns</p>\n",
       "</div>"
      ],
      "text/plain": [
       "Date     2021-12-31  2021-12-30  2021-12-29  2021-12-28  2021-12-27  \\\n",
       "ADP_pct  126.074998  125.139818  127.386082  125.607408  125.809113   \n",
       "\n",
       "Date     2021-12-23  2021-12-22  2021-12-21  2021-12-20  2021-12-17  ...  \\\n",
       "ADP_pct   121.87586   117.86009  112.661593  110.286972  110.332814  ...   \n",
       "\n",
       "Date     2020-04-03  2020-04-02  2020-04-01  2020-03-31  2020-03-30  \\\n",
       "ADP_pct   17.878427   20.610617   18.932795   25.314019   26.359219   \n",
       "\n",
       "Date     2020-03-27  2020-03-26  2020-03-25  2020-03-24  2020-03-23  \n",
       "ADP_pct   20.454754   25.662419   12.395709   10.901256         0.0  \n",
       "\n",
       "[1 rows x 450 columns]"
      ]
     },
     "execution_count": 508,
     "metadata": {},
     "output_type": "execute_result"
    }
   ],
   "source": [
    "eq_rus_covid_T = eq_rus_covid.T\n",
    "eq_rus_covid_T.head(1)"
   ]
  },
  {
   "cell_type": "code",
   "execution_count": 509,
   "id": "e88a7639",
   "metadata": {},
   "outputs": [
    {
     "data": {
      "text/html": [
       "<div>\n",
       "<style scoped>\n",
       "    .dataframe tbody tr th:only-of-type {\n",
       "        vertical-align: middle;\n",
       "    }\n",
       "\n",
       "    .dataframe tbody tr th {\n",
       "        vertical-align: top;\n",
       "    }\n",
       "\n",
       "    .dataframe thead th {\n",
       "        text-align: right;\n",
       "    }\n",
       "</style>\n",
       "<table border=\"1\" class=\"dataframe\">\n",
       "  <thead>\n",
       "    <tr style=\"text-align: right;\">\n",
       "      <th>Date</th>\n",
       "      <th>2021-12-31</th>\n",
       "      <th>2021-12-30</th>\n",
       "      <th>2021-12-29</th>\n",
       "      <th>2021-12-28</th>\n",
       "      <th>2021-12-27</th>\n",
       "      <th>2021-12-23</th>\n",
       "      <th>2021-12-22</th>\n",
       "      <th>2021-12-21</th>\n",
       "      <th>2021-12-20</th>\n",
       "      <th>2021-12-17</th>\n",
       "      <th>...</th>\n",
       "      <th>2020-04-03</th>\n",
       "      <th>2020-04-02</th>\n",
       "      <th>2020-04-01</th>\n",
       "      <th>2020-03-31</th>\n",
       "      <th>2020-03-30</th>\n",
       "      <th>2020-03-27</th>\n",
       "      <th>2020-03-26</th>\n",
       "      <th>2020-03-25</th>\n",
       "      <th>2020-03-24</th>\n",
       "      <th>2020-03-23</th>\n",
       "    </tr>\n",
       "  </thead>\n",
       "  <tbody>\n",
       "    <tr>\n",
       "      <th>BOH_pct</th>\n",
       "      <td>76.820773</td>\n",
       "      <td>77.074098</td>\n",
       "      <td>78.024066</td>\n",
       "      <td>77.70741</td>\n",
       "      <td>77.559637</td>\n",
       "      <td>75.955246</td>\n",
       "      <td>74.519738</td>\n",
       "      <td>73.464218</td>\n",
       "      <td>69.199916</td>\n",
       "      <td>70.550982</td>\n",
       "      <td>...</td>\n",
       "      <td>14.545071</td>\n",
       "      <td>18.091619</td>\n",
       "      <td>11.631834</td>\n",
       "      <td>16.613891</td>\n",
       "      <td>14.355077</td>\n",
       "      <td>12.159595</td>\n",
       "      <td>19.337133</td>\n",
       "      <td>8.929702</td>\n",
       "      <td>9.35191</td>\n",
       "      <td>0.0</td>\n",
       "    </tr>\n",
       "  </tbody>\n",
       "</table>\n",
       "<p>1 rows × 450 columns</p>\n",
       "</div>"
      ],
      "text/plain": [
       "Date     2021-12-31  2021-12-30  2021-12-29  2021-12-28  2021-12-27  \\\n",
       "BOH_pct   76.820773   77.074098   78.024066    77.70741   77.559637   \n",
       "\n",
       "Date     2021-12-23  2021-12-22  2021-12-21  2021-12-20  2021-12-17  ...  \\\n",
       "BOH_pct   75.955246   74.519738   73.464218   69.199916   70.550982  ...   \n",
       "\n",
       "Date     2020-04-03  2020-04-02  2020-04-01  2020-03-31  2020-03-30  \\\n",
       "BOH_pct   14.545071   18.091619   11.631834   16.613891   14.355077   \n",
       "\n",
       "Date     2020-03-27  2020-03-26  2020-03-25  2020-03-24  2020-03-23  \n",
       "BOH_pct   12.159595   19.337133    8.929702     9.35191         0.0  \n",
       "\n",
       "[1 rows x 450 columns]"
      ]
     },
     "execution_count": 509,
     "metadata": {},
     "output_type": "execute_result"
    }
   ],
   "source": [
    "eq_rus_covid_T.tail(1)"
   ]
  },
  {
   "cell_type": "code",
   "execution_count": 510,
   "id": "896e6d28",
   "metadata": {},
   "outputs": [],
   "source": [
    "# checking that it worked\n",
    "eq_rus_covid_n = pd.DataFrame(eq_rus_covid.isna().sum())\n",
    "eq_rus_covid_n.columns = ['is_na']"
   ]
  },
  {
   "cell_type": "code",
   "execution_count": 511,
   "id": "2b380648",
   "metadata": {},
   "outputs": [
    {
     "data": {
      "text/plain": [
       "is_na    0\n",
       "dtype: int64"
      ]
     },
     "execution_count": 511,
     "metadata": {},
     "output_type": "execute_result"
    }
   ],
   "source": [
    "eq_rus_covid_n[eq_rus_covid_n['is_na']>0].count()"
   ]
  },
  {
   "cell_type": "code",
   "execution_count": 512,
   "id": "8c63c696",
   "metadata": {},
   "outputs": [
    {
     "data": {
      "text/plain": [
       "is_na   NaN\n",
       "dtype: float64"
      ]
     },
     "execution_count": 512,
     "metadata": {},
     "output_type": "execute_result"
    }
   ],
   "source": [
    "eq_rus_covid_n[eq_rus_covid_n['is_na']>0].max()"
   ]
  },
  {
   "cell_type": "code",
   "execution_count": 513,
   "id": "5fb79368",
   "metadata": {},
   "outputs": [
    {
     "data": {
      "text/plain": [
       "is_na   NaN\n",
       "dtype: float64"
      ]
     },
     "execution_count": 513,
     "metadata": {},
     "output_type": "execute_result"
    }
   ],
   "source": [
    "eq_rus_covid_n[eq_rus_covid_n['is_na']>0].max() / len(eq_rus_covid)"
   ]
  },
  {
   "cell_type": "markdown",
   "id": "a749c4f2",
   "metadata": {},
   "source": [
    "No `nan`'s; now too add the below back in with `yfinance`.\n",
    "\n",
    "    * WTRG\n",
    "    * RRX\n",
    "    * J\n",
    "\n",
    "WTRG will go first."
   ]
  },
  {
   "cell_type": "code",
   "execution_count": 514,
   "id": "a7edd7a2",
   "metadata": {},
   "outputs": [],
   "source": [
    "# setting up the dataframe\n",
    "WTRG_str = 'WTRG'\n",
    "WTRG_russ_covid_t = yf.Ticker(WTRG_str)\n",
    "WTRG_russ_covid_yf = WTRG_russ_covid_t.history(start=\"2020-03-23\", end=\"2021-12-31\", interval=\"1D\")\n",
    "\n",
    "# cleaning it\n",
    "WTRG_russ_covid_yf = WTRG_russ_covid_yf.drop(columns=['Open','High','Low','Volume','Dividends','Stock Splits'])\n",
    "WTRG_russ_covid_yf = WTRG_russ_covid_yf[::-1]\n",
    "\n",
    "# the first observation to be used as a comparison\n",
    "WTRG_russ_covid_st = WTRG_russ_covid_yf.Close[len(WTRG_russ_covid_yf)-1]"
   ]
  },
  {
   "cell_type": "code",
   "execution_count": 515,
   "id": "fdfe2cec",
   "metadata": {},
   "outputs": [
    {
     "name": "stderr",
     "output_type": "stream",
     "text": [
      "100%|██████████| 448/448 [00:00<00:00, 109158.14it/s]\n"
     ]
    }
   ],
   "source": [
    "# this is the loop to pull the data to be added in\n",
    "tick_pct = []\n",
    "\n",
    "for i in tqdm(range(0,len(WTRG_russ_covid_yf)-1)):\n",
    "    t_pct = 0\n",
    "    t_pct = ((WTRG_russ_covid_yf['Close'][i] / WTRG_russ_covid_st)-1)*100\n",
    "    tick_pct.append(t_pct)\n",
    "tick_pct.append(0)"
   ]
  },
  {
   "cell_type": "code",
   "execution_count": 516,
   "id": "b60dbcc5",
   "metadata": {},
   "outputs": [
    {
     "data": {
      "text/html": [
       "<div>\n",
       "<style scoped>\n",
       "    .dataframe tbody tr th:only-of-type {\n",
       "        vertical-align: middle;\n",
       "    }\n",
       "\n",
       "    .dataframe tbody tr th {\n",
       "        vertical-align: top;\n",
       "    }\n",
       "\n",
       "    .dataframe thead th {\n",
       "        text-align: right;\n",
       "    }\n",
       "</style>\n",
       "<table border=\"1\" class=\"dataframe\">\n",
       "  <thead>\n",
       "    <tr style=\"text-align: right;\">\n",
       "      <th></th>\n",
       "      <th>WTRG_pct</th>\n",
       "    </tr>\n",
       "    <tr>\n",
       "      <th>Date</th>\n",
       "      <th></th>\n",
       "    </tr>\n",
       "  </thead>\n",
       "  <tbody>\n",
       "    <tr>\n",
       "      <th>2020-03-24</th>\n",
       "      <td>12.067372</td>\n",
       "    </tr>\n",
       "    <tr>\n",
       "      <th>2020-03-23</th>\n",
       "      <td>0.000000</td>\n",
       "    </tr>\n",
       "  </tbody>\n",
       "</table>\n",
       "</div>"
      ],
      "text/plain": [
       "             WTRG_pct\n",
       "Date                 \n",
       "2020-03-24  12.067372\n",
       "2020-03-23   0.000000"
      ]
     },
     "execution_count": 516,
     "metadata": {},
     "output_type": "execute_result"
    }
   ],
   "source": [
    "# bringing it in\n",
    "WTRG_russ_covid_yf[WTRG_str+'_pct'] = tick_pct\n",
    "\n",
    "# dropping Close\n",
    "WTRG_russ_covid_yf = WTRG_russ_covid_yf.drop(columns=['Close'])\n",
    "WTRG_russ_covid_yf.tail(2)"
   ]
  },
  {
   "cell_type": "markdown",
   "id": "5241cf84",
   "metadata": {},
   "source": [
    "RRX next."
   ]
  },
  {
   "cell_type": "code",
   "execution_count": 517,
   "id": "aaa7d058",
   "metadata": {},
   "outputs": [],
   "source": [
    "# setting up the dataframe\n",
    "RRX_str = 'RRX'\n",
    "RRX_russ_covid_t = yf.Ticker(RRX_str)\n",
    "RRX_russ_covid_yf = RRX_russ_covid_t.history(start=\"2020-03-23\", end=\"2021-12-31\", interval=\"1D\")\n",
    "\n",
    "# cleaning it\n",
    "RRX_russ_covid_yf = RRX_russ_covid_yf.drop(columns=['Open','High','Low','Volume','Dividends','Stock Splits'])\n",
    "RRX_russ_covid_yf = RRX_russ_covid_yf[::-1]\n",
    "\n",
    "# the first observation to be used as a comparison\n",
    "RRX_russ_covid_st = RRX_russ_covid_yf.Close[len(RRX_russ_covid_yf)-1]"
   ]
  },
  {
   "cell_type": "code",
   "execution_count": 518,
   "id": "21c9e14e",
   "metadata": {},
   "outputs": [
    {
     "name": "stderr",
     "output_type": "stream",
     "text": [
      "100%|██████████| 448/448 [00:00<00:00, 145911.49it/s]\n"
     ]
    }
   ],
   "source": [
    "# this is the loop to pull the data to be added in\n",
    "tick_pct = []\n",
    "\n",
    "for i in tqdm(range(0,len(RRX_russ_covid_yf)-1)):\n",
    "    t_pct = 0\n",
    "    t_pct = ((RRX_russ_covid_yf['Close'][i] / RRX_russ_covid_st)-1)*100\n",
    "    tick_pct.append(t_pct)\n",
    "tick_pct.append(0)"
   ]
  },
  {
   "cell_type": "code",
   "execution_count": 519,
   "id": "bcb1ea6e",
   "metadata": {},
   "outputs": [
    {
     "data": {
      "text/html": [
       "<div>\n",
       "<style scoped>\n",
       "    .dataframe tbody tr th:only-of-type {\n",
       "        vertical-align: middle;\n",
       "    }\n",
       "\n",
       "    .dataframe tbody tr th {\n",
       "        vertical-align: top;\n",
       "    }\n",
       "\n",
       "    .dataframe thead th {\n",
       "        text-align: right;\n",
       "    }\n",
       "</style>\n",
       "<table border=\"1\" class=\"dataframe\">\n",
       "  <thead>\n",
       "    <tr style=\"text-align: right;\">\n",
       "      <th></th>\n",
       "      <th>RRX_pct</th>\n",
       "    </tr>\n",
       "    <tr>\n",
       "      <th>Date</th>\n",
       "      <th></th>\n",
       "    </tr>\n",
       "  </thead>\n",
       "  <tbody>\n",
       "    <tr>\n",
       "      <th>2020-03-24</th>\n",
       "      <td>7.585168</td>\n",
       "    </tr>\n",
       "    <tr>\n",
       "      <th>2020-03-23</th>\n",
       "      <td>0.000000</td>\n",
       "    </tr>\n",
       "  </tbody>\n",
       "</table>\n",
       "</div>"
      ],
      "text/plain": [
       "             RRX_pct\n",
       "Date                \n",
       "2020-03-24  7.585168\n",
       "2020-03-23  0.000000"
      ]
     },
     "execution_count": 519,
     "metadata": {},
     "output_type": "execute_result"
    }
   ],
   "source": [
    "# bringing it in\n",
    "RRX_russ_covid_yf[RRX_str+'_pct'] = tick_pct\n",
    "\n",
    "# dropping Close\n",
    "RRX_russ_covid_yf = RRX_russ_covid_yf.drop(columns=['Close'])\n",
    "RRX_russ_covid_yf.tail(2)"
   ]
  },
  {
   "cell_type": "code",
   "execution_count": 520,
   "id": "353c6165",
   "metadata": {},
   "outputs": [
    {
     "data": {
      "text/html": [
       "<div>\n",
       "<style scoped>\n",
       "    .dataframe tbody tr th:only-of-type {\n",
       "        vertical-align: middle;\n",
       "    }\n",
       "\n",
       "    .dataframe tbody tr th {\n",
       "        vertical-align: top;\n",
       "    }\n",
       "\n",
       "    .dataframe thead th {\n",
       "        text-align: right;\n",
       "    }\n",
       "</style>\n",
       "<table border=\"1\" class=\"dataframe\">\n",
       "  <thead>\n",
       "    <tr style=\"text-align: right;\">\n",
       "      <th></th>\n",
       "      <th>RRX_pct</th>\n",
       "    </tr>\n",
       "    <tr>\n",
       "      <th>Date</th>\n",
       "      <th></th>\n",
       "    </tr>\n",
       "  </thead>\n",
       "  <tbody>\n",
       "    <tr>\n",
       "      <th>2021-12-30</th>\n",
       "      <td>243.018762</td>\n",
       "    </tr>\n",
       "    <tr>\n",
       "      <th>2021-12-29</th>\n",
       "      <td>244.593907</td>\n",
       "    </tr>\n",
       "  </tbody>\n",
       "</table>\n",
       "</div>"
      ],
      "text/plain": [
       "               RRX_pct\n",
       "Date                  \n",
       "2021-12-30  243.018762\n",
       "2021-12-29  244.593907"
      ]
     },
     "execution_count": 520,
     "metadata": {},
     "output_type": "execute_result"
    }
   ],
   "source": [
    "RRX_russ_covid_yf.head(2)"
   ]
  },
  {
   "cell_type": "markdown",
   "id": "4b003a50",
   "metadata": {},
   "source": [
    "J to finish it off."
   ]
  },
  {
   "cell_type": "code",
   "execution_count": 521,
   "id": "6d9f340d",
   "metadata": {},
   "outputs": [],
   "source": [
    "# setting up the dataframe\n",
    "j_str = 'J'\n",
    "j_russ_covid_t = yf.Ticker(j_str)\n",
    "j_russ_covid_yf = j_russ_covid_t.history(start=\"2020-03-23\", end=\"2021-12-31\", interval=\"1D\")\n",
    "\n",
    "# cleaning it\n",
    "j_russ_covid_yf = j_russ_covid_yf.drop(columns=['Open','High','Low','Volume','Dividends','Stock Splits'])\n",
    "j_russ_covid_yf = j_russ_covid_yf[::-1]\n",
    "\n",
    "# the first observation to be used as a comparison\n",
    "j_russ_covid_st = j_russ_covid_yf.Close[len(j_russ_covid_yf)-1]"
   ]
  },
  {
   "cell_type": "code",
   "execution_count": 522,
   "id": "95ed9bb6",
   "metadata": {},
   "outputs": [
    {
     "name": "stderr",
     "output_type": "stream",
     "text": [
      "100%|██████████| 448/448 [00:00<00:00, 127048.56it/s]\n"
     ]
    }
   ],
   "source": [
    "# this is the loop to pull the data to be added in\n",
    "tick_pct = []\n",
    "\n",
    "for i in tqdm(range(0,len(j_russ_covid_yf)-1)):\n",
    "    t_pct = 0\n",
    "    t_pct = ((j_russ_covid_yf['Close'][i] / j_russ_covid_st)-1)*100\n",
    "    tick_pct.append(t_pct)\n",
    "tick_pct.append(0)"
   ]
  },
  {
   "cell_type": "code",
   "execution_count": 523,
   "id": "63ba7882",
   "metadata": {},
   "outputs": [
    {
     "data": {
      "text/html": [
       "<div>\n",
       "<style scoped>\n",
       "    .dataframe tbody tr th:only-of-type {\n",
       "        vertical-align: middle;\n",
       "    }\n",
       "\n",
       "    .dataframe tbody tr th {\n",
       "        vertical-align: top;\n",
       "    }\n",
       "\n",
       "    .dataframe thead th {\n",
       "        text-align: right;\n",
       "    }\n",
       "</style>\n",
       "<table border=\"1\" class=\"dataframe\">\n",
       "  <thead>\n",
       "    <tr style=\"text-align: right;\">\n",
       "      <th></th>\n",
       "      <th>J_pct</th>\n",
       "    </tr>\n",
       "    <tr>\n",
       "      <th>Date</th>\n",
       "      <th></th>\n",
       "    </tr>\n",
       "  </thead>\n",
       "  <tbody>\n",
       "    <tr>\n",
       "      <th>2020-03-24</th>\n",
       "      <td>10.284072</td>\n",
       "    </tr>\n",
       "    <tr>\n",
       "      <th>2020-03-23</th>\n",
       "      <td>0.000000</td>\n",
       "    </tr>\n",
       "  </tbody>\n",
       "</table>\n",
       "</div>"
      ],
      "text/plain": [
       "                J_pct\n",
       "Date                 \n",
       "2020-03-24  10.284072\n",
       "2020-03-23   0.000000"
      ]
     },
     "execution_count": 523,
     "metadata": {},
     "output_type": "execute_result"
    }
   ],
   "source": [
    "# bringing it in\n",
    "j_russ_covid_yf[j_str+'_pct'] = tick_pct\n",
    "\n",
    "# dropping Close\n",
    "j_russ_covid_yf = j_russ_covid_yf.drop(columns=['Close'])\n",
    "j_russ_covid_yf.tail(2)"
   ]
  },
  {
   "cell_type": "code",
   "execution_count": null,
   "id": "781082e3",
   "metadata": {},
   "outputs": [],
   "source": []
  },
  {
   "cell_type": "markdown",
   "id": "93e38fe3",
   "metadata": {},
   "source": [
    "Sending them in."
   ]
  },
  {
   "cell_type": "code",
   "execution_count": 524,
   "id": "fbc96850",
   "metadata": {},
   "outputs": [],
   "source": [
    "eq_rus_covid['WTRG_pct'] = WTRG_russ_covid_yf['WTRG_pct']\n",
    "eq_rus_covid['RRX_pct'] = RRX_russ_covid_yf['RRX_pct']\n",
    "eq_rus_covid['J_pct'] = j_russ_covid_yf['J_pct']"
   ]
  },
  {
   "cell_type": "code",
   "execution_count": 525,
   "id": "abf45805",
   "metadata": {},
   "outputs": [
    {
     "name": "stdout",
     "output_type": "stream",
     "text": [
      " 1 | WTRG null's \n",
      " 1 | RRX null's \n",
      " 1 | J null's\n"
     ]
    }
   ],
   "source": [
    "print('',eq_rus_covid['WTRG_pct'].isna().sum(),'| WTRG null\\'s','\\n',\n",
    "eq_rus_covid['RRX_pct'].isna().sum(),'| RRX null\\'s','\\n',\n",
    "eq_rus_covid['J_pct'].isna().sum(),'| J null\\'s')"
   ]
  },
  {
   "cell_type": "code",
   "execution_count": 526,
   "id": "60b0cced",
   "metadata": {},
   "outputs": [
    {
     "data": {
      "text/plain": [
       "Date\n",
       "2021-12-31          NaN\n",
       "2021-12-30    70.287306\n",
       "Name: WTRG_pct, dtype: float64"
      ]
     },
     "execution_count": 526,
     "metadata": {},
     "output_type": "execute_result"
    }
   ],
   "source": [
    "eq_rus_covid['WTRG_pct'].head(2)"
   ]
  },
  {
   "cell_type": "code",
   "execution_count": 527,
   "id": "9f910227",
   "metadata": {},
   "outputs": [
    {
     "data": {
      "text/plain": [
       "Date\n",
       "2021-12-31           NaN\n",
       "2021-12-30    243.018762\n",
       "Name: RRX_pct, dtype: float64"
      ]
     },
     "execution_count": 527,
     "metadata": {},
     "output_type": "execute_result"
    }
   ],
   "source": [
    "eq_rus_covid['RRX_pct'].head(2)"
   ]
  },
  {
   "cell_type": "code",
   "execution_count": 528,
   "id": "20daae9f",
   "metadata": {},
   "outputs": [
    {
     "data": {
      "text/plain": [
       "Date\n",
       "2021-12-31           NaN\n",
       "2021-12-30    123.245785\n",
       "Name: J_pct, dtype: float64"
      ]
     },
     "execution_count": 528,
     "metadata": {},
     "output_type": "execute_result"
    }
   ],
   "source": [
    "eq_rus_covid['J_pct'].head(2)"
   ]
  },
  {
   "cell_type": "markdown",
   "id": "8d16c6b4",
   "metadata": {},
   "source": [
    "Been here before."
   ]
  },
  {
   "cell_type": "code",
   "execution_count": 529,
   "id": "d96d9eb5",
   "metadata": {},
   "outputs": [],
   "source": [
    "eq_rus_covid['WTRG_pct'] = eq_rus_covid['WTRG_pct'].fillna(method='bfill')\n",
    "eq_rus_covid['RRX_pct'] = eq_rus_covid['RRX_pct'].fillna(method='bfill')\n",
    "eq_rus_covid['J_pct'] = eq_rus_covid['J_pct'].fillna(method='bfill')"
   ]
  },
  {
   "cell_type": "code",
   "execution_count": 530,
   "id": "c94313e6",
   "metadata": {},
   "outputs": [
    {
     "name": "stdout",
     "output_type": "stream",
     "text": [
      " 0 | WTRG null's \n",
      " 0 | RRX null's \n",
      " 0 | J null's\n"
     ]
    }
   ],
   "source": [
    "print('',eq_rus_covid['WTRG_pct'].isna().sum(),'| WTRG null\\'s','\\n',\n",
    "eq_rus_covid['RRX_pct'].isna().sum(),'| RRX null\\'s','\\n',\n",
    "eq_rus_covid['J_pct'].isna().sum(),'| J null\\'s')"
   ]
  },
  {
   "cell_type": "markdown",
   "id": "c0faee0c",
   "metadata": {},
   "source": [
    "Alright, there is now a complete dataframe. An equally weighted average for all will be used to compare.\n",
    "\n",
    "It needs a unique & short name, similar to `SPY` & `IWD`. I will call it `COVID_IWD` standing for:\n",
    "\n",
    "    * COVID_IWD | COVID vs IWD\n",
    "\n",
    "Because why not."
   ]
  },
  {
   "cell_type": "code",
   "execution_count": 531,
   "id": "31513b15",
   "metadata": {},
   "outputs": [],
   "source": [
    "covid_iwd = pd.DataFrame([])\n",
    "covid_iwd = eq_rus_covid.copy()"
   ]
  },
  {
   "cell_type": "code",
   "execution_count": 532,
   "id": "e6ab7891",
   "metadata": {},
   "outputs": [
    {
     "data": {
      "text/plain": [
       "Date\n",
       "2021-12-31    112.551546\n",
       "2021-12-30    111.847508\n",
       "2021-12-29    112.768744\n",
       "Name: select_eq_covid_avg, dtype: float64"
      ]
     },
     "execution_count": 532,
     "metadata": {},
     "output_type": "execute_result"
    }
   ],
   "source": [
    "covid_iwd['select_eq_covid_avg'] = covid_iwd.mean(axis=1)\n",
    "covid_iwd['select_eq_covid_avg'].head(3)"
   ]
  },
  {
   "cell_type": "code",
   "execution_count": 533,
   "id": "2d71bcf5",
   "metadata": {},
   "outputs": [
    {
     "name": "stdout",
     "output_type": "stream",
     "text": [
      "0 | Checking for nulls\n"
     ]
    }
   ],
   "source": [
    "print(covid_iwd['select_eq_covid_avg'].isna().sum(),'| Checking for nulls')"
   ]
  },
  {
   "cell_type": "markdown",
   "id": "e038b3f7",
   "metadata": {},
   "source": [
    "Now making that column the only column for the `vasp` dataframe."
   ]
  },
  {
   "cell_type": "code",
   "execution_count": 534,
   "id": "a246ff83",
   "metadata": {},
   "outputs": [],
   "source": [
    "covid_iwd = pd.DataFrame(covid_iwd['select_eq_covid_avg'])"
   ]
  },
  {
   "cell_type": "code",
   "execution_count": 535,
   "id": "3223da3c",
   "metadata": {},
   "outputs": [
    {
     "data": {
      "text/html": [
       "<div>\n",
       "<style scoped>\n",
       "    .dataframe tbody tr th:only-of-type {\n",
       "        vertical-align: middle;\n",
       "    }\n",
       "\n",
       "    .dataframe tbody tr th {\n",
       "        vertical-align: top;\n",
       "    }\n",
       "\n",
       "    .dataframe thead th {\n",
       "        text-align: right;\n",
       "    }\n",
       "</style>\n",
       "<table border=\"1\" class=\"dataframe\">\n",
       "  <thead>\n",
       "    <tr style=\"text-align: right;\">\n",
       "      <th></th>\n",
       "      <th>select_eq_covid_avg</th>\n",
       "    </tr>\n",
       "    <tr>\n",
       "      <th>Date</th>\n",
       "      <th></th>\n",
       "    </tr>\n",
       "  </thead>\n",
       "  <tbody>\n",
       "    <tr>\n",
       "      <th>2020-03-24</th>\n",
       "      <td>11.361242</td>\n",
       "    </tr>\n",
       "    <tr>\n",
       "      <th>2020-03-23</th>\n",
       "      <td>0.000000</td>\n",
       "    </tr>\n",
       "  </tbody>\n",
       "</table>\n",
       "</div>"
      ],
      "text/plain": [
       "            select_eq_covid_avg\n",
       "Date                           \n",
       "2020-03-24            11.361242\n",
       "2020-03-23             0.000000"
      ]
     },
     "execution_count": 535,
     "metadata": {},
     "output_type": "execute_result"
    }
   ],
   "source": [
    "covid_iwd.tail(2)"
   ]
  },
  {
   "cell_type": "markdown",
   "id": "24292121",
   "metadata": {},
   "source": [
    "Adding in the `IWD` data"
   ]
  },
  {
   "cell_type": "code",
   "execution_count": 536,
   "id": "3d86dcc6",
   "metadata": {},
   "outputs": [
    {
     "data": {
      "text/html": [
       "<div>\n",
       "<style scoped>\n",
       "    .dataframe tbody tr th:only-of-type {\n",
       "        vertical-align: middle;\n",
       "    }\n",
       "\n",
       "    .dataframe tbody tr th {\n",
       "        vertical-align: top;\n",
       "    }\n",
       "\n",
       "    .dataframe thead th {\n",
       "        text-align: right;\n",
       "    }\n",
       "</style>\n",
       "<table border=\"1\" class=\"dataframe\">\n",
       "  <thead>\n",
       "    <tr style=\"text-align: right;\">\n",
       "      <th></th>\n",
       "      <th>Close</th>\n",
       "    </tr>\n",
       "    <tr>\n",
       "      <th>Date</th>\n",
       "      <th></th>\n",
       "    </tr>\n",
       "  </thead>\n",
       "  <tbody>\n",
       "    <tr>\n",
       "      <th>2020-03-25</th>\n",
       "      <td>95.32</td>\n",
       "    </tr>\n",
       "    <tr>\n",
       "      <th>2020-03-24</th>\n",
       "      <td>93.93</td>\n",
       "    </tr>\n",
       "    <tr>\n",
       "      <th>2020-03-23</th>\n",
       "      <td>85.17</td>\n",
       "    </tr>\n",
       "  </tbody>\n",
       "</table>\n",
       "</div>"
      ],
      "text/plain": [
       "            Close\n",
       "Date             \n",
       "2020-03-25  95.32\n",
       "2020-03-24  93.93\n",
       "2020-03-23  85.17"
      ]
     },
     "execution_count": 536,
     "metadata": {},
     "output_type": "execute_result"
    }
   ],
   "source": [
    "r_covid_df = investpy.get_etf_historical_data(etf='iShares Russell 1000 Value', country='United States',\n",
    "                                        from_date='23/03/2020', to_date='31/12/2021')\n",
    "r_covid_df = r_covid_df[::-1]\n",
    "r_covid_df = r_covid_df.drop(columns=['Open','High','Low','Volume','Currency','Exchange'])\n",
    "r_covid_df.tail(3)"
   ]
  },
  {
   "cell_type": "code",
   "execution_count": 537,
   "id": "ae176d3b",
   "metadata": {},
   "outputs": [
    {
     "name": "stderr",
     "output_type": "stream",
     "text": [
      "100%|██████████| 476/476 [00:00<00:00, 221266.62it/s]\n"
     ]
    }
   ],
   "source": [
    "# this will be the main depository\n",
    "pct_covid_rus = []\n",
    "\n",
    "# re-establishing the first observation to compare too here it has been reversed ( same # as before )\n",
    "rus_covid_s = r_v_df['Close'][int(len(r_covid_df)-1)]\n",
    "\n",
    "for i in tqdm(range(0,len(r_covid_df)-1)):\n",
    "    \n",
    "    rus_pct = 0\n",
    "    rus_pct = (( r_covid_df['Close'][i] / rus_covid_s )-1)*100\n",
    "\n",
    "    pct_covid_rus.append(rus_pct)\n",
    "\n",
    "pct_covid_rus.append(0)"
   ]
  },
  {
   "cell_type": "code",
   "execution_count": 538,
   "id": "0cd604e5",
   "metadata": {},
   "outputs": [],
   "source": [
    "r_covid_df['rus_covid_avg'] = pct_covid_rus"
   ]
  },
  {
   "cell_type": "code",
   "execution_count": 539,
   "id": "a9c00f64",
   "metadata": {},
   "outputs": [
    {
     "data": {
      "text/html": [
       "<div>\n",
       "<style scoped>\n",
       "    .dataframe tbody tr th:only-of-type {\n",
       "        vertical-align: middle;\n",
       "    }\n",
       "\n",
       "    .dataframe tbody tr th {\n",
       "        vertical-align: top;\n",
       "    }\n",
       "\n",
       "    .dataframe thead th {\n",
       "        text-align: right;\n",
       "    }\n",
       "</style>\n",
       "<table border=\"1\" class=\"dataframe\">\n",
       "  <thead>\n",
       "    <tr style=\"text-align: right;\">\n",
       "      <th></th>\n",
       "      <th>Close</th>\n",
       "      <th>rus_covid_avg</th>\n",
       "    </tr>\n",
       "    <tr>\n",
       "      <th>Date</th>\n",
       "      <th></th>\n",
       "      <th></th>\n",
       "    </tr>\n",
       "  </thead>\n",
       "  <tbody>\n",
       "    <tr>\n",
       "      <th>2021-12-31</th>\n",
       "      <td>167.93</td>\n",
       "      <td>97.170365</td>\n",
       "    </tr>\n",
       "    <tr>\n",
       "      <th>2021-12-30</th>\n",
       "      <td>167.97</td>\n",
       "      <td>97.217330</td>\n",
       "    </tr>\n",
       "  </tbody>\n",
       "</table>\n",
       "</div>"
      ],
      "text/plain": [
       "             Close  rus_covid_avg\n",
       "Date                             \n",
       "2021-12-31  167.93      97.170365\n",
       "2021-12-30  167.97      97.217330"
      ]
     },
     "execution_count": 539,
     "metadata": {},
     "output_type": "execute_result"
    }
   ],
   "source": [
    "r_covid_df.head(2)"
   ]
  },
  {
   "cell_type": "code",
   "execution_count": 540,
   "id": "c3dfb399",
   "metadata": {},
   "outputs": [
    {
     "data": {
      "text/html": [
       "<div>\n",
       "<style scoped>\n",
       "    .dataframe tbody tr th:only-of-type {\n",
       "        vertical-align: middle;\n",
       "    }\n",
       "\n",
       "    .dataframe tbody tr th {\n",
       "        vertical-align: top;\n",
       "    }\n",
       "\n",
       "    .dataframe thead th {\n",
       "        text-align: right;\n",
       "    }\n",
       "</style>\n",
       "<table border=\"1\" class=\"dataframe\">\n",
       "  <thead>\n",
       "    <tr style=\"text-align: right;\">\n",
       "      <th></th>\n",
       "      <th>rus_covid_avg</th>\n",
       "    </tr>\n",
       "    <tr>\n",
       "      <th>Date</th>\n",
       "      <th></th>\n",
       "    </tr>\n",
       "  </thead>\n",
       "  <tbody>\n",
       "    <tr>\n",
       "      <th>2021-12-31</th>\n",
       "      <td>97.170365</td>\n",
       "    </tr>\n",
       "    <tr>\n",
       "      <th>2021-12-30</th>\n",
       "      <td>97.217330</td>\n",
       "    </tr>\n",
       "  </tbody>\n",
       "</table>\n",
       "</div>"
      ],
      "text/plain": [
       "            rus_covid_avg\n",
       "Date                     \n",
       "2021-12-31      97.170365\n",
       "2021-12-30      97.217330"
      ]
     },
     "execution_count": 540,
     "metadata": {},
     "output_type": "execute_result"
    }
   ],
   "source": [
    "r_covid_df = r_covid_df.drop(columns=['Close'])\n",
    "r_covid_df.head(2)"
   ]
  },
  {
   "cell_type": "code",
   "execution_count": 541,
   "id": "bc26000e",
   "metadata": {},
   "outputs": [
    {
     "data": {
      "text/html": [
       "<div>\n",
       "<style scoped>\n",
       "    .dataframe tbody tr th:only-of-type {\n",
       "        vertical-align: middle;\n",
       "    }\n",
       "\n",
       "    .dataframe tbody tr th {\n",
       "        vertical-align: top;\n",
       "    }\n",
       "\n",
       "    .dataframe thead th {\n",
       "        text-align: right;\n",
       "    }\n",
       "</style>\n",
       "<table border=\"1\" class=\"dataframe\">\n",
       "  <thead>\n",
       "    <tr style=\"text-align: right;\">\n",
       "      <th></th>\n",
       "      <th>rus_covid_avg</th>\n",
       "    </tr>\n",
       "    <tr>\n",
       "      <th>Date</th>\n",
       "      <th></th>\n",
       "    </tr>\n",
       "  </thead>\n",
       "  <tbody>\n",
       "    <tr>\n",
       "      <th>2020-03-24</th>\n",
       "      <td>10.285312</td>\n",
       "    </tr>\n",
       "    <tr>\n",
       "      <th>2020-03-23</th>\n",
       "      <td>0.000000</td>\n",
       "    </tr>\n",
       "  </tbody>\n",
       "</table>\n",
       "</div>"
      ],
      "text/plain": [
       "            rus_covid_avg\n",
       "Date                     \n",
       "2020-03-24      10.285312\n",
       "2020-03-23       0.000000"
      ]
     },
     "execution_count": 541,
     "metadata": {},
     "output_type": "execute_result"
    }
   ],
   "source": [
    "r_covid_df.tail(2)"
   ]
  },
  {
   "cell_type": "code",
   "execution_count": null,
   "id": "d53981e5",
   "metadata": {},
   "outputs": [],
   "source": []
  },
  {
   "cell_type": "markdown",
   "id": "5ae8974c",
   "metadata": {},
   "source": [
    "Now adding in the `IWD` data"
   ]
  },
  {
   "cell_type": "code",
   "execution_count": 542,
   "id": "7c8b69e4",
   "metadata": {},
   "outputs": [
    {
     "data": {
      "text/html": [
       "<div>\n",
       "<style scoped>\n",
       "    .dataframe tbody tr th:only-of-type {\n",
       "        vertical-align: middle;\n",
       "    }\n",
       "\n",
       "    .dataframe tbody tr th {\n",
       "        vertical-align: top;\n",
       "    }\n",
       "\n",
       "    .dataframe thead th {\n",
       "        text-align: right;\n",
       "    }\n",
       "</style>\n",
       "<table border=\"1\" class=\"dataframe\">\n",
       "  <thead>\n",
       "    <tr style=\"text-align: right;\">\n",
       "      <th></th>\n",
       "      <th>select_eq_covid_avg</th>\n",
       "      <th>rus_covid_avg</th>\n",
       "    </tr>\n",
       "    <tr>\n",
       "      <th>Date</th>\n",
       "      <th></th>\n",
       "      <th></th>\n",
       "    </tr>\n",
       "  </thead>\n",
       "  <tbody>\n",
       "    <tr>\n",
       "      <th>2021-12-31</th>\n",
       "      <td>112.551546</td>\n",
       "      <td>97.170365</td>\n",
       "    </tr>\n",
       "    <tr>\n",
       "      <th>2021-12-30</th>\n",
       "      <td>111.847508</td>\n",
       "      <td>97.217330</td>\n",
       "    </tr>\n",
       "  </tbody>\n",
       "</table>\n",
       "</div>"
      ],
      "text/plain": [
       "            select_eq_covid_avg  rus_covid_avg\n",
       "Date                                          \n",
       "2021-12-31           112.551546      97.170365\n",
       "2021-12-30           111.847508      97.217330"
      ]
     },
     "execution_count": 542,
     "metadata": {},
     "output_type": "execute_result"
    }
   ],
   "source": [
    "covid_iwd['rus_covid_avg'] = r_covid_df['rus_covid_avg']\n",
    "covid_iwd.head(2)"
   ]
  },
  {
   "cell_type": "code",
   "execution_count": 543,
   "id": "ccbe51f2",
   "metadata": {},
   "outputs": [
    {
     "data": {
      "text/html": [
       "<div>\n",
       "<style scoped>\n",
       "    .dataframe tbody tr th:only-of-type {\n",
       "        vertical-align: middle;\n",
       "    }\n",
       "\n",
       "    .dataframe tbody tr th {\n",
       "        vertical-align: top;\n",
       "    }\n",
       "\n",
       "    .dataframe thead th {\n",
       "        text-align: right;\n",
       "    }\n",
       "</style>\n",
       "<table border=\"1\" class=\"dataframe\">\n",
       "  <thead>\n",
       "    <tr style=\"text-align: right;\">\n",
       "      <th></th>\n",
       "      <th>select_eq_covid_avg</th>\n",
       "      <th>rus_covid_avg</th>\n",
       "    </tr>\n",
       "    <tr>\n",
       "      <th>Date</th>\n",
       "      <th></th>\n",
       "      <th></th>\n",
       "    </tr>\n",
       "  </thead>\n",
       "  <tbody>\n",
       "    <tr>\n",
       "      <th>2020-03-24</th>\n",
       "      <td>11.361242</td>\n",
       "      <td>10.285312</td>\n",
       "    </tr>\n",
       "    <tr>\n",
       "      <th>2020-03-23</th>\n",
       "      <td>0.000000</td>\n",
       "      <td>0.000000</td>\n",
       "    </tr>\n",
       "  </tbody>\n",
       "</table>\n",
       "</div>"
      ],
      "text/plain": [
       "            select_eq_covid_avg  rus_covid_avg\n",
       "Date                                          \n",
       "2020-03-24            11.361242      10.285312\n",
       "2020-03-23             0.000000       0.000000"
      ]
     },
     "execution_count": 543,
     "metadata": {},
     "output_type": "execute_result"
    }
   ],
   "source": [
    "covid_iwd.tail(2)"
   ]
  },
  {
   "cell_type": "code",
   "execution_count": 544,
   "id": "f6b5b6c0",
   "metadata": {},
   "outputs": [
    {
     "data": {
      "image/png": "[encoded data removed]",
      "text/plain": [
       "<Figure size 1080x576 with 1 Axes>"
      ]
     },
     "metadata": {},
     "output_type": "display_data"
    }
   ],
   "source": [
    "sns.set(font_scale = 1.25)\n",
    "covid_iwd_c = sns.lineplot(data=covid_iwd).set(title='Comparing the Equities to the Russell since Mar 23 2020',\n",
    "                                     xlabel='Date',ylabel='pct change in both')"
   ]
  },
  {
   "cell_type": "code",
   "execution_count": 545,
   "id": "859393ad",
   "metadata": {
    "scrolled": true
   },
   "outputs": [
    {
     "name": "stdout",
     "output_type": "stream",
     "text": [
      "It appears that the selected equities performed better; meaning 15.83% better\n"
     ]
    }
   ],
   "source": [
    "print('It appears that the selected equities performed better; meaning',\n",
    "     \"{}%\".format(round(((covid_iwd['select_eq_covid_avg'][0] / covid_iwd['rus_covid_avg'][0])-1)*100,2)),'better')"
   ]
  },
  {
   "cell_type": "code",
   "execution_count": null,
   "id": "a465bf02",
   "metadata": {},
   "outputs": [],
   "source": []
  },
  {
   "cell_type": "markdown",
   "id": "179472c3",
   "metadata": {},
   "source": [
    "**SPY Addition**\n",
    "\n",
    "Now to add the `SPY` to the mix."
   ]
  },
  {
   "cell_type": "code",
   "execution_count": 546,
   "id": "9fb4dd5c",
   "metadata": {},
   "outputs": [
    {
     "data": {
      "text/html": [
       "<div>\n",
       "<style scoped>\n",
       "    .dataframe tbody tr th:only-of-type {\n",
       "        vertical-align: middle;\n",
       "    }\n",
       "\n",
       "    .dataframe tbody tr th {\n",
       "        vertical-align: top;\n",
       "    }\n",
       "\n",
       "    .dataframe thead th {\n",
       "        text-align: right;\n",
       "    }\n",
       "</style>\n",
       "<table border=\"1\" class=\"dataframe\">\n",
       "  <thead>\n",
       "    <tr style=\"text-align: right;\">\n",
       "      <th></th>\n",
       "      <th>Close</th>\n",
       "    </tr>\n",
       "    <tr>\n",
       "      <th>Date</th>\n",
       "      <th></th>\n",
       "    </tr>\n",
       "  </thead>\n",
       "  <tbody>\n",
       "    <tr>\n",
       "      <th>2020-03-25</th>\n",
       "      <td>246.79</td>\n",
       "    </tr>\n",
       "    <tr>\n",
       "      <th>2020-03-24</th>\n",
       "      <td>243.15</td>\n",
       "    </tr>\n",
       "    <tr>\n",
       "      <th>2020-03-23</th>\n",
       "      <td>222.95</td>\n",
       "    </tr>\n",
       "  </tbody>\n",
       "</table>\n",
       "</div>"
      ],
      "text/plain": [
       "             Close\n",
       "Date              \n",
       "2020-03-25  246.79\n",
       "2020-03-24  243.15\n",
       "2020-03-23  222.95"
      ]
     },
     "execution_count": 546,
     "metadata": {},
     "output_type": "execute_result"
    }
   ],
   "source": [
    "spy_covid_df = investpy.get_etf_historical_data(etf='SPDR S&P 500', country='United States',\n",
    "                                        from_date='23/03/2020', to_date='31/12/2021')\n",
    "spy_covid_df = spy_covid_df[::-1]\n",
    "spy_covid_df = spy_covid_df.drop(columns=['Open','High','Low','Volume','Currency','Exchange'])\n",
    "spy_covid_df.tail(3)"
   ]
  },
  {
   "cell_type": "code",
   "execution_count": 547,
   "id": "cd268eea",
   "metadata": {},
   "outputs": [
    {
     "name": "stderr",
     "output_type": "stream",
     "text": [
      "100%|██████████| 454/454 [00:00<00:00, 150960.36it/s]\n"
     ]
    }
   ],
   "source": [
    "# this will be the main depository\n",
    "pct_covid_spy = []\n",
    "\n",
    "# re-establishing the first observation to compare too here it has been reversed ( same # as before )\n",
    "spy_covid_s = spy_covid_df['Close'][int(len(spy_covid_df)-1)]\n",
    "\n",
    "for i in tqdm(range(0,len(spy_covid_df)-1)):\n",
    "    \n",
    "    spy_pct = 0\n",
    "    spy_pct = (( spy_covid_df['Close'][i] / spy_covid_s )-1)*100\n",
    "\n",
    "    pct_covid_spy.append(spy_pct)\n",
    "\n",
    "pct_covid_spy.append(0)"
   ]
  },
  {
   "cell_type": "code",
   "execution_count": 548,
   "id": "f4a16e68",
   "metadata": {},
   "outputs": [],
   "source": [
    "spy_covid_df['spy_covid_avg'] = pct_covid_spy\n",
    "spy_covid_df = spy_covid_df.drop(columns=['Close'])"
   ]
  },
  {
   "cell_type": "code",
   "execution_count": 549,
   "id": "10b8e3d5",
   "metadata": {},
   "outputs": [
    {
     "data": {
      "text/html": [
       "<div>\n",
       "<style scoped>\n",
       "    .dataframe tbody tr th:only-of-type {\n",
       "        vertical-align: middle;\n",
       "    }\n",
       "\n",
       "    .dataframe tbody tr th {\n",
       "        vertical-align: top;\n",
       "    }\n",
       "\n",
       "    .dataframe thead th {\n",
       "        text-align: right;\n",
       "    }\n",
       "</style>\n",
       "<table border=\"1\" class=\"dataframe\">\n",
       "  <thead>\n",
       "    <tr style=\"text-align: right;\">\n",
       "      <th></th>\n",
       "      <th>spy_covid_avg</th>\n",
       "    </tr>\n",
       "    <tr>\n",
       "      <th>Date</th>\n",
       "      <th></th>\n",
       "    </tr>\n",
       "  </thead>\n",
       "  <tbody>\n",
       "    <tr>\n",
       "      <th>2021-12-31</th>\n",
       "      <td>113.034313</td>\n",
       "    </tr>\n",
       "    <tr>\n",
       "      <th>2021-12-30</th>\n",
       "      <td>113.572550</td>\n",
       "    </tr>\n",
       "  </tbody>\n",
       "</table>\n",
       "</div>"
      ],
      "text/plain": [
       "            spy_covid_avg\n",
       "Date                     \n",
       "2021-12-31     113.034313\n",
       "2021-12-30     113.572550"
      ]
     },
     "execution_count": 549,
     "metadata": {},
     "output_type": "execute_result"
    }
   ],
   "source": [
    "spy_covid_df.head(2)"
   ]
  },
  {
   "cell_type": "code",
   "execution_count": 550,
   "id": "787bde49",
   "metadata": {},
   "outputs": [
    {
     "data": {
      "text/html": [
       "<div>\n",
       "<style scoped>\n",
       "    .dataframe tbody tr th:only-of-type {\n",
       "        vertical-align: middle;\n",
       "    }\n",
       "\n",
       "    .dataframe tbody tr th {\n",
       "        vertical-align: top;\n",
       "    }\n",
       "\n",
       "    .dataframe thead th {\n",
       "        text-align: right;\n",
       "    }\n",
       "</style>\n",
       "<table border=\"1\" class=\"dataframe\">\n",
       "  <thead>\n",
       "    <tr style=\"text-align: right;\">\n",
       "      <th></th>\n",
       "      <th>spy_covid_avg</th>\n",
       "    </tr>\n",
       "    <tr>\n",
       "      <th>Date</th>\n",
       "      <th></th>\n",
       "    </tr>\n",
       "  </thead>\n",
       "  <tbody>\n",
       "    <tr>\n",
       "      <th>2020-03-24</th>\n",
       "      <td>9.060327</td>\n",
       "    </tr>\n",
       "    <tr>\n",
       "      <th>2020-03-23</th>\n",
       "      <td>0.000000</td>\n",
       "    </tr>\n",
       "  </tbody>\n",
       "</table>\n",
       "</div>"
      ],
      "text/plain": [
       "            spy_covid_avg\n",
       "Date                     \n",
       "2020-03-24       9.060327\n",
       "2020-03-23       0.000000"
      ]
     },
     "execution_count": 550,
     "metadata": {},
     "output_type": "execute_result"
    }
   ],
   "source": [
    "spy_covid_df.tail(2)"
   ]
  },
  {
   "cell_type": "markdown",
   "id": "8f845d1c",
   "metadata": {},
   "source": [
    "Confirming they look correct."
   ]
  },
  {
   "cell_type": "code",
   "execution_count": 551,
   "id": "12ce69d1",
   "metadata": {},
   "outputs": [
    {
     "data": {
      "text/plain": [
       "113.034313"
      ]
     },
     "execution_count": 551,
     "metadata": {},
     "output_type": "execute_result"
    }
   ],
   "source": [
    "round(((474.96 / 222.95)-1)*100,6)"
   ]
  },
  {
   "cell_type": "code",
   "execution_count": 552,
   "id": "40b37a4d",
   "metadata": {},
   "outputs": [
    {
     "data": {
      "text/plain": [
       "113.57255"
      ]
     },
     "execution_count": 552,
     "metadata": {},
     "output_type": "execute_result"
    }
   ],
   "source": [
    "round(((476.16 / 222.95)-1)*100,6)"
   ]
  },
  {
   "cell_type": "markdown",
   "id": "60093c49",
   "metadata": {},
   "source": [
    "Checking to see if they are the same length."
   ]
  },
  {
   "cell_type": "code",
   "execution_count": 553,
   "id": "143761b8",
   "metadata": {},
   "outputs": [
    {
     "name": "stdout",
     "output_type": "stream",
     "text": [
      "Checking to see if they are the same length : \n",
      " \n",
      " 455 | SPY \n",
      " 450 | Main dataframe\n"
     ]
    }
   ],
   "source": [
    "print('Checking to see if they are the same length :','\\n','\\n',\n",
    "     len(spy_covid_df),'| SPY','\\n',\n",
    "     len(covid_iwd),'| Main dataframe')"
   ]
  },
  {
   "cell_type": "markdown",
   "id": "f59dba52",
   "metadata": {},
   "source": [
    "This is odd. Let's see if they both start on the same day."
   ]
  },
  {
   "cell_type": "code",
   "execution_count": 554,
   "id": "4dcf1391",
   "metadata": {},
   "outputs": [
    {
     "data": {
      "text/html": [
       "<div>\n",
       "<style scoped>\n",
       "    .dataframe tbody tr th:only-of-type {\n",
       "        vertical-align: middle;\n",
       "    }\n",
       "\n",
       "    .dataframe tbody tr th {\n",
       "        vertical-align: top;\n",
       "    }\n",
       "\n",
       "    .dataframe thead th {\n",
       "        text-align: right;\n",
       "    }\n",
       "</style>\n",
       "<table border=\"1\" class=\"dataframe\">\n",
       "  <thead>\n",
       "    <tr style=\"text-align: right;\">\n",
       "      <th></th>\n",
       "      <th>select_eq_covid_avg</th>\n",
       "      <th>rus_covid_avg</th>\n",
       "    </tr>\n",
       "    <tr>\n",
       "      <th>Date</th>\n",
       "      <th></th>\n",
       "      <th></th>\n",
       "    </tr>\n",
       "  </thead>\n",
       "  <tbody>\n",
       "    <tr>\n",
       "      <th>2020-03-24</th>\n",
       "      <td>11.361242</td>\n",
       "      <td>10.285312</td>\n",
       "    </tr>\n",
       "    <tr>\n",
       "      <th>2020-03-23</th>\n",
       "      <td>0.000000</td>\n",
       "      <td>0.000000</td>\n",
       "    </tr>\n",
       "  </tbody>\n",
       "</table>\n",
       "</div>"
      ],
      "text/plain": [
       "            select_eq_covid_avg  rus_covid_avg\n",
       "Date                                          \n",
       "2020-03-24            11.361242      10.285312\n",
       "2020-03-23             0.000000       0.000000"
      ]
     },
     "execution_count": 554,
     "metadata": {},
     "output_type": "execute_result"
    }
   ],
   "source": [
    "covid_iwd.tail(2)"
   ]
  },
  {
   "cell_type": "code",
   "execution_count": 555,
   "id": "9d8e79f2",
   "metadata": {},
   "outputs": [
    {
     "data": {
      "text/html": [
       "<div>\n",
       "<style scoped>\n",
       "    .dataframe tbody tr th:only-of-type {\n",
       "        vertical-align: middle;\n",
       "    }\n",
       "\n",
       "    .dataframe tbody tr th {\n",
       "        vertical-align: top;\n",
       "    }\n",
       "\n",
       "    .dataframe thead th {\n",
       "        text-align: right;\n",
       "    }\n",
       "</style>\n",
       "<table border=\"1\" class=\"dataframe\">\n",
       "  <thead>\n",
       "    <tr style=\"text-align: right;\">\n",
       "      <th></th>\n",
       "      <th>spy_covid_avg</th>\n",
       "    </tr>\n",
       "    <tr>\n",
       "      <th>Date</th>\n",
       "      <th></th>\n",
       "    </tr>\n",
       "  </thead>\n",
       "  <tbody>\n",
       "    <tr>\n",
       "      <th>2020-03-24</th>\n",
       "      <td>9.060327</td>\n",
       "    </tr>\n",
       "    <tr>\n",
       "      <th>2020-03-23</th>\n",
       "      <td>0.000000</td>\n",
       "    </tr>\n",
       "  </tbody>\n",
       "</table>\n",
       "</div>"
      ],
      "text/plain": [
       "            spy_covid_avg\n",
       "Date                     \n",
       "2020-03-24       9.060327\n",
       "2020-03-23       0.000000"
      ]
     },
     "execution_count": 555,
     "metadata": {},
     "output_type": "execute_result"
    }
   ],
   "source": [
    "spy_covid_df.tail(2)"
   ]
  },
  {
   "cell_type": "markdown",
   "id": "49443362",
   "metadata": {},
   "source": [
    "Sill odd. Let's see if they both end on the same day."
   ]
  },
  {
   "cell_type": "code",
   "execution_count": 556,
   "id": "3af4f754",
   "metadata": {},
   "outputs": [
    {
     "data": {
      "text/html": [
       "<div>\n",
       "<style scoped>\n",
       "    .dataframe tbody tr th:only-of-type {\n",
       "        vertical-align: middle;\n",
       "    }\n",
       "\n",
       "    .dataframe tbody tr th {\n",
       "        vertical-align: top;\n",
       "    }\n",
       "\n",
       "    .dataframe thead th {\n",
       "        text-align: right;\n",
       "    }\n",
       "</style>\n",
       "<table border=\"1\" class=\"dataframe\">\n",
       "  <thead>\n",
       "    <tr style=\"text-align: right;\">\n",
       "      <th></th>\n",
       "      <th>select_eq_covid_avg</th>\n",
       "      <th>rus_covid_avg</th>\n",
       "    </tr>\n",
       "    <tr>\n",
       "      <th>Date</th>\n",
       "      <th></th>\n",
       "      <th></th>\n",
       "    </tr>\n",
       "  </thead>\n",
       "  <tbody>\n",
       "    <tr>\n",
       "      <th>2021-12-31</th>\n",
       "      <td>112.551546</td>\n",
       "      <td>97.170365</td>\n",
       "    </tr>\n",
       "    <tr>\n",
       "      <th>2021-12-30</th>\n",
       "      <td>111.847508</td>\n",
       "      <td>97.217330</td>\n",
       "    </tr>\n",
       "  </tbody>\n",
       "</table>\n",
       "</div>"
      ],
      "text/plain": [
       "            select_eq_covid_avg  rus_covid_avg\n",
       "Date                                          \n",
       "2021-12-31           112.551546      97.170365\n",
       "2021-12-30           111.847508      97.217330"
      ]
     },
     "execution_count": 556,
     "metadata": {},
     "output_type": "execute_result"
    }
   ],
   "source": [
    "covid_iwd.head(2)"
   ]
  },
  {
   "cell_type": "code",
   "execution_count": 557,
   "id": "5bab623f",
   "metadata": {},
   "outputs": [
    {
     "data": {
      "text/html": [
       "<div>\n",
       "<style scoped>\n",
       "    .dataframe tbody tr th:only-of-type {\n",
       "        vertical-align: middle;\n",
       "    }\n",
       "\n",
       "    .dataframe tbody tr th {\n",
       "        vertical-align: top;\n",
       "    }\n",
       "\n",
       "    .dataframe thead th {\n",
       "        text-align: right;\n",
       "    }\n",
       "</style>\n",
       "<table border=\"1\" class=\"dataframe\">\n",
       "  <thead>\n",
       "    <tr style=\"text-align: right;\">\n",
       "      <th></th>\n",
       "      <th>spy_covid_avg</th>\n",
       "    </tr>\n",
       "    <tr>\n",
       "      <th>Date</th>\n",
       "      <th></th>\n",
       "    </tr>\n",
       "  </thead>\n",
       "  <tbody>\n",
       "    <tr>\n",
       "      <th>2021-12-31</th>\n",
       "      <td>113.034313</td>\n",
       "    </tr>\n",
       "    <tr>\n",
       "      <th>2021-12-30</th>\n",
       "      <td>113.572550</td>\n",
       "    </tr>\n",
       "  </tbody>\n",
       "</table>\n",
       "</div>"
      ],
      "text/plain": [
       "            spy_covid_avg\n",
       "Date                     \n",
       "2021-12-31     113.034313\n",
       "2021-12-30     113.572550"
      ]
     },
     "execution_count": 557,
     "metadata": {},
     "output_type": "execute_result"
    }
   ],
   "source": [
    "spy_covid_df.head(2)"
   ]
  },
  {
   "cell_type": "code",
   "execution_count": 558,
   "id": "8128b82b",
   "metadata": {},
   "outputs": [
    {
     "name": "stdout",
     "output_type": "stream",
     "text": [
      " They are all traded on the same exchange, so this is certainly odd. The difference represents 1.1% extra on the SPY \n",
      " \n",
      " The first step is to find these 5\n"
     ]
    }
   ],
   "source": [
    "print(' They are all traded on the same exchange, so this is certainly odd. The difference represents',\n",
    "     \"{}%\".format(round((((len(spy_covid_df)-len(covid_iwd))/len(spy_covid_df)))*100,2)),'extra on the SPY','\\n','\\n',\n",
    "     'The first step is to find these',(len(spy_covid_df)-len(covid_iwd)))"
   ]
  },
  {
   "cell_type": "code",
   "execution_count": 559,
   "id": "3392c6c2",
   "metadata": {},
   "outputs": [
    {
     "data": {
      "text/html": [
       "<div>\n",
       "<style scoped>\n",
       "    .dataframe tbody tr th:only-of-type {\n",
       "        vertical-align: middle;\n",
       "    }\n",
       "\n",
       "    .dataframe tbody tr th {\n",
       "        vertical-align: top;\n",
       "    }\n",
       "\n",
       "    .dataframe thead th {\n",
       "        text-align: right;\n",
       "    }\n",
       "</style>\n",
       "<table border=\"1\" class=\"dataframe\">\n",
       "  <thead>\n",
       "    <tr style=\"text-align: right;\">\n",
       "      <th></th>\n",
       "      <th>Date</th>\n",
       "      <th>spy_covid_avg</th>\n",
       "    </tr>\n",
       "  </thead>\n",
       "  <tbody>\n",
       "    <tr>\n",
       "      <th>0</th>\n",
       "      <td>2021-12-31</td>\n",
       "      <td>113.034313</td>\n",
       "    </tr>\n",
       "  </tbody>\n",
       "</table>\n",
       "</div>"
      ],
      "text/plain": [
       "        Date  spy_covid_avg\n",
       "0 2021-12-31     113.034313"
      ]
     },
     "execution_count": 559,
     "metadata": {},
     "output_type": "execute_result"
    }
   ],
   "source": [
    "# setting up a side dataframe for exploration\n",
    "spy_covid_df_side = pd.DataFrame([])\n",
    "spy_covid_df_side = spy_covid_df.copy()\n",
    "\n",
    "# pulling out the Date index for more review\n",
    "spy_covid_df_side = spy_covid_df_side.reset_index()\n",
    "spy_covid_df_side.head(1)"
   ]
  },
  {
   "cell_type": "code",
   "execution_count": 560,
   "id": "34877b76",
   "metadata": {},
   "outputs": [
    {
     "data": {
      "text/html": [
       "<div>\n",
       "<style scoped>\n",
       "    .dataframe tbody tr th:only-of-type {\n",
       "        vertical-align: middle;\n",
       "    }\n",
       "\n",
       "    .dataframe tbody tr th {\n",
       "        vertical-align: top;\n",
       "    }\n",
       "\n",
       "    .dataframe thead th {\n",
       "        text-align: right;\n",
       "    }\n",
       "</style>\n",
       "<table border=\"1\" class=\"dataframe\">\n",
       "  <thead>\n",
       "    <tr style=\"text-align: right;\">\n",
       "      <th></th>\n",
       "      <th>Date</th>\n",
       "      <th>spy_covid_avg</th>\n",
       "      <th>date_dup</th>\n",
       "    </tr>\n",
       "  </thead>\n",
       "  <tbody>\n",
       "    <tr>\n",
       "      <th>0</th>\n",
       "      <td>2021-12-31</td>\n",
       "      <td>113.034313</td>\n",
       "      <td>False</td>\n",
       "    </tr>\n",
       "    <tr>\n",
       "      <th>1</th>\n",
       "      <td>2021-12-30</td>\n",
       "      <td>113.572550</td>\n",
       "      <td>False</td>\n",
       "    </tr>\n",
       "    <tr>\n",
       "      <th>2</th>\n",
       "      <td>2021-12-29</td>\n",
       "      <td>114.164611</td>\n",
       "      <td>False</td>\n",
       "    </tr>\n",
       "    <tr>\n",
       "      <th>3</th>\n",
       "      <td>2021-12-28</td>\n",
       "      <td>113.891007</td>\n",
       "      <td>False</td>\n",
       "    </tr>\n",
       "    <tr>\n",
       "      <th>4</th>\n",
       "      <td>2021-12-27</td>\n",
       "      <td>114.065934</td>\n",
       "      <td>False</td>\n",
       "    </tr>\n",
       "  </tbody>\n",
       "</table>\n",
       "</div>"
      ],
      "text/plain": [
       "        Date  spy_covid_avg  date_dup\n",
       "0 2021-12-31     113.034313     False\n",
       "1 2021-12-30     113.572550     False\n",
       "2 2021-12-29     114.164611     False\n",
       "3 2021-12-28     113.891007     False\n",
       "4 2021-12-27     114.065934     False"
      ]
     },
     "execution_count": 560,
     "metadata": {},
     "output_type": "execute_result"
    }
   ],
   "source": [
    "# checking for duplicates in the Data column\n",
    "spy_covid_df_side['date_dup'] = spy_covid_df_side['Date'].duplicated()\n",
    "spy_covid_df_side.head()"
   ]
  },
  {
   "cell_type": "code",
   "execution_count": 561,
   "id": "2f029a76",
   "metadata": {},
   "outputs": [
    {
     "data": {
      "text/plain": [
       "0"
      ]
     },
     "execution_count": 561,
     "metadata": {},
     "output_type": "execute_result"
    }
   ],
   "source": [
    "# checking if there are any duplicates here\n",
    "spy_covid_df_side['date_dup'].sum()"
   ]
  },
  {
   "cell_type": "code",
   "execution_count": 562,
   "id": "5083775b",
   "metadata": {},
   "outputs": [
    {
     "data": {
      "text/plain": [
       "14"
      ]
     },
     "execution_count": 562,
     "metadata": {},
     "output_type": "execute_result"
    }
   ],
   "source": [
    "# a bit odd but checking if there are any duplicates here\n",
    "spy_covid_df_side['pct_dup'] = spy_covid_df_side['spy_covid_avg'].duplicated()\n",
    "spy_covid_df_side['pct_dup'].sum()"
   ]
  },
  {
   "cell_type": "markdown",
   "id": "2e0f2f2a",
   "metadata": {},
   "source": [
    "Although duplicates in the `spy_covid_avg` column is a \"little\" odd, it certainly can happen. The duplicates would appear in the `Date` column to be the definitive observation but there are none.\n",
    "\n",
    "The next step is to identify the differences between the `spy_covid_df_side` & `covid_iwd` dataframes. This said, the `covid_iwd` dataframe needs a new name. I will setup a \"side\" dataframe before setting up the final one."
   ]
  },
  {
   "cell_type": "code",
   "execution_count": 563,
   "id": "f4ce5163",
   "metadata": {},
   "outputs": [
    {
     "data": {
      "text/html": [
       "<div>\n",
       "<style scoped>\n",
       "    .dataframe tbody tr th:only-of-type {\n",
       "        vertical-align: middle;\n",
       "    }\n",
       "\n",
       "    .dataframe tbody tr th {\n",
       "        vertical-align: top;\n",
       "    }\n",
       "\n",
       "    .dataframe thead th {\n",
       "        text-align: right;\n",
       "    }\n",
       "</style>\n",
       "<table border=\"1\" class=\"dataframe\">\n",
       "  <thead>\n",
       "    <tr style=\"text-align: right;\">\n",
       "      <th></th>\n",
       "      <th>Date</th>\n",
       "      <th>select_eq_covid_avg</th>\n",
       "      <th>rus_covid_avg</th>\n",
       "    </tr>\n",
       "  </thead>\n",
       "  <tbody>\n",
       "    <tr>\n",
       "      <th>0</th>\n",
       "      <td>2021-12-31</td>\n",
       "      <td>112.551546</td>\n",
       "      <td>97.170365</td>\n",
       "    </tr>\n",
       "    <tr>\n",
       "      <th>1</th>\n",
       "      <td>2021-12-30</td>\n",
       "      <td>111.847508</td>\n",
       "      <td>97.217330</td>\n",
       "    </tr>\n",
       "  </tbody>\n",
       "</table>\n",
       "</div>"
      ],
      "text/plain": [
       "        Date  select_eq_covid_avg  rus_covid_avg\n",
       "0 2021-12-31           112.551546      97.170365\n",
       "1 2021-12-30           111.847508      97.217330"
      ]
     },
     "execution_count": 563,
     "metadata": {},
     "output_type": "execute_result"
    }
   ],
   "source": [
    "# setting up the new side dataframe \n",
    "main_df_side = pd.DataFrame([])\n",
    "main_df_side = covid_iwd.copy()\n",
    "\n",
    "# resetting the index to also pull out the date\n",
    "main_df_side = main_df_side.reset_index()\n",
    "main_df_side.head(2)"
   ]
  },
  {
   "cell_type": "code",
   "execution_count": 564,
   "id": "1b7fe82d",
   "metadata": {},
   "outputs": [
    {
     "data": {
      "text/plain": [
       "False"
      ]
     },
     "execution_count": 564,
     "metadata": {},
     "output_type": "execute_result"
    }
   ],
   "source": [
    "# asking the obvious question\n",
    "spy_covid_df_side['Date'].equals(main_df_side['Date'])"
   ]
  },
  {
   "cell_type": "code",
   "execution_count": 565,
   "id": "49ffeda2",
   "metadata": {},
   "outputs": [
    {
     "data": {
      "text/plain": [
       "{Timestamp('2021-07-03 00:00:00'),\n",
       " Timestamp('2021-07-04 00:00:00'),\n",
       " Timestamp('2021-07-05 00:00:00'),\n",
       " Timestamp('2021-08-07 00:00:00'),\n",
       " Timestamp('2021-08-08 00:00:00')}"
      ]
     },
     "execution_count": 565,
     "metadata": {},
     "output_type": "execute_result"
    }
   ],
   "source": [
    "set(spy_covid_df_side.Date).symmetric_difference(main_df_side.Date)"
   ]
  },
  {
   "cell_type": "markdown",
   "id": "18e99404",
   "metadata": {},
   "source": [
    "Lets see what week days those are."
   ]
  },
  {
   "cell_type": "code",
   "execution_count": 566,
   "id": "30141131",
   "metadata": {},
   "outputs": [
    {
     "data": {
      "text/html": [
       "<div>\n",
       "<style scoped>\n",
       "    .dataframe tbody tr th:only-of-type {\n",
       "        vertical-align: middle;\n",
       "    }\n",
       "\n",
       "    .dataframe tbody tr th {\n",
       "        vertical-align: top;\n",
       "    }\n",
       "\n",
       "    .dataframe thead th {\n",
       "        text-align: right;\n",
       "    }\n",
       "</style>\n",
       "<table border=\"1\" class=\"dataframe\">\n",
       "  <thead>\n",
       "    <tr style=\"text-align: right;\">\n",
       "      <th></th>\n",
       "      <th>wk_day</th>\n",
       "      <th>weekday</th>\n",
       "    </tr>\n",
       "  </thead>\n",
       "  <tbody>\n",
       "    <tr>\n",
       "      <th>0</th>\n",
       "      <td>2021-07-05</td>\n",
       "      <td>0</td>\n",
       "    </tr>\n",
       "    <tr>\n",
       "      <th>1</th>\n",
       "      <td>2021-07-04</td>\n",
       "      <td>6</td>\n",
       "    </tr>\n",
       "    <tr>\n",
       "      <th>2</th>\n",
       "      <td>2021-08-07</td>\n",
       "      <td>5</td>\n",
       "    </tr>\n",
       "    <tr>\n",
       "      <th>3</th>\n",
       "      <td>2021-08-08</td>\n",
       "      <td>6</td>\n",
       "    </tr>\n",
       "    <tr>\n",
       "      <th>4</th>\n",
       "      <td>2021-07-03</td>\n",
       "      <td>5</td>\n",
       "    </tr>\n",
       "  </tbody>\n",
       "</table>\n",
       "</div>"
      ],
      "text/plain": [
       "      wk_day  weekday\n",
       "0 2021-07-05        0\n",
       "1 2021-07-04        6\n",
       "2 2021-08-07        5\n",
       "3 2021-08-08        6\n",
       "4 2021-07-03        5"
      ]
     },
     "execution_count": 566,
     "metadata": {},
     "output_type": "execute_result"
    }
   ],
   "source": [
    "# sending them to a set\n",
    "wd = set(spy_covid_df_side.Date).symmetric_difference(main_df_side.Date)\n",
    "\n",
    "# sending them to a dataframe\n",
    "wd_df = pd.DataFrame([wd]).T\n",
    "wd_df.columns = ['wk_day']\n",
    "wd_df['weekday'] = wd_df['wk_day'].dt.dayofweek\n",
    "wd_df"
   ]
  },
  {
   "cell_type": "markdown",
   "id": "dfa2ef2a",
   "metadata": {},
   "source": [
    "The **`pandas` datatime starts the week off on Monday as a 0, thus 5 & 6 are weekends** when trading doesn't happen.\n",
    "\n",
    "**All but 2021-07-05 can be deleted** but **I double confirmed that 2021-07-05 was a holiday; Independence Day in lieu of July 4th being a weekend.**\n",
    "\n",
    "Therefore, **all can be dropped.**"
   ]
  },
  {
   "cell_type": "code",
   "execution_count": 567,
   "id": "1934009b",
   "metadata": {},
   "outputs": [
    {
     "data": {
      "text/plain": [
       "455"
      ]
     },
     "execution_count": 567,
     "metadata": {},
     "output_type": "execute_result"
    }
   ],
   "source": [
    "len(spy_covid_df_side)"
   ]
  },
  {
   "cell_type": "code",
   "execution_count": 568,
   "id": "1870f7ee",
   "metadata": {},
   "outputs": [],
   "source": [
    "# a for loop is more appropriate but I just want the results\n",
    "spy_covid_df_side = spy_covid_df_side[spy_covid_df_side.Date != wd_df['wk_day'][0]]\n",
    "spy_covid_df_side = spy_covid_df_side[spy_covid_df_side.Date != wd_df['wk_day'][1]]\n",
    "spy_covid_df_side = spy_covid_df_side[spy_covid_df_side.Date != wd_df['wk_day'][2]]\n",
    "spy_covid_df_side = spy_covid_df_side[spy_covid_df_side.Date != wd_df['wk_day'][3]]\n",
    "spy_covid_df_side = spy_covid_df_side[spy_covid_df_side.Date != wd_df['wk_day'][4]]"
   ]
  },
  {
   "cell_type": "code",
   "execution_count": 569,
   "id": "2bb154ec",
   "metadata": {},
   "outputs": [
    {
     "data": {
      "text/plain": [
       "450"
      ]
     },
     "execution_count": 569,
     "metadata": {},
     "output_type": "execute_result"
    }
   ],
   "source": [
    "len(spy_covid_df_side)"
   ]
  },
  {
   "cell_type": "markdown",
   "id": "204fe3e4",
   "metadata": {},
   "source": [
    "Viola. Let's now bring them all together."
   ]
  },
  {
   "cell_type": "code",
   "execution_count": 570,
   "id": "f91bb08c",
   "metadata": {},
   "outputs": [
    {
     "data": {
      "text/html": [
       "<div>\n",
       "<style scoped>\n",
       "    .dataframe tbody tr th:only-of-type {\n",
       "        vertical-align: middle;\n",
       "    }\n",
       "\n",
       "    .dataframe tbody tr th {\n",
       "        vertical-align: top;\n",
       "    }\n",
       "\n",
       "    .dataframe thead th {\n",
       "        text-align: right;\n",
       "    }\n",
       "</style>\n",
       "<table border=\"1\" class=\"dataframe\">\n",
       "  <thead>\n",
       "    <tr style=\"text-align: right;\">\n",
       "      <th></th>\n",
       "      <th>select_eq_covid_avg</th>\n",
       "      <th>rus_covid_avg</th>\n",
       "    </tr>\n",
       "    <tr>\n",
       "      <th>Date</th>\n",
       "      <th></th>\n",
       "      <th></th>\n",
       "    </tr>\n",
       "  </thead>\n",
       "  <tbody>\n",
       "    <tr>\n",
       "      <th>2021-12-31</th>\n",
       "      <td>112.551546</td>\n",
       "      <td>97.170365</td>\n",
       "    </tr>\n",
       "  </tbody>\n",
       "</table>\n",
       "</div>"
      ],
      "text/plain": [
       "            select_eq_covid_avg  rus_covid_avg\n",
       "Date                                          \n",
       "2021-12-31           112.551546      97.170365"
      ]
     },
     "execution_count": 570,
     "metadata": {},
     "output_type": "execute_result"
    }
   ],
   "source": [
    "# remember this one?\n",
    "covid_iwd.head(1)"
   ]
  },
  {
   "cell_type": "code",
   "execution_count": 571,
   "id": "ffdc3fc6",
   "metadata": {},
   "outputs": [
    {
     "data": {
      "text/html": [
       "<div>\n",
       "<style scoped>\n",
       "    .dataframe tbody tr th:only-of-type {\n",
       "        vertical-align: middle;\n",
       "    }\n",
       "\n",
       "    .dataframe tbody tr th {\n",
       "        vertical-align: top;\n",
       "    }\n",
       "\n",
       "    .dataframe thead th {\n",
       "        text-align: right;\n",
       "    }\n",
       "</style>\n",
       "<table border=\"1\" class=\"dataframe\">\n",
       "  <thead>\n",
       "    <tr style=\"text-align: right;\">\n",
       "      <th></th>\n",
       "      <th>Date</th>\n",
       "      <th>spy_covid_avg</th>\n",
       "      <th>date_dup</th>\n",
       "      <th>pct_dup</th>\n",
       "    </tr>\n",
       "  </thead>\n",
       "  <tbody>\n",
       "    <tr>\n",
       "      <th>0</th>\n",
       "      <td>2021-12-31</td>\n",
       "      <td>113.034313</td>\n",
       "      <td>False</td>\n",
       "      <td>False</td>\n",
       "    </tr>\n",
       "  </tbody>\n",
       "</table>\n",
       "</div>"
      ],
      "text/plain": [
       "        Date  spy_covid_avg  date_dup  pct_dup\n",
       "0 2021-12-31     113.034313     False    False"
      ]
     },
     "execution_count": 571,
     "metadata": {},
     "output_type": "execute_result"
    }
   ],
   "source": [
    "spy_covid_df_side.head(1)"
   ]
  },
  {
   "cell_type": "code",
   "execution_count": 572,
   "id": "0fb17b89",
   "metadata": {},
   "outputs": [
    {
     "data": {
      "text/html": [
       "<div>\n",
       "<style scoped>\n",
       "    .dataframe tbody tr th:only-of-type {\n",
       "        vertical-align: middle;\n",
       "    }\n",
       "\n",
       "    .dataframe tbody tr th {\n",
       "        vertical-align: top;\n",
       "    }\n",
       "\n",
       "    .dataframe thead th {\n",
       "        text-align: right;\n",
       "    }\n",
       "</style>\n",
       "<table border=\"1\" class=\"dataframe\">\n",
       "  <thead>\n",
       "    <tr style=\"text-align: right;\">\n",
       "      <th></th>\n",
       "      <th>spy_covid_avg</th>\n",
       "    </tr>\n",
       "    <tr>\n",
       "      <th>Date</th>\n",
       "      <th></th>\n",
       "    </tr>\n",
       "  </thead>\n",
       "  <tbody>\n",
       "    <tr>\n",
       "      <th>2021-12-31</th>\n",
       "      <td>113.034313</td>\n",
       "    </tr>\n",
       "    <tr>\n",
       "      <th>2021-12-30</th>\n",
       "      <td>113.572550</td>\n",
       "    </tr>\n",
       "  </tbody>\n",
       "</table>\n",
       "</div>"
      ],
      "text/plain": [
       "            spy_covid_avg\n",
       "Date                     \n",
       "2021-12-31     113.034313\n",
       "2021-12-30     113.572550"
      ]
     },
     "execution_count": 572,
     "metadata": {},
     "output_type": "execute_result"
    }
   ],
   "source": [
    "# putting it together to be added w/ the covid_iwd dataframe\n",
    "spy_covid_df_side = spy_covid_df_side.set_index('Date')\n",
    "spy_covid_df_side = spy_covid_df_side.drop(columns=['date_dup','pct_dup'])\n",
    "spy_covid_df_side.head(2)"
   ]
  },
  {
   "cell_type": "markdown",
   "id": "7ee4ee2b",
   "metadata": {},
   "source": [
    "Now, all together."
   ]
  },
  {
   "cell_type": "code",
   "execution_count": 573,
   "id": "69277296",
   "metadata": {},
   "outputs": [
    {
     "data": {
      "text/html": [
       "<div>\n",
       "<style scoped>\n",
       "    .dataframe tbody tr th:only-of-type {\n",
       "        vertical-align: middle;\n",
       "    }\n",
       "\n",
       "    .dataframe tbody tr th {\n",
       "        vertical-align: top;\n",
       "    }\n",
       "\n",
       "    .dataframe thead th {\n",
       "        text-align: right;\n",
       "    }\n",
       "</style>\n",
       "<table border=\"1\" class=\"dataframe\">\n",
       "  <thead>\n",
       "    <tr style=\"text-align: right;\">\n",
       "      <th></th>\n",
       "      <th>select_eq_covid_avg</th>\n",
       "      <th>rus_covid_avg</th>\n",
       "      <th>spy_covid_avg</th>\n",
       "    </tr>\n",
       "    <tr>\n",
       "      <th>Date</th>\n",
       "      <th></th>\n",
       "      <th></th>\n",
       "      <th></th>\n",
       "    </tr>\n",
       "  </thead>\n",
       "  <tbody>\n",
       "    <tr>\n",
       "      <th>2021-12-31</th>\n",
       "      <td>112.551546</td>\n",
       "      <td>97.170365</td>\n",
       "      <td>113.034313</td>\n",
       "    </tr>\n",
       "    <tr>\n",
       "      <th>2021-12-30</th>\n",
       "      <td>111.847508</td>\n",
       "      <td>97.217330</td>\n",
       "      <td>113.572550</td>\n",
       "    </tr>\n",
       "    <tr>\n",
       "      <th>2021-12-29</th>\n",
       "      <td>112.768744</td>\n",
       "      <td>97.346484</td>\n",
       "      <td>114.164611</td>\n",
       "    </tr>\n",
       "  </tbody>\n",
       "</table>\n",
       "</div>"
      ],
      "text/plain": [
       "            select_eq_covid_avg  rus_covid_avg  spy_covid_avg\n",
       "Date                                                         \n",
       "2021-12-31           112.551546      97.170365     113.034313\n",
       "2021-12-30           111.847508      97.217330     113.572550\n",
       "2021-12-29           112.768744      97.346484     114.164611"
      ]
     },
     "execution_count": 573,
     "metadata": {},
     "output_type": "execute_result"
    }
   ],
   "source": [
    "df_main = pd.DataFrame([])\n",
    "df_main = covid_iwd.copy()\n",
    "df_main['spy_covid_avg'] = spy_covid_df_side['spy_covid_avg']\n",
    "df_main.head(3)"
   ]
  },
  {
   "cell_type": "markdown",
   "id": "38c081f8",
   "metadata": {},
   "source": [
    "Now for the visual"
   ]
  },
  {
   "cell_type": "code",
   "execution_count": 574,
   "id": "e39e8491",
   "metadata": {},
   "outputs": [
    {
     "data": {
      "image/png": "[encoded data removed]",
      "text/plain": [
       "<Figure size 1080x576 with 1 Axes>"
      ]
     },
     "metadata": {},
     "output_type": "display_data"
    }
   ],
   "source": [
    "sns.set(font_scale = 1.25)\n",
    "df_main_c = sns.lineplot(data=df_main).set(title='Comparing the Equities to both the SPY & Russell since Mar 23 2020',\n",
    "                                     xlabel='Date',ylabel='pct change in all')"
   ]
  },
  {
   "cell_type": "code",
   "execution_count": 575,
   "id": "a546ab0f",
   "metadata": {},
   "outputs": [
    {
     "name": "stdout",
     "output_type": "stream",
     "text": [
      " The selected equities performed as such; they ended the year \n",
      " \n",
      " 16% | Above Russell 1000 Value ETF \n",
      " 0% | More the SPY\n"
     ]
    }
   ],
   "source": [
    "rus_outcome = round(((df_main['select_eq_covid_avg'][0] / df_main['rus_covid_avg'][0])-1)*100)\n",
    "spy_outcome = round(((df_main['select_eq_covid_avg'][0] / df_main['spy_covid_avg'][0])-1)*100)\n",
    "\n",
    "print(' The selected equities performed as such; they ended the year','\\n','\\n',\n",
    "     \"{}%\".format(rus_outcome),'| Above Russell 1000 Value ETF','\\n',\n",
    "     \"{}%\".format(spy_outcome),'| More the SPY')"
   ]
  },
  {
   "cell_type": "code",
   "execution_count": null,
   "id": "6fdb279b",
   "metadata": {},
   "outputs": [],
   "source": []
  },
  {
   "cell_type": "markdown",
   "id": "a305dac2",
   "metadata": {},
   "source": [
    "**Conclusion**"
   ]
  },
  {
   "cell_type": "code",
   "execution_count": 576,
   "id": "5a831059",
   "metadata": {},
   "outputs": [
    {
     "name": "stdout",
     "output_type": "stream",
     "text": [
      "A recap of what has been witness herein: \n",
      " \n",
      " 95.0% | Above the SPY since its inception in 1993-02-01 \n",
      " 256.0% | Above the IWD since its inception in 2000-05-30 \n",
      " \n",
      " 0% |  Less the SPY since the COVID bottom in 23 Mar 2020 \n",
      " 16% | Above the IWD since the COVID bottom in 23 Mar 2020\n"
     ]
    }
   ],
   "source": [
    "# pulling in the start date for the SPY & IWD\n",
    "vasp_end_d = vasp.reset_index().copy()\n",
    "vasp_end_date = str(vasp_end_d.Date[len(vasp)-1])\n",
    "russ_end_d = r_v_df.reset_index().copy()\n",
    "russ_end_date = str(russ_end_d.Date[len(russ_end_d)-1])\n",
    "\n",
    "print('A recap of what has been witness herein:','\\n','\\n',\n",
    "     \"{}%\".format(round(((vasp['vasp_avg'][0] / vasp['spy_pct'][0])-1)*100,0)),\n",
    "      '| Above the SPY since its inception in',vasp_end_date[0:10],'\\n',\n",
    "     \"{}%\".format(round(((varv['varv_avg'][0] / varv['rus_pct'][0])-1)*100,0)),\n",
    "      '| Above the IWD since its inception in',russ_end_date[0:10],\n",
    "     '\\n','\\n',\n",
    "     \"{}%\".format(spy_outcome),'|  Less the SPY since the COVID bottom in 23 Mar 2020','\\n',\n",
    "      \"{}%\".format(rus_outcome),'| Above the IWD since the COVID bottom in 23 Mar 2020'\n",
    "     )"
   ]
  },
  {
   "cell_type": "markdown",
   "id": "1939d652",
   "metadata": {},
   "source": [
    "This is fairly impressive. Please note, the Selected Equities:\n",
    "\n",
    "    * Performed better than the IWD throughout the COVID period\n",
    "    * ~40% of the time better than the SPY but certainly ended the year lower during the the COVID period\n",
    "\n",
    "Further to this, all three pay dividends. I would like to review how this affects the above results. In addition, a closer look at what drove the Selected Equities from both a Equity & Indsutry perspective. I could also do the same for the `SPY` & `IWD`."
   ]
  },
  {
   "cell_type": "code",
   "execution_count": 577,
   "id": "7b032825",
   "metadata": {},
   "outputs": [
    {
     "name": "stdout",
     "output_type": "stream",
     "text": [
      "The only two (2) successes I can take from this exercise are as below: \n",
      " \n",
      " 1. I found 46 those that never decrease their dividends since 1990 \n",
      " 2. If you want to invest in Value, there are 46 equities that can give you a better return than the IWD & SPY \n",
      "    throughout their respective tenures\n"
     ]
    }
   ],
   "source": [
    "print('The only two (2) successes I can take from this exercise are as below:','\\n','\\n',\n",
    "     '1. I found',len(df_l_yr),'those that never decrease their dividends since 1990','\\n',\n",
    "     '2. If you want to invest in Value, there are',len(df_l_yr),'equities that can give you a better return than the IWD & SPY',\n",
    "     '\\n','   throughout their respective tenures')"
   ]
  },
  {
   "cell_type": "code",
   "execution_count": null,
   "id": "595440a7",
   "metadata": {},
   "outputs": [],
   "source": []
  },
  {
   "cell_type": "code",
   "execution_count": null,
   "id": "58b1417a",
   "metadata": {},
   "outputs": [],
   "source": []
  },
  {
   "cell_type": "code",
   "execution_count": null,
   "id": "95db0335",
   "metadata": {},
   "outputs": [],
   "source": []
  },
  {
   "cell_type": "code",
   "execution_count": null,
   "id": "ad471ff5",
   "metadata": {},
   "outputs": [],
   "source": []
  },
  {
   "cell_type": "code",
   "execution_count": null,
   "id": "85be21d5",
   "metadata": {},
   "outputs": [],
   "source": []
  },
  {
   "cell_type": "code",
   "execution_count": null,
   "id": "96d513fb",
   "metadata": {},
   "outputs": [],
   "source": []
  },
  {
   "cell_type": "code",
   "execution_count": null,
   "id": "b1870409",
   "metadata": {},
   "outputs": [],
   "source": []
  }
 ],
 "metadata": {
  "kernelspec": {
   "display_name": "Python 3",
   "language": "python",
   "name": "python3"
  },
  "language_info": {
   "codemirror_mode": {
    "name": "ipython",
    "version": 3
   },
   "file_extension": ".py",
   "mimetype": "text/x-python",
   "name": "python",
   "nbconvert_exporter": "python",
   "pygments_lexer": "ipython3",
   "version": "3.8.10"
  },
  "varInspector": {
   "cols": {
    "lenName": 16,
    "lenType": 16,
    "lenVar": 40
   },
   "kernels_config": {
    "python": {
     "delete_cmd_postfix": "",
     "delete_cmd_prefix": "del ",
     "library": "var_list.py",
     "varRefreshCmd": "print(var_dic_list())"
    },
    "r": {
     "delete_cmd_postfix": ") ",
     "delete_cmd_prefix": "rm(",
     "library": "var_list.r",
     "varRefreshCmd": "cat(var_dic_list()) "
    }
   },
   "types_to_exclude": [
    "module",
    "function",
    "builtin_function_or_method",
    "instance",
    "_Feature"
   ],
   "window_display": false
  }
 },
 "nbformat": 4,
 "nbformat_minor": 5
}
